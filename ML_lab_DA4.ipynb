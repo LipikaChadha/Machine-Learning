{
 "cells": [
  {
   "cell_type": "code",
   "execution_count": 2,
   "id": "5434f9d8",
   "metadata": {},
   "outputs": [],
   "source": [
    "from sklearn import tree"
   ]
  },
  {
   "cell_type": "code",
   "execution_count": 20,
   "id": "55e4d16c",
   "metadata": {},
   "outputs": [
    {
     "data": {
      "image/png": "[encoded data removed]",
      "text/plain": [
       "<Figure size 432x288 with 1 Axes>"
      ]
     },
     "metadata": {
      "needs_background": "light"
     },
     "output_type": "display_data"
    }
   ],
   "source": [
    "import numpy as np\n",
    "import matplotlib.pyplot as plt\n",
    "from sklearn.cluster import AgglomerativeClustering\n",
    "from scipy.spatial.distance import pdist, squareform\n",
    "\n",
    "# generate some random data\n",
    "np.random.seed(123)\n",
    "X = np.random.randn(50, 2)\n",
    "\n",
    "# calculate the pairwise distances between the data points\n",
    "distances = pdist(X)\n",
    "\n",
    "# perform hierarchical clustering using the complete linkage method\n",
    "agg_clustering = AgglomerativeClustering(n_clusters=2, linkage='complete', affinity='euclidean')\n",
    "agg_clustering.fit(X)\n",
    "\n",
    "# plot the results\n",
    "plt.scatter(X[:, 0], X[:, 1], c=agg_clustering.labels_, cmap='rainbow')\n",
    "plt.title('Hierarchical Clustering')\n",
    "plt.show()\n"
   ]
  },
  {
   "cell_type": "code",
   "execution_count": 21,
   "id": "ed42d9f0",
   "metadata": {},
   "outputs": [
    {
     "data": {
      "text/plain": [
       "array([[-1.0856306 ,  0.99734545],\n",
       "       [ 0.2829785 , -1.50629471],\n",
       "       [-0.57860025,  1.65143654],\n",
       "       [-2.42667924, -0.42891263],\n",
       "       [ 1.26593626, -0.8667404 ],\n",
       "       [-0.67888615, -0.09470897],\n",
       "       [ 1.49138963, -0.638902  ],\n",
       "       [-0.44398196, -0.43435128],\n",
       "       [ 2.20593008,  2.18678609],\n",
       "       [ 1.0040539 ,  0.3861864 ],\n",
       "       [ 0.73736858,  1.49073203],\n",
       "       [-0.93583387,  1.17582904],\n",
       "       [-1.25388067, -0.6377515 ],\n",
       "       [ 0.9071052 , -1.4286807 ],\n",
       "       [-0.14006872, -0.8617549 ],\n",
       "       [-0.25561937, -2.79858911],\n",
       "       [-1.7715331 , -0.69987723],\n",
       "       [ 0.92746243, -0.17363568],\n",
       "       [ 0.00284592,  0.68822271],\n",
       "       [-0.87953634,  0.28362732],\n",
       "       [-0.80536652, -1.72766949],\n",
       "       [-0.39089979,  0.57380586],\n",
       "       [ 0.33858905, -0.01183049],\n",
       "       [ 2.39236527,  0.41291216],\n",
       "       [ 0.97873601,  2.23814334],\n",
       "       [-1.29408532, -1.03878821],\n",
       "       [ 1.74371223, -0.79806274],\n",
       "       [ 0.02968323,  1.06931597],\n",
       "       [ 0.89070639,  1.75488618],\n",
       "       [ 1.49564414,  1.06939267],\n",
       "       [-0.77270871,  0.79486267],\n",
       "       [ 0.31427199, -1.32626546],\n",
       "       [ 1.41729905,  0.80723653],\n",
       "       [ 0.04549008, -0.23309206],\n",
       "       [-1.19830114,  0.19952407],\n",
       "       [ 0.46843912, -0.83115498],\n",
       "       [ 1.16220405, -1.09720305],\n",
       "       [-2.12310035,  1.03972709],\n",
       "       [-0.40336604, -0.12602959],\n",
       "       [-0.83751672, -1.60596276],\n",
       "       [ 1.25523737, -0.68886898],\n",
       "       [ 1.66095249,  0.80730819],\n",
       "       [-0.31475815, -1.0859024 ],\n",
       "       [-0.73246199, -1.21252313],\n",
       "       [ 2.08711336,  0.16444123],\n",
       "       [ 1.15020554, -1.26735205],\n",
       "       [ 0.18103513,  1.17786194],\n",
       "       [-0.33501076,  1.03111446],\n",
       "       [-1.08456791, -1.36347154],\n",
       "       [ 0.37940061, -0.37917643]])"
      ]
     },
     "execution_count": 21,
     "metadata": {},
     "output_type": "execute_result"
    }
   ],
   "source": [
    "X"
   ]
  },
  {
   "cell_type": "markdown",
   "id": "e7dff4b9",
   "metadata": {},
   "source": [
    "Hierarchal Clustering"
   ]
  },
  {
   "cell_type": "code",
   "execution_count": 10,
   "id": "25f02ba9",
   "metadata": {},
   "outputs": [],
   "source": [
    "#Importing necessary libraries\n",
    "import numpy as np\n",
    "import pandas as pd\n",
    "import matplotlib.pyplot as plt\n",
    "import seaborn as sns\n",
    "%matplotlib inline"
   ]
  },
  {
   "cell_type": "code",
   "execution_count": 11,
   "id": "e7c5709a",
   "metadata": {},
   "outputs": [],
   "source": [
    "from sklearn.preprocessing import StandardScaler\n",
    "from sklearn.cluster import AgglomerativeClustering\n",
    "from scipy.cluster.hierarchy import dendrogram, linkage"
   ]
  },
  {
   "cell_type": "code",
   "execution_count": 12,
   "id": "823d4537",
   "metadata": {},
   "outputs": [],
   "source": [
    "# Load the dataset\n",
    "df = pd.read_csv('Mall_Customers.csv')"
   ]
  },
  {
   "cell_type": "code",
   "execution_count": 13,
   "id": "3aa8207c",
   "metadata": {},
   "outputs": [
    {
     "name": "stdout",
     "output_type": "stream",
     "text": [
      "   CustomerID   Genre  Age  Annual Income (k$)  Spending Score (1-100)\n",
      "0           1    Male   19                  15                      39\n",
      "1           2    Male   21                  15                      81\n",
      "2           3  Female   20                  16                       6\n",
      "3           4  Female   23                  16                      77\n",
      "4           5  Female   31                  17                      40\n"
     ]
    }
   ],
   "source": [
    "print(df.head())"
   ]
  },
  {
   "cell_type": "code",
   "execution_count": 14,
   "id": "fc000916",
   "metadata": {},
   "outputs": [
    {
     "name": "stdout",
     "output_type": "stream",
     "text": [
      "       CustomerID         Age  Annual Income (k$)  Spending Score (1-100)\n",
      "count  200.000000  200.000000          200.000000              200.000000\n",
      "mean   100.500000   38.850000           60.560000               50.200000\n",
      "std     57.879185   13.969007           26.264721               25.823522\n",
      "min      1.000000   18.000000           15.000000                1.000000\n",
      "25%     50.750000   28.750000           41.500000               34.750000\n",
      "50%    100.500000   36.000000           61.500000               50.000000\n",
      "75%    150.250000   49.000000           78.000000               73.000000\n",
      "max    200.000000   70.000000          137.000000               99.000000\n"
     ]
    }
   ],
   "source": [
    "print(df.describe())"
   ]
  },
  {
   "cell_type": "code",
   "execution_count": 15,
   "id": "27783f92",
   "metadata": {},
   "outputs": [
    {
     "name": "stdout",
     "output_type": "stream",
     "text": [
      "<class 'pandas.core.frame.DataFrame'>\n",
      "RangeIndex: 200 entries, 0 to 199\n",
      "Data columns (total 5 columns):\n",
      " #   Column                  Non-Null Count  Dtype \n",
      "---  ------                  --------------  ----- \n",
      " 0   CustomerID              200 non-null    int64 \n",
      " 1   Genre                   200 non-null    object\n",
      " 2   Age                     200 non-null    int64 \n",
      " 3   Annual Income (k$)      200 non-null    int64 \n",
      " 4   Spending Score (1-100)  200 non-null    int64 \n",
      "dtypes: int64(4), object(1)\n",
      "memory usage: 7.9+ KB\n",
      "None\n"
     ]
    }
   ],
   "source": [
    "print(df.info())"
   ]
  },
  {
   "cell_type": "code",
   "execution_count": 17,
   "id": "de35c825",
   "metadata": {},
   "outputs": [
    {
     "data": {
      "text/plain": [
       "array([[ 15,  39],\n",
       "       [ 15,  81],\n",
       "       [ 16,   6],\n",
       "       [ 16,  77],\n",
       "       [ 17,  40],\n",
       "       [ 17,  76],\n",
       "       [ 18,   6],\n",
       "       [ 18,  94],\n",
       "       [ 19,   3],\n",
       "       [ 19,  72],\n",
       "       [ 19,  14],\n",
       "       [ 19,  99],\n",
       "       [ 20,  15],\n",
       "       [ 20,  77],\n",
       "       [ 20,  13],\n",
       "       [ 20,  79],\n",
       "       [ 21,  35],\n",
       "       [ 21,  66],\n",
       "       [ 23,  29],\n",
       "       [ 23,  98],\n",
       "       [ 24,  35],\n",
       "       [ 24,  73],\n",
       "       [ 25,   5],\n",
       "       [ 25,  73],\n",
       "       [ 28,  14],\n",
       "       [ 28,  82],\n",
       "       [ 28,  32],\n",
       "       [ 28,  61],\n",
       "       [ 29,  31],\n",
       "       [ 29,  87],\n",
       "       [ 30,   4],\n",
       "       [ 30,  73],\n",
       "       [ 33,   4],\n",
       "       [ 33,  92],\n",
       "       [ 33,  14],\n",
       "       [ 33,  81],\n",
       "       [ 34,  17],\n",
       "       [ 34,  73],\n",
       "       [ 37,  26],\n",
       "       [ 37,  75],\n",
       "       [ 38,  35],\n",
       "       [ 38,  92],\n",
       "       [ 39,  36],\n",
       "       [ 39,  61],\n",
       "       [ 39,  28],\n",
       "       [ 39,  65],\n",
       "       [ 40,  55],\n",
       "       [ 40,  47],\n",
       "       [ 40,  42],\n",
       "       [ 40,  42],\n",
       "       [ 42,  52],\n",
       "       [ 42,  60],\n",
       "       [ 43,  54],\n",
       "       [ 43,  60],\n",
       "       [ 43,  45],\n",
       "       [ 43,  41],\n",
       "       [ 44,  50],\n",
       "       [ 44,  46],\n",
       "       [ 46,  51],\n",
       "       [ 46,  46],\n",
       "       [ 46,  56],\n",
       "       [ 46,  55],\n",
       "       [ 47,  52],\n",
       "       [ 47,  59],\n",
       "       [ 48,  51],\n",
       "       [ 48,  59],\n",
       "       [ 48,  50],\n",
       "       [ 48,  48],\n",
       "       [ 48,  59],\n",
       "       [ 48,  47],\n",
       "       [ 49,  55],\n",
       "       [ 49,  42],\n",
       "       [ 50,  49],\n",
       "       [ 50,  56],\n",
       "       [ 54,  47],\n",
       "       [ 54,  54],\n",
       "       [ 54,  53],\n",
       "       [ 54,  48],\n",
       "       [ 54,  52],\n",
       "       [ 54,  42],\n",
       "       [ 54,  51],\n",
       "       [ 54,  55],\n",
       "       [ 54,  41],\n",
       "       [ 54,  44],\n",
       "       [ 54,  57],\n",
       "       [ 54,  46],\n",
       "       [ 57,  58],\n",
       "       [ 57,  55],\n",
       "       [ 58,  60],\n",
       "       [ 58,  46],\n",
       "       [ 59,  55],\n",
       "       [ 59,  41],\n",
       "       [ 60,  49],\n",
       "       [ 60,  40],\n",
       "       [ 60,  42],\n",
       "       [ 60,  52],\n",
       "       [ 60,  47],\n",
       "       [ 60,  50],\n",
       "       [ 61,  42],\n",
       "       [ 61,  49],\n",
       "       [ 62,  41],\n",
       "       [ 62,  48],\n",
       "       [ 62,  59],\n",
       "       [ 62,  55],\n",
       "       [ 62,  56],\n",
       "       [ 62,  42],\n",
       "       [ 63,  50],\n",
       "       [ 63,  46],\n",
       "       [ 63,  43],\n",
       "       [ 63,  48],\n",
       "       [ 63,  52],\n",
       "       [ 63,  54],\n",
       "       [ 64,  42],\n",
       "       [ 64,  46],\n",
       "       [ 65,  48],\n",
       "       [ 65,  50],\n",
       "       [ 65,  43],\n",
       "       [ 65,  59],\n",
       "       [ 67,  43],\n",
       "       [ 67,  57],\n",
       "       [ 67,  56],\n",
       "       [ 67,  40],\n",
       "       [ 69,  58],\n",
       "       [ 69,  91],\n",
       "       [ 70,  29],\n",
       "       [ 70,  77],\n",
       "       [ 71,  35],\n",
       "       [ 71,  95],\n",
       "       [ 71,  11],\n",
       "       [ 71,  75],\n",
       "       [ 71,   9],\n",
       "       [ 71,  75],\n",
       "       [ 72,  34],\n",
       "       [ 72,  71],\n",
       "       [ 73,   5],\n",
       "       [ 73,  88],\n",
       "       [ 73,   7],\n",
       "       [ 73,  73],\n",
       "       [ 74,  10],\n",
       "       [ 74,  72],\n",
       "       [ 75,   5],\n",
       "       [ 75,  93],\n",
       "       [ 76,  40],\n",
       "       [ 76,  87],\n",
       "       [ 77,  12],\n",
       "       [ 77,  97],\n",
       "       [ 77,  36],\n",
       "       [ 77,  74],\n",
       "       [ 78,  22],\n",
       "       [ 78,  90],\n",
       "       [ 78,  17],\n",
       "       [ 78,  88],\n",
       "       [ 78,  20],\n",
       "       [ 78,  76],\n",
       "       [ 78,  16],\n",
       "       [ 78,  89],\n",
       "       [ 78,   1],\n",
       "       [ 78,  78],\n",
       "       [ 78,   1],\n",
       "       [ 78,  73],\n",
       "       [ 79,  35],\n",
       "       [ 79,  83],\n",
       "       [ 81,   5],\n",
       "       [ 81,  93],\n",
       "       [ 85,  26],\n",
       "       [ 85,  75],\n",
       "       [ 86,  20],\n",
       "       [ 86,  95],\n",
       "       [ 87,  27],\n",
       "       [ 87,  63],\n",
       "       [ 87,  13],\n",
       "       [ 87,  75],\n",
       "       [ 87,  10],\n",
       "       [ 87,  92],\n",
       "       [ 88,  13],\n",
       "       [ 88,  86],\n",
       "       [ 88,  15],\n",
       "       [ 88,  69],\n",
       "       [ 93,  14],\n",
       "       [ 93,  90],\n",
       "       [ 97,  32],\n",
       "       [ 97,  86],\n",
       "       [ 98,  15],\n",
       "       [ 98,  88],\n",
       "       [ 99,  39],\n",
       "       [ 99,  97],\n",
       "       [101,  24],\n",
       "       [101,  68],\n",
       "       [103,  17],\n",
       "       [103,  85],\n",
       "       [103,  23],\n",
       "       [103,  69],\n",
       "       [113,   8],\n",
       "       [113,  91],\n",
       "       [120,  16],\n",
       "       [120,  79],\n",
       "       [126,  28],\n",
       "       [126,  74],\n",
       "       [137,  18],\n",
       "       [137,  83]], dtype=int64)"
      ]
     },
     "execution_count": 17,
     "metadata": {},
     "output_type": "execute_result"
    }
   ],
   "source": [
    "X = df.iloc[:, 3:].values\n",
    "X"
   ]
  },
  {
   "cell_type": "code",
   "execution_count": 18,
   "id": "d1ad85e8",
   "metadata": {},
   "outputs": [
    {
     "data": {
      "text/plain": [
       "array([ 15,  15,  16,  16,  17,  17,  18,  18,  19,  19,  19,  19,  20,\n",
       "        20,  20,  20,  21,  21,  23,  23,  24,  24,  25,  25,  28,  28,\n",
       "        28,  28,  29,  29,  30,  30,  33,  33,  33,  33,  34,  34,  37,\n",
       "        37,  38,  38,  39,  39,  39,  39,  40,  40,  40,  40,  42,  42,\n",
       "        43,  43,  43,  43,  44,  44,  46,  46,  46,  46,  47,  47,  48,\n",
       "        48,  48,  48,  48,  48,  49,  49,  50,  50,  54,  54,  54,  54,\n",
       "        54,  54,  54,  54,  54,  54,  54,  54,  57,  57,  58,  58,  59,\n",
       "        59,  60,  60,  60,  60,  60,  60,  61,  61,  62,  62,  62,  62,\n",
       "        62,  62,  63,  63,  63,  63,  63,  63,  64,  64,  65,  65,  65,\n",
       "        65,  67,  67,  67,  67,  69,  69,  70,  70,  71,  71,  71,  71,\n",
       "        71,  71,  72,  72,  73,  73,  73,  73,  74,  74,  75,  75,  76,\n",
       "        76,  77,  77,  77,  77,  78,  78,  78,  78,  78,  78,  78,  78,\n",
       "        78,  78,  78,  78,  79,  79,  81,  81,  85,  85,  86,  86,  87,\n",
       "        87,  87,  87,  87,  87,  88,  88,  88,  88,  93,  93,  97,  97,\n",
       "        98,  98,  99,  99, 101, 101, 103, 103, 103, 103, 113, 113, 120,\n",
       "       120, 126, 126, 137, 137], dtype=int64)"
      ]
     },
     "execution_count": 18,
     "metadata": {},
     "output_type": "execute_result"
    }
   ],
   "source": [
    "X[:, 0]"
   ]
  },
  {
   "cell_type": "code",
   "execution_count": 50,
   "id": "269538cc",
   "metadata": {},
   "outputs": [],
   "source": [
    "# standardize the data\n",
    "scaler = StandardScaler()\n",
    "X_std = scaler.fit_transform(X)"
   ]
  },
  {
   "cell_type": "code",
   "execution_count": 51,
   "id": "8f4f32b0",
   "metadata": {},
   "outputs": [
    {
     "data": {
      "image/png": "[encoded data removed]",
      "text/plain": [
       "<Figure size 432x288 with 1 Axes>"
      ]
     },
     "metadata": {
      "needs_background": "light"
     },
     "output_type": "display_data"
    }
   ],
   "source": [
    "# plot data\n",
    "plt.scatter(X[:, 0], X[:, 1], c='white', marker='o', edgecolor='black', s=50)\n",
    "plt.grid()\n",
    "plt.tight_layout()\n",
    "plt.show()"
   ]
  },
  {
   "cell_type": "code",
   "execution_count": 52,
   "id": "e539d236",
   "metadata": {},
   "outputs": [],
   "source": [
    "# generate linkage matrix\n",
    "linked = linkage(X_std, 'ward')"
   ]
  },
  {
   "cell_type": "code",
   "execution_count": 53,
   "id": "cefd3ed5",
   "metadata": {},
   "outputs": [
    {
     "data": {
      "image/png": "[encoded data removed]",
      "text/plain": [
       "<Figure size 720x360 with 1 Axes>"
      ]
     },
     "metadata": {
      "needs_background": "light"
     },
     "output_type": "display_data"
    }
   ],
   "source": [
    "# plot dendrogram\n",
    "plt.figure(figsize=(10, 5))\n",
    "dendrogram(linked, orientation='top', distance_sort='descending', show_leaf_counts=True)\n",
    "plt.xlabel('sample index')\n",
    "plt.ylabel('distance')\n",
    "plt.tight_layout()\n",
    "plt.show()"
   ]
  },
  {
   "cell_type": "markdown",
   "id": "ea70194f",
   "metadata": {},
   "source": [
    "Evaluating ML Model on balanced and unbalanced datasets"
   ]
  },
  {
   "cell_type": "code",
   "execution_count": 6,
   "id": "831d79e8",
   "metadata": {},
   "outputs": [],
   "source": [
    "#Importing necessary libraries\n",
    "from sklearn.datasets import make_classification\n",
    "from sklearn.model_selection import train_test_split\n",
    "from sklearn.ensemble import RandomForestClassifier\n",
    "from sklearn.metrics import accuracy_score, f1_score, confusion_matrix"
   ]
  },
  {
   "cell_type": "code",
   "execution_count": 7,
   "id": "91eb3904",
   "metadata": {},
   "outputs": [],
   "source": [
    "# Generating balanced dataset\n",
    "X_bal, y_bal = make_classification(n_samples=1000, n_features=10, n_classes=2, weights=[0.5, 0.5], random_state=42)\n",
    "X_bal_train, X_bal_test, y_bal_train, y_bal_test = train_test_split(X_bal, y_bal, test_size=0.2, random_state=42)"
   ]
  },
  {
   "cell_type": "code",
   "execution_count": 8,
   "id": "e2ced808",
   "metadata": {},
   "outputs": [],
   "source": [
    "# Generating unbalanced dataset\n",
    "X_unbal, y_unbal = make_classification(n_samples=1000, n_features=10, n_classes=2, weights=[0.9, 0.1], random_state=42)\n",
    "X_unbal_train, X_unbal_test, y_unbal_train, y_unbal_test = train_test_split(X_unbal, y_unbal, test_size=0.2, random_state=42)"
   ]
  },
  {
   "cell_type": "code",
   "execution_count": 9,
   "id": "ca23a0e4",
   "metadata": {},
   "outputs": [
    {
     "name": "stdout",
     "output_type": "stream",
     "text": [
      "Balanced Dataset:\n",
      "Accuracy: 0.88\n",
      "F1-Score: 0.888888888888889\n",
      "Confusion Matrix:\n",
      " [[80  9]\n",
      " [15 96]]\n"
     ]
    }
   ],
   "source": [
    "# Training and evaluating the model on the balanced dataset\n",
    "rf_bal = RandomForestClassifier(random_state=42)\n",
    "rf_bal.fit(X_bal_train, y_bal_train)\n",
    "y_bal_pred = rf_bal.predict(X_bal_test)\n",
    "print(\"Balanced Dataset:\")\n",
    "print(\"Accuracy:\", accuracy_score(y_bal_test, y_bal_pred))\n",
    "print(\"F1-Score:\", f1_score(y_bal_test, y_bal_pred))\n",
    "print(\"Confusion Matrix:\\n\", confusion_matrix(y_bal_test, y_bal_pred))"
   ]
  },
  {
   "cell_type": "code",
   "execution_count": 10,
   "id": "f658cec6",
   "metadata": {},
   "outputs": [
    {
     "name": "stdout",
     "output_type": "stream",
     "text": [
      "Unbalanced Dataset:\n",
      "Accuracy: 0.94\n",
      "F1-Score: 0.7142857142857143\n",
      "Confusion Matrix:\n",
      " [[173   2]\n",
      " [ 10  15]]\n"
     ]
    }
   ],
   "source": [
    "# Training and evaluating the model on the unbalanced dataset\n",
    "rf_unbal = RandomForestClassifier(random_state=42)\n",
    "rf_unbal.fit(X_unbal_train, y_unbal_train)\n",
    "y_unbal_pred = rf_unbal.predict(X_unbal_test)\n",
    "print(\"Unbalanced Dataset:\")\n",
    "print(\"Accuracy:\", accuracy_score(y_unbal_test, y_unbal_pred))\n",
    "print(\"F1-Score:\", f1_score(y_unbal_test, y_unbal_pred))\n",
    "print(\"Confusion Matrix:\\n\", confusion_matrix(y_unbal_test, y_unbal_pred))"
   ]
  },
  {
   "cell_type": "markdown",
   "id": "13c4ad13",
   "metadata": {},
   "source": [
    "K Means Clustering"
   ]
  },
  {
   "cell_type": "code",
   "execution_count": 11,
   "id": "446ce59b",
   "metadata": {},
   "outputs": [],
   "source": [
    "#Importing necessary libraries\n",
    "from sklearn.datasets import load_iris\n",
    "from sklearn.cluster import KMeans\n",
    "import matplotlib.pyplot as plt"
   ]
  },
  {
   "cell_type": "code",
   "execution_count": 12,
   "id": "c7e48d14",
   "metadata": {},
   "outputs": [],
   "source": [
    "#Loading the iris dataset\n",
    "iris = load_iris()\n",
    "X = iris.data"
   ]
  },
  {
   "cell_type": "code",
   "execution_count": 13,
   "id": "496ed4ed",
   "metadata": {},
   "outputs": [],
   "source": [
    "#Running K-means clustering with 3 clusters\n",
    "kmeans = KMeans(n_clusters=3, random_state=42).fit(X)"
   ]
  },
  {
   "cell_type": "code",
   "execution_count": 14,
   "id": "ab7f616b",
   "metadata": {},
   "outputs": [
    {
     "data": {
      "image/png": "[encoded data removed]",
      "text/plain": [
       "<Figure size 432x288 with 1 Axes>"
      ]
     },
     "metadata": {
      "needs_background": "light"
     },
     "output_type": "display_data"
    }
   ],
   "source": [
    "# Plotting the clusters\n",
    "plt.scatter(X[:, 0], X[:, 1], c=kmeans.labels_, cmap='viridis')\n",
    "plt.scatter(kmeans.cluster_centers_[:, 0], kmeans.cluster_centers_[:, 1], marker='x', s=200, linewidths=3, color='r')\n",
    "plt.xlabel(iris.feature_names[0])\n",
    "plt.ylabel(iris.feature_names[1])\n",
    "plt.title(\"K-Means Clustering with 3 Clusters\")\n",
    "plt.show()"
   ]
  },
  {
   "cell_type": "markdown",
   "id": "cd042063",
   "metadata": {},
   "source": [
    "K Modes"
   ]
  },
  {
   "cell_type": "code",
   "execution_count": 1,
   "id": "b99863eb",
   "metadata": {},
   "outputs": [],
   "source": [
    "#importinng necessary libraries\n",
    "import numpy as np\n",
    "from scipy import stats"
   ]
  },
  {
   "cell_type": "code",
   "execution_count": 2,
   "id": "0db79b09",
   "metadata": {},
   "outputs": [],
   "source": [
    "#K-modes clustering function\n",
    "def kmodes(data, k, num_iters=100):\n",
    "    # randomly initializing the centroids\n",
    "    l=len(data)\n",
    "    centroids = data[np.random.choice(l, k, replace=False)]\n",
    "\n",
    "    # iterate for 100 iterations\n",
    "    for i in range(num_iters):\n",
    "        # assigning each data point to the closest centroid\n",
    "        clusters = []\n",
    "        for pt in data:\n",
    "            dist = [np.sum(pt != c) for c in centroids]\n",
    "            cluster = np.argmin(dist)\n",
    "            clusters.append(cluster)\n",
    "\n",
    "        # updating the centroids to the mode of corresponding cluster\n",
    "        for j in range(k):\n",
    "            indices = np.where(np.array(clusters) == j)[0]\n",
    "            if len(indices) > 0:\n",
    "                cluster_data = data[indices]\n",
    "                modes = stats.mode(cluster_data, axis=0)[0][0]\n",
    "                centroids[j] = modes\n",
    "\n",
    "    return clusters, centroids"
   ]
  },
  {
   "cell_type": "code",
   "execution_count": 3,
   "id": "cade4e6d",
   "metadata": {},
   "outputs": [],
   "source": [
    "#random data\n",
    "data = np.array([\n",
    "        ['red', 'small', 'square'],\n",
    "        ['blue', 'small', 'circle'],\n",
    "        ['red', 'medium', 'circle'],\n",
    "        ['red', 'large', 'circle'],\n",
    "        ['blue', 'medium', 'square'],\n",
    "        ['green', 'large', 'circle'],\n",
    "        ['green', 'medium', 'triangle'],\n",
    "        ['red', 'medium', 'circle'],\n",
    "        ['green', 'large', 'triangle'],\n",
    "        ['red', 'small', 'triangle'],\n",
    "        ['blue', 'small', 'square']\n",
    "    ])"
   ]
  },
  {
   "cell_type": "code",
   "execution_count": 4,
   "id": "415a8cf0",
   "metadata": {},
   "outputs": [],
   "source": [
    "# applying K-modes clustering\n",
    "clusters,centroids=kmodes(data,k=3)"
   ]
  },
  {
   "cell_type": "code",
   "execution_count": 11,
   "id": "eb6ca949",
   "metadata": {},
   "outputs": [
    {
     "name": "stdout",
     "output_type": "stream",
     "text": [
      "Cluster assignments:\n",
      "['red' 'small' 'square']       0\n",
      "['blue' 'small' 'circle']       0\n",
      "['red' 'medium' 'circle']       1\n",
      "['red' 'large' 'circle']       1\n",
      "['blue' 'medium' 'square']       0\n",
      "['green' 'large' 'circle']       2\n",
      "['green' 'medium' 'triangle']       2\n",
      "['red' 'medium' 'circle']       1\n",
      "['green' 'large' 'triangle']       2\n",
      "['red' 'small' 'triangle']       0\n",
      "['blue' 'small' 'square']       0\n",
      "\n",
      "Centroids:\n",
      " [['blue' 'small' 'square']\n",
      " ['red' 'medium' 'circle']\n",
      " ['green' 'large' 'triangle']]\n"
     ]
    }
   ],
   "source": [
    "print(\"Cluster assignments:\")\n",
    "for i in range(len(data)):\n",
    "    print(data[i],clusters[i], sep=\"       \")\n",
    "print(\"\\nCentroids:\\n\", centroids)"
   ]
  },
  {
   "cell_type": "markdown",
   "id": "9a176dab",
   "metadata": {},
   "source": [
    "PCA"
   ]
  },
  {
   "cell_type": "code",
   "execution_count": 26,
   "id": "440a19df",
   "metadata": {},
   "outputs": [],
   "source": [
    "# Import required libraries\n",
    "import numpy as np\n",
    "import pandas as pd\n",
    "from sklearn.datasets import load_iris"
   ]
  },
  {
   "cell_type": "code",
   "execution_count": 27,
   "id": "e81d1180",
   "metadata": {},
   "outputs": [],
   "source": [
    "# Load iris dataset\n",
    "iris=load_iris()\n"
   ]
  },
  {
   "cell_type": "code",
   "execution_count": 28,
   "id": "2b1328a0",
   "metadata": {},
   "outputs": [],
   "source": [
    "# Create a pandas dataframe from the dataset\n",
    "df=pd.DataFrame(data= np.c_[iris['data'], iris['target']],columns= iris['feature_names'] + ['target'])"
   ]
  },
  {
   "cell_type": "code",
   "execution_count": 29,
   "id": "1f9fbdf0",
   "metadata": {},
   "outputs": [
    {
     "name": "stdout",
     "output_type": "stream",
     "text": [
      "   sepal length (cm)  sepal width (cm)  petal length (cm)  petal width (cm)  \\\n",
      "0                5.1               3.5                1.4               0.2   \n",
      "1                4.9               3.0                1.4               0.2   \n",
      "2                4.7               3.2                1.3               0.2   \n",
      "3                4.6               3.1                1.5               0.2   \n",
      "4                5.0               3.6                1.4               0.2   \n",
      "\n",
      "   target  \n",
      "0     0.0  \n",
      "1     0.0  \n",
      "2     0.0  \n",
      "3     0.0  \n",
      "4     0.0  \n"
     ]
    }
   ],
   "source": [
    "# Display the first few rows of the dataset\n",
    "print(df.head())"
   ]
  },
  {
   "cell_type": "code",
   "execution_count": 30,
   "id": "825ea30e",
   "metadata": {},
   "outputs": [
    {
     "name": "stdout",
     "output_type": "stream",
     "text": [
      "       sepal length (cm)  sepal width (cm)  petal length (cm)  \\\n",
      "count         150.000000        150.000000         150.000000   \n",
      "mean            5.843333          3.057333           3.758000   \n",
      "std             0.828066          0.435866           1.765298   \n",
      "min             4.300000          2.000000           1.000000   \n",
      "25%             5.100000          2.800000           1.600000   \n",
      "50%             5.800000          3.000000           4.350000   \n",
      "75%             6.400000          3.300000           5.100000   \n",
      "max             7.900000          4.400000           6.900000   \n",
      "\n",
      "       petal width (cm)      target  \n",
      "count        150.000000  150.000000  \n",
      "mean           1.199333    1.000000  \n",
      "std            0.762238    0.819232  \n",
      "min            0.100000    0.000000  \n",
      "25%            0.300000    0.000000  \n",
      "50%            1.300000    1.000000  \n",
      "75%            1.800000    2.000000  \n",
      "max            2.500000    2.000000  \n"
     ]
    }
   ],
   "source": [
    "# Display summary statistics of the dataset\n",
    "print(df.describe())"
   ]
  },
  {
   "cell_type": "code",
   "execution_count": 31,
   "id": "56032ce8",
   "metadata": {},
   "outputs": [],
   "source": [
    "from sklearn.preprocessing import StandardScaler"
   ]
  },
  {
   "cell_type": "code",
   "execution_count": 32,
   "id": "0b88fdf1",
   "metadata": {},
   "outputs": [],
   "source": [
    "# Standardize the data\n",
    "features = ['sepal length (cm)', 'sepal width (cm)', 'petal length (cm)', 'petal width (cm)']\n",
    "x = df.loc[:, features].values\n",
    "y = df.loc[:,['target']].values\n",
    "x = StandardScaler().fit_transform(x)"
   ]
  },
  {
   "cell_type": "code",
   "execution_count": 33,
   "id": "bc05b507",
   "metadata": {},
   "outputs": [],
   "source": [
    "# Compute the covariance matrix\n",
    "cov_matrix = np.cov(x.T)"
   ]
  },
  {
   "cell_type": "code",
   "execution_count": 34,
   "id": "bd3211f6",
   "metadata": {},
   "outputs": [],
   "source": [
    "# Compute the eigenvalues and eigenvectors of the covariance matrix\n",
    "eigenvalues, eigenvectors = np.linalg.eig(cov_matrix)"
   ]
  },
  {
   "cell_type": "code",
   "execution_count": 35,
   "id": "853ab418",
   "metadata": {},
   "outputs": [],
   "source": [
    "# Sort the eigenvalues in descending order and select the top k eigenvectors\n",
    "k = 2\n",
    "idx = eigenvalues.argsort()[::-1][:k]\n",
    "topk_eigenvectors = eigenvectors[:,idx]"
   ]
  },
  {
   "cell_type": "code",
   "execution_count": 36,
   "id": "5194d314",
   "metadata": {},
   "outputs": [],
   "source": [
    "# Project the standardized data onto the top k eigenvectors to obtain the reduced data\n",
    "reduced_data = x.dot(topk_eigenvectors)"
   ]
  },
  {
   "cell_type": "code",
   "execution_count": 37,
   "id": "d60c6ff4",
   "metadata": {},
   "outputs": [
    {
     "name": "stdout",
     "output_type": "stream",
     "text": [
      "[[-2.26470281 -0.4800266 ]\n",
      " [-2.08096115  0.67413356]\n",
      " [-2.36422905  0.34190802]\n",
      " [-2.29938422  0.59739451]\n",
      " [-2.38984217 -0.64683538]\n",
      " [-2.07563095 -1.48917752]\n",
      " [-2.44402884 -0.0476442 ]\n",
      " [-2.23284716 -0.22314807]\n",
      " [-2.33464048  1.11532768]\n",
      " [-2.18432817  0.46901356]\n",
      " [-2.1663101  -1.04369065]\n",
      " [-2.32613087 -0.13307834]\n",
      " [-2.2184509   0.72867617]\n",
      " [-2.6331007   0.96150673]\n",
      " [-2.1987406  -1.86005711]\n",
      " [-2.26221453 -2.68628449]\n",
      " [-2.2075877  -1.48360936]\n",
      " [-2.19034951 -0.48883832]\n",
      " [-1.898572   -1.40501879]\n",
      " [-2.34336905 -1.12784938]\n",
      " [-1.914323   -0.40885571]\n",
      " [-2.20701284 -0.92412143]\n",
      " [-2.7743447  -0.45834367]\n",
      " [-1.81866953 -0.08555853]\n",
      " [-2.22716331 -0.13725446]\n",
      " [-1.95184633  0.62561859]\n",
      " [-2.05115137 -0.24216355]\n",
      " [-2.16857717 -0.52714953]\n",
      " [-2.13956345 -0.31321781]\n",
      " [-2.26526149  0.3377319 ]\n",
      " [-2.14012214  0.50454069]\n",
      " [-1.83159477 -0.42369507]\n",
      " [-2.61494794 -1.79357586]\n",
      " [-2.44617739 -2.15072788]\n",
      " [-2.10997488  0.46020184]\n",
      " [-2.2078089   0.2061074 ]\n",
      " [-2.04514621 -0.66155811]\n",
      " [-2.52733191 -0.59229277]\n",
      " [-2.42963258  0.90418004]\n",
      " [-2.16971071 -0.26887896]\n",
      " [-2.28647514 -0.44171539]\n",
      " [-1.85812246  2.33741516]\n",
      " [-2.5536384   0.47910069]\n",
      " [-1.96444768 -0.47232667]\n",
      " [-2.13705901 -1.14222926]\n",
      " [-2.0697443   0.71105273]\n",
      " [-2.38473317 -1.1204297 ]\n",
      " [-2.39437631  0.38624687]\n",
      " [-2.22944655 -0.99795976]\n",
      " [-2.20383344 -0.00921636]\n",
      " [ 1.10178118 -0.86297242]\n",
      " [ 0.73133743 -0.59461473]\n",
      " [ 1.24097932 -0.61629765]\n",
      " [ 0.40748306  1.75440399]\n",
      " [ 1.0754747   0.20842105]\n",
      " [ 0.38868734  0.59328364]\n",
      " [ 0.74652974 -0.77301931]\n",
      " [-0.48732274  1.85242909]\n",
      " [ 0.92790164 -0.03222608]\n",
      " [ 0.01142619  1.03401828]\n",
      " [-0.11019628  2.65407282]\n",
      " [ 0.44069345  0.06329519]\n",
      " [ 0.56210831  1.76472438]\n",
      " [ 0.71956189  0.18622461]\n",
      " [-0.0333547   0.43900321]\n",
      " [ 0.87540719 -0.50906396]\n",
      " [ 0.35025167  0.19631173]\n",
      " [ 0.15881005  0.79209574]\n",
      " [ 1.22509363  1.6222438 ]\n",
      " [ 0.1649179   1.30260923]\n",
      " [ 0.73768265 -0.39657156]\n",
      " [ 0.47628719  0.41732028]\n",
      " [ 1.2341781   0.93332573]\n",
      " [ 0.6328582   0.41638772]\n",
      " [ 0.70266118  0.06341182]\n",
      " [ 0.87427365 -0.25079339]\n",
      " [ 1.25650912  0.07725602]\n",
      " [ 1.35840512 -0.33131168]\n",
      " [ 0.66480037  0.22592785]\n",
      " [-0.04025861  1.05871855]\n",
      " [ 0.13079518  1.56227183]\n",
      " [ 0.02345269  1.57247559]\n",
      " [ 0.24153827  0.77725638]\n",
      " [ 1.06109461  0.63384324]\n",
      " [ 0.22397877  0.28777351]\n",
      " [ 0.42913912 -0.84558224]\n",
      " [ 1.04872805 -0.5220518 ]\n",
      " [ 1.04453138  1.38298872]\n",
      " [ 0.06958832  0.21950333]\n",
      " [ 0.28347724  1.32932464]\n",
      " [ 0.27907778  1.12002852]\n",
      " [ 0.62456979 -0.02492303]\n",
      " [ 0.33653037  0.98840402]\n",
      " [-0.36218338  2.01923787]\n",
      " [ 0.28858624  0.85573032]\n",
      " [ 0.09136066  0.18119213]\n",
      " [ 0.22771687  0.38492008]\n",
      " [ 0.57638829  0.1548736 ]\n",
      " [-0.44766702  1.54379203]\n",
      " [ 0.25673059  0.5988518 ]\n",
      " [ 1.84456887 -0.87042131]\n",
      " [ 1.15788161  0.69886986]\n",
      " [ 2.20526679 -0.56201048]\n",
      " [ 1.44015066  0.04698759]\n",
      " [ 1.86781222 -0.29504482]\n",
      " [ 2.75187334 -0.8004092 ]\n",
      " [ 0.36701769  1.56150289]\n",
      " [ 2.30243944 -0.42006558]\n",
      " [ 2.00668647  0.71143865]\n",
      " [ 2.25977735 -1.92101038]\n",
      " [ 1.36417549 -0.69275645]\n",
      " [ 1.60267867  0.42170045]\n",
      " [ 1.8839007  -0.41924965]\n",
      " [ 1.2601151   1.16226042]\n",
      " [ 1.4676452   0.44227159]\n",
      " [ 1.59007732 -0.67624481]\n",
      " [ 1.47143146 -0.25562182]\n",
      " [ 2.42632899 -2.55666125]\n",
      " [ 3.31069558 -0.01778095]\n",
      " [ 1.26376667  1.70674538]\n",
      " [ 2.0377163  -0.91046741]\n",
      " [ 0.97798073  0.57176432]\n",
      " [ 2.89765149 -0.41364106]\n",
      " [ 1.33323218  0.48181122]\n",
      " [ 1.7007339  -1.01392187]\n",
      " [ 1.95432671 -1.0077776 ]\n",
      " [ 1.17510363  0.31639447]\n",
      " [ 1.02095055 -0.06434603]\n",
      " [ 1.78834992  0.18736121]\n",
      " [ 1.86364755 -0.56229073]\n",
      " [ 2.43595373 -0.25928443]\n",
      " [ 2.30492772 -2.62632347]\n",
      " [ 1.86270322  0.17854949]\n",
      " [ 1.11414774  0.29292262]\n",
      " [ 1.2024733   0.81131527]\n",
      " [ 2.79877045 -0.85680333]\n",
      " [ 1.57625591 -1.06858111]\n",
      " [ 1.3462921  -0.42243061]\n",
      " [ 0.92482492 -0.0172231 ]\n",
      " [ 1.85204505 -0.67612817]\n",
      " [ 2.01481043 -0.61388564]\n",
      " [ 1.90178409 -0.68957549]\n",
      " [ 1.15788161  0.69886986]\n",
      " [ 2.04055823 -0.8675206 ]\n",
      " [ 1.9981471  -1.04916875]\n",
      " [ 1.87050329 -0.38696608]\n",
      " [ 1.56458048  0.89668681]\n",
      " [ 1.5211705  -0.26906914]\n",
      " [ 1.37278779 -1.01125442]\n",
      " [ 0.96065603  0.02433167]]\n"
     ]
    }
   ],
   "source": [
    "# Display the reduced data\n",
    "print(reduced_data)"
   ]
  },
  {
   "cell_type": "markdown",
   "id": "355148e6",
   "metadata": {},
   "source": [
    "Question-6"
   ]
  },
  {
   "cell_type": "code",
   "execution_count": 19,
   "id": "41c485b8",
   "metadata": {},
   "outputs": [
    {
     "name": "stdout",
     "output_type": "stream",
     "text": [
      "   Pregnancies  Glucose  BloodPressure  SkinThickness  Insulin   BMI  \\\n",
      "0            6      148             72             35        0  33.6   \n",
      "1            1       85             66             29        0  26.6   \n",
      "2            8      183             64              0        0  23.3   \n",
      "3            1       89             66             23       94  28.1   \n",
      "4            0      137             40             35      168  43.1   \n",
      "\n",
      "   DiabetesPedigreeFunction  Age  Outcome  \n",
      "0                     0.627   50        1  \n",
      "1                     0.351   31        0  \n",
      "2                     0.672   32        1  \n",
      "3                     0.167   21        0  \n",
      "4                     2.288   33        1  \n",
      "       Pregnancies     Glucose  BloodPressure  SkinThickness     Insulin  \\\n",
      "count   768.000000  768.000000     768.000000     768.000000  768.000000   \n",
      "mean      3.845052  120.894531      69.105469      20.536458   79.799479   \n",
      "std       3.369578   31.972618      19.355807      15.952218  115.244002   \n",
      "min       0.000000    0.000000       0.000000       0.000000    0.000000   \n",
      "25%       1.000000   99.000000      62.000000       0.000000    0.000000   \n",
      "50%       3.000000  117.000000      72.000000      23.000000   30.500000   \n",
      "75%       6.000000  140.250000      80.000000      32.000000  127.250000   \n",
      "max      17.000000  199.000000     122.000000      99.000000  846.000000   \n",
      "\n",
      "              BMI  DiabetesPedigreeFunction         Age     Outcome  \n",
      "count  768.000000                768.000000  768.000000  768.000000  \n",
      "mean    31.992578                  0.471876   33.240885    0.348958  \n",
      "std      7.884160                  0.331329   11.760232    0.476951  \n",
      "min      0.000000                  0.078000   21.000000    0.000000  \n",
      "25%     27.300000                  0.243750   24.000000    0.000000  \n",
      "50%     32.000000                  0.372500   29.000000    0.000000  \n",
      "75%     36.600000                  0.626250   41.000000    1.000000  \n",
      "max     67.100000                  2.420000   81.000000    1.000000  \n"
     ]
    }
   ],
   "source": [
    "# Import required libraries\n",
    "import pandas as pd\n",
    "from sklearn.model_selection import train_test_split\n",
    "\n",
    "# Load the dataset\n",
    "df = pd.read_csv('diabetes.csv')\n",
    "print(df.head())\n",
    "print(df.describe())"
   ]
  },
  {
   "cell_type": "code",
   "execution_count": 20,
   "id": "91392de4",
   "metadata": {},
   "outputs": [],
   "source": [
    "# Split the dataset into training and testing sets\n",
    "X = df.iloc[:, :-1]\n",
    "y = df.iloc[:, -1]\n",
    "X_train, X_test, y_train, y_test = train_test_split(X, y, test_size=0.2, random_state=42)"
   ]
  },
  {
   "cell_type": "code",
   "execution_count": 21,
   "id": "271fc375",
   "metadata": {},
   "outputs": [],
   "source": [
    "from sklearn.neighbors import KNeighborsClassifier\n",
    "from sklearn.tree import DecisionTreeClassifier\n",
    "from sklearn.svm import SVC\n",
    "from sklearn.metrics import accuracy_score\n",
    "from sklearn.metrics import accuracy_score, confusion_matrix, classification_report"
   ]
  },
  {
   "cell_type": "markdown",
   "id": "490e8403",
   "metadata": {},
   "source": [
    "KNN"
   ]
  },
  {
   "cell_type": "code",
   "execution_count": 22,
   "id": "f4b7b280",
   "metadata": {},
   "outputs": [
    {
     "name": "stdout",
     "output_type": "stream",
     "text": [
      "Accuracy of KNN classifier: 0.6623376623376623\n",
      "Confusion Matrix of KNN classifier:\n",
      " [[70 29]\n",
      " [23 32]]\n",
      "Classification Report of KNN classifier:\n",
      "               precision    recall  f1-score   support\n",
      "\n",
      "           0       0.75      0.71      0.73        99\n",
      "           1       0.52      0.58      0.55        55\n",
      "\n",
      "    accuracy                           0.66       154\n",
      "   macro avg       0.64      0.64      0.64       154\n",
      "weighted avg       0.67      0.66      0.67       154\n",
      "\n"
     ]
    }
   ],
   "source": [
    "knn = KNeighborsClassifier(n_neighbors=5)\n",
    "knn.fit(X_train, y_train)\n",
    "y_pred_knn = knn.predict(X_test)\n",
    "accuracy_knn = accuracy_score(y_test, y_pred_knn)\n",
    "print('Accuracy of KNN classifier:', accuracy_knn)\n",
    "print('Confusion Matrix of KNN classifier:\\n', confusion_matrix(y_test, y_pred_knn))\n",
    "print('Classification Report of KNN classifier:\\n', classification_report(y_test, y_pred_knn))"
   ]
  },
  {
   "cell_type": "markdown",
   "id": "f2123990",
   "metadata": {},
   "source": [
    "Decision Tree"
   ]
  },
  {
   "cell_type": "code",
   "execution_count": 23,
   "id": "fe971fed",
   "metadata": {},
   "outputs": [
    {
     "name": "stdout",
     "output_type": "stream",
     "text": [
      "Accuracy of Decision Tree classifier: 0.7467532467532467\n",
      "Confusion Matrix of Decision Tree classifier:\n",
      " [[75 24]\n",
      " [15 40]]\n",
      "Classification Report of Decision Tree classifier:\n",
      "               precision    recall  f1-score   support\n",
      "\n",
      "           0       0.83      0.76      0.79        99\n",
      "           1       0.62      0.73      0.67        55\n",
      "\n",
      "    accuracy                           0.75       154\n",
      "   macro avg       0.73      0.74      0.73       154\n",
      "weighted avg       0.76      0.75      0.75       154\n",
      "\n"
     ]
    }
   ],
   "source": [
    "dt = DecisionTreeClassifier(random_state=42)\n",
    "dt.fit(X_train, y_train)\n",
    "y_pred_dt = dt.predict(X_test)\n",
    "accuracy_dt = accuracy_score(y_test, y_pred_dt)\n",
    "print('Accuracy of Decision Tree classifier:', accuracy_dt)\n",
    "print('Confusion Matrix of Decision Tree classifier:\\n', confusion_matrix(y_test, y_pred_dt))\n",
    "print('Classification Report of Decision Tree classifier:\\n', classification_report(y_test, y_pred_dt))"
   ]
  },
  {
   "cell_type": "markdown",
   "id": "ee593ed2",
   "metadata": {},
   "source": [
    "SVM"
   ]
  },
  {
   "cell_type": "code",
   "execution_count": 24,
   "id": "5971a8e7",
   "metadata": {},
   "outputs": [
    {
     "name": "stdout",
     "output_type": "stream",
     "text": [
      "Accuracy of SVM classifier: 0.7532467532467533\n",
      "Confusion Matrix of SVM classifier:\n",
      " [[80 19]\n",
      " [19 36]]\n",
      "Classification Report of SVM classifier:\n",
      "               precision    recall  f1-score   support\n",
      "\n",
      "           0       0.81      0.81      0.81        99\n",
      "           1       0.65      0.65      0.65        55\n",
      "\n",
      "    accuracy                           0.75       154\n",
      "   macro avg       0.73      0.73      0.73       154\n",
      "weighted avg       0.75      0.75      0.75       154\n",
      "\n"
     ]
    }
   ],
   "source": [
    "svm = SVC(kernel='linear', random_state=42)\n",
    "svm.fit(X_train, y_train)\n",
    "y_pred_svm = svm.predict(X_test)\n",
    "accuracy_svm = accuracy_score(y_test, y_pred_svm)\n",
    "print('Accuracy of SVM classifier:', accuracy_svm)\n",
    "print('Confusion Matrix of SVM classifier:\\n', confusion_matrix(y_test, y_pred_svm))\n",
    "print('Classification Report of SVM classifier:\\n', classification_report(y_test, y_pred_svm))"
   ]
  },
  {
   "cell_type": "code",
   "execution_count": 25,
   "id": "b9ec9c9f",
   "metadata": {},
   "outputs": [
    {
     "name": "stdout",
     "output_type": "stream",
     "text": [
      "Accuracy of KNN classifier: 0.6623376623376623\n",
      "Accuracy of Decision Tree classifier: 0.7467532467532467\n",
      "Accuracy of SVM classifier: 0.7532467532467533\n"
     ]
    }
   ],
   "source": [
    "print('Accuracy of KNN classifier:', accuracy_knn)\n",
    "print('Accuracy of Decision Tree classifier:', accuracy_dt)\n",
    "print('Accuracy of SVM classifier:', accuracy_svm)"
   ]
  },
  {
   "cell_type": "markdown",
   "id": "06e5158b",
   "metadata": {},
   "source": [
    "Gaussian Mixture Model using EM"
   ]
  },
  {
   "cell_type": "code",
   "execution_count": 26,
   "id": "2186d00c",
   "metadata": {},
   "outputs": [],
   "source": [
    "import numpy as np\n",
    "import pandas as pd\n",
    "import matplotlib.pyplot as plt\n",
    "from sklearn.datasets import load_iris\n",
    "from scipy.stats import multivariate_normal"
   ]
  },
  {
   "cell_type": "code",
   "execution_count": 27,
   "id": "1e5e08fb",
   "metadata": {},
   "outputs": [],
   "source": [
    "# Load the iris dataset\n",
    "iris = load_iris()"
   ]
  },
  {
   "cell_type": "code",
   "execution_count": 28,
   "id": "5f043618",
   "metadata": {},
   "outputs": [],
   "source": [
    "# Convert the dataset to a pandas dataframe\n",
    "df = pd.DataFrame(data=np.c_[iris['data'], iris['target']],\n",
    "                  columns=iris['feature_names'] + ['target'])\n",
    "df['target'] = df['target'].astype(int)"
   ]
  },
  {
   "cell_type": "code",
   "execution_count": 29,
   "id": "d5ef63c2",
   "metadata": {},
   "outputs": [
    {
     "name": "stdout",
     "output_type": "stream",
     "text": [
      "   sepal length (cm)  sepal width (cm)  petal length (cm)  petal width (cm)  \\\n",
      "0                5.1               3.5                1.4               0.2   \n",
      "1                4.9               3.0                1.4               0.2   \n",
      "2                4.7               3.2                1.3               0.2   \n",
      "3                4.6               3.1                1.5               0.2   \n",
      "4                5.0               3.6                1.4               0.2   \n",
      "\n",
      "   target  \n",
      "0       0  \n",
      "1       0  \n",
      "2       0  \n",
      "3       0  \n",
      "4       0  \n"
     ]
    }
   ],
   "source": [
    "print(df.head())"
   ]
  },
  {
   "cell_type": "code",
   "execution_count": 30,
   "id": "0b706c34",
   "metadata": {},
   "outputs": [
    {
     "name": "stdout",
     "output_type": "stream",
     "text": [
      "       sepal length (cm)  sepal width (cm)  petal length (cm)  \\\n",
      "count         150.000000        150.000000         150.000000   \n",
      "mean            5.843333          3.057333           3.758000   \n",
      "std             0.828066          0.435866           1.765298   \n",
      "min             4.300000          2.000000           1.000000   \n",
      "25%             5.100000          2.800000           1.600000   \n",
      "50%             5.800000          3.000000           4.350000   \n",
      "75%             6.400000          3.300000           5.100000   \n",
      "max             7.900000          4.400000           6.900000   \n",
      "\n",
      "       petal width (cm)      target  \n",
      "count        150.000000  150.000000  \n",
      "mean           1.199333    1.000000  \n",
      "std            0.762238    0.819232  \n",
      "min            0.100000    0.000000  \n",
      "25%            0.300000    0.000000  \n",
      "50%            1.300000    1.000000  \n",
      "75%            1.800000    2.000000  \n",
      "max            2.500000    2.000000  \n"
     ]
    }
   ],
   "source": [
    "print(df.describe())"
   ]
  },
  {
   "cell_type": "code",
   "execution_count": 31,
   "id": "3298bcae",
   "metadata": {},
   "outputs": [],
   "source": [
    "# Extract the features\n",
    "X = df.iloc[:, :-1].values"
   ]
  },
  {
   "cell_type": "code",
   "execution_count": 32,
   "id": "5b3697f0",
   "metadata": {},
   "outputs": [],
   "source": [
    "# Define the number of clusters\n",
    "K = 3"
   ]
  },
  {
   "cell_type": "code",
   "execution_count": 33,
   "id": "128ec1b3",
   "metadata": {},
   "outputs": [],
   "source": [
    "# Define the initial means, covariances, and mixing coefficients\n",
    "mu=np.random.rand(K, X.shape[1])\n",
    "sigma=np.zeros((K, X.shape[1], X.shape[1]))\n",
    "for k in range(K):\n",
    "    sigma[k]=np.identity(X.shape[1])\n",
    "pi=np.ones(K) / K"
   ]
  },
  {
   "cell_type": "code",
   "execution_count": 34,
   "id": "ece23b0d",
   "metadata": {},
   "outputs": [],
   "source": [
    "# Define the maximum number of iterations\n",
    "max_iter=100\n",
    "# Define the convergence threshold\n",
    "eps=1e-6"
   ]
  },
  {
   "cell_type": "code",
   "execution_count": 35,
   "id": "832b3f09",
   "metadata": {},
   "outputs": [],
   "source": [
    "# Implement the Expectation-Maximization algorithm for Gaussian Mixture Model\n",
    "log_likelihoods = []\n",
    "for i in range(max_iter):\n",
    "    # E-step\n",
    "    r = np.zeros((X.shape[0], K))\n",
    "    for k in range(K):\n",
    "        r[:, k] = pi[k] * multivariate_normal.pdf(X, mean=mu[k], cov=sigma[k])\n",
    "    r = r / np.sum(r, axis=1, keepdims=True)\n",
    "\n",
    "    # M-step\n",
    "    n_k = np.sum(r, axis=0)\n",
    "    pi = n_k / X.shape[0]\n",
    "    for k in range(K):\n",
    "        mu[k] = np.sum(r[:, k].reshape(-1, 1) * X, axis=0) / n_k[k]\n",
    "        sigma[k] = ((r[:, k].reshape(-1, 1) * (X - mu[k])).T @ (X - mu[k])) / n_k[k]\n",
    "\n",
    "    # Compute the log-likelihood\n",
    "    log_likelihood = np.sum(np.log(np.sum(pi[k] * multivariate_normal.pdf(X, mean=mu[k], cov=sigma[k]))))\n",
    "    log_likelihoods.append(log_likelihood)\n",
    "\n",
    "    # Check for convergence\n",
    "    if i > 0 and np.abs(log_likelihoods[-1] - log_likelihoods[-2]) < eps:\n",
    "        break"
   ]
  },
  {
   "cell_type": "code",
   "execution_count": 36,
   "id": "d0d52595",
   "metadata": {},
   "outputs": [
    {
     "data": {
      "image/png": "[encoded data removed]",
      "text/plain": [
       "<Figure size 432x288 with 1 Axes>"
      ]
     },
     "metadata": {
      "needs_background": "light"
     },
     "output_type": "display_data"
    }
   ],
   "source": [
    "# Plot the log-likelihoods over iterations\n",
    "plt.plot(log_likelihoods)\n",
    "plt.xlabel('Iteration')\n",
    "plt.ylabel('Log-Likelihood')\n",
    "plt.show()"
   ]
  },
  {
   "cell_type": "code",
   "execution_count": null,
   "id": "f9b78f53",
   "metadata": {},
   "outputs": [],
   "source": []
  }
 ],
 "metadata": {
  "kernelspec": {
   "display_name": "Python 3 (ipykernel)",
   "language": "python",
   "name": "python3"
  },
  "language_info": {
   "codemirror_mode": {
    "name": "ipython",
    "version": 3
   },
   "file_extension": ".py",
   "mimetype": "text/x-python",
   "name": "python",
   "nbconvert_exporter": "python",
   "pygments_lexer": "ipython3",
   "version": "3.9.12"
  }
 },
 "nbformat": 4,
 "nbformat_minor": 5
}
