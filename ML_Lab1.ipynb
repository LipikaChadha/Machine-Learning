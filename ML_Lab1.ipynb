{
 "cells": [
  {
   "cell_type": "code",
   "execution_count": 1,
   "id": "7999d825",
   "metadata": {},
   "outputs": [],
   "source": [
    "import numpy as np"
   ]
  },
  {
   "cell_type": "code",
   "execution_count": 4,
   "id": "54334e3c",
   "metadata": {},
   "outputs": [
    {
     "name": "stdout",
     "output_type": "stream",
     "text": [
      "[0. 0. 0. 0. 0. 0.]\n"
     ]
    }
   ],
   "source": [
    "arr1=np.zeros(6)\n",
    "print(arr1)"
   ]
  },
  {
   "cell_type": "code",
   "execution_count": 5,
   "id": "31c3947a",
   "metadata": {},
   "outputs": [
    {
     "name": "stdout",
     "output_type": "stream",
     "text": [
      "[1. 1. 1. 1. 1. 1.]\n"
     ]
    }
   ],
   "source": [
    "arr2=np.ones(6)\n",
    "print(arr2)"
   ]
  },
  {
   "cell_type": "code",
   "execution_count": 7,
   "id": "9109a883",
   "metadata": {},
   "outputs": [
    {
     "name": "stdout",
     "output_type": "stream",
     "text": [
      "[5. 5. 5. 5. 5. 5.]\n"
     ]
    }
   ],
   "source": [
    "arr3=np.ones(6)\n",
    "arr3=arr3*5\n",
    "print(arr3)"
   ]
  },
  {
   "cell_type": "code",
   "execution_count": 9,
   "id": "15227c13",
   "metadata": {},
   "outputs": [
    {
     "name": "stdout",
     "output_type": "stream",
     "text": [
      "[ 1  2  3  4  5  6  7  8  9 10 11 12 13 14 15 16 17 18 19 20 21 22 23 24\n",
      " 25 26 27 28 29 30 31 32 33 34 35 36 37 38 39 40 41 42 43 44 45 46 47 48\n",
      " 49 50 51 52 53 54 55 56 57 58 59 60 61 62 63 64 65 66 67 68 69 70 71 72\n",
      " 73 74 75 76 77 78 79 80 81 82 83 84 85 86 87 88 89 90 91 92 93 94 95 96\n",
      " 97 98 99]\n"
     ]
    }
   ],
   "source": [
    "arr4=np.arange(1,100)\n",
    "print(arr4)"
   ]
  },
  {
   "cell_type": "code",
   "execution_count": 10,
   "id": "dd13d7d8",
   "metadata": {},
   "outputs": [
    {
     "name": "stdout",
     "output_type": "stream",
     "text": [
      "[ 1  3  5  7  9 11 13 15 17 19 21 23 25 27 29 31 33 35 37 39 41 43 45 47\n",
      " 49 51 53 55 57 59 61 63 65 67 69 71 73 75 77 79 81 83 85 87 89 91 93 95\n",
      " 97 99]\n"
     ]
    }
   ],
   "source": [
    "arr5=np.arange(1,100,2)\n",
    "print(arr5)"
   ]
  },
  {
   "cell_type": "code",
   "execution_count": 12,
   "id": "1480efe4",
   "metadata": {},
   "outputs": [
    {
     "name": "stdout",
     "output_type": "stream",
     "text": [
      "[[1 2]\n",
      " [3 4]]\n"
     ]
    }
   ],
   "source": [
    "arr6=np.arange(1,5)\n",
    "mat1=np.array(arr6).reshape(2,2)\n",
    "print(mat1)"
   ]
  },
  {
   "cell_type": "code",
   "execution_count": 13,
   "id": "8eeb7cdc",
   "metadata": {},
   "outputs": [
    {
     "name": "stdout",
     "output_type": "stream",
     "text": [
      "[[ 9 10 11]\n",
      " [12 13 14]\n",
      " [15 16 17]]\n"
     ]
    }
   ],
   "source": [
    "arr7=np.arange(9,18)\n",
    "mat2=arr7.reshape(3,3)\n",
    "print(mat2)"
   ]
  },
  {
   "cell_type": "code",
   "execution_count": 14,
   "id": "0f778a6d",
   "metadata": {},
   "outputs": [
    {
     "name": "stdout",
     "output_type": "stream",
     "text": [
      "[[1. 0. 0. 0.]\n",
      " [0. 1. 0. 0.]\n",
      " [0. 0. 1. 0.]\n",
      " [0. 0. 0. 1.]]\n"
     ]
    }
   ],
   "source": [
    "identity_mat=np.eye(4)\n",
    "print(identity_mat)"
   ]
  },
  {
   "cell_type": "code",
   "execution_count": 19,
   "id": "4c2e462f",
   "metadata": {},
   "outputs": [
    {
     "name": "stdout",
     "output_type": "stream",
     "text": [
      "[0.37386189]\n"
     ]
    }
   ],
   "source": [
    "num = np.random.uniform(0,1,1) #generating 1 random number\n",
    "print(num)"
   ]
  },
  {
   "cell_type": "code",
   "execution_count": 20,
   "id": "0f217c0d",
   "metadata": {},
   "outputs": [
    {
     "name": "stdout",
     "output_type": "stream",
     "text": [
      "[0.01396624 0.57200424 0.03674919 0.52029095 0.95569697 0.23137473\n",
      " 0.22435639 0.69725734 0.6583118  0.90622458]\n"
     ]
    }
   ],
   "source": [
    "num_arr = np.random.uniform(0,1,10) #generating array of 10 random numbers\n",
    "print(num_arr)"
   ]
  },
  {
   "cell_type": "code",
   "execution_count": 23,
   "id": "533528b6",
   "metadata": {},
   "outputs": [
    {
     "name": "stdout",
     "output_type": "stream",
     "text": [
      "[ 1.  2.  3.  4.  5.  6.  7.  8.  9. 10.]\n"
     ]
    }
   ],
   "source": [
    "equal_space=np.linspace(1,10,10) #creating 10 equally spaced points within range of 1-10\n",
    "print(equal_space)"
   ]
  },
  {
   "cell_type": "code",
   "execution_count": 24,
   "id": "36a7d2d3",
   "metadata": {},
   "outputs": [
    {
     "name": "stdout",
     "output_type": "stream",
     "text": [
      "[1.         1.11111111 1.22222222 1.33333333 1.44444444 1.55555556\n",
      " 1.66666667 1.77777778 1.88888889 2.        ]\n"
     ]
    }
   ],
   "source": [
    "equal_space2=np.linspace(1,2,10) #creating 10 equally spaced points within range of 1-2\n",
    "print(equal_space2)"
   ]
  },
  {
   "cell_type": "code",
   "execution_count": 26,
   "id": "bbb3accd",
   "metadata": {},
   "outputs": [
    {
     "name": "stdout",
     "output_type": "stream",
     "text": [
      "Array Before: \n",
      "[ 0  1  2  3  4  5  6  7  8  9 10 11 12 13 14 15 16 17 18 19 20 21 22 23\n",
      " 24 25 26 27 28 29 30 31 32 33 34 35 36 37 38 39 40 41 42 43 44 45 46 47\n",
      " 48 49 50 51 52 53 54 55 56 57 58 59 60 61 62 63 64 65 66 67 68 69 70 71\n",
      " 72 73 74 75 76 77 78 79 80 81 82 83 84 85 86 87 88 89 90 91 92 93 94 95\n",
      " 96 97 98 99]\n",
      "Array After: \n",
      "[99 98 97 96 95 94 93 92 91 90 89 88 87 86 85 84 83 82 81 80 79 78 77 76\n",
      " 75 74 73 72 71 70 69 68 67 66 65 64 63 62 61 60 59 58 57 56 55 54 53 52\n",
      " 51 50 49 48 47 46 45 44 43 42 41 40 39 38 37 36 35 34 33 32 31 30 29 28\n",
      " 27 26 25 24 23 22 21 20 19 18 17 16 15 14 13 12 11 10  9  8  7  6  5  4\n",
      "  3  2  1  0]\n"
     ]
    }
   ],
   "source": [
    "array=np.arange(0,100)\n",
    "print(\"Array Before: \")\n",
    "print(array)\n",
    "array=array[::-1]\n",
    "print(\"Array After: \")\n",
    "print(array)"
   ]
  },
  {
   "cell_type": "code",
   "execution_count": 32,
   "id": "2126a00c",
   "metadata": {},
   "outputs": [
    {
     "name": "stdout",
     "output_type": "stream",
     "text": [
      "20 x 20 Matrix: \n",
      "[[  0   1   2   3   4   5   6   7   8   9  10  11  12  13  14  15  16  17\n",
      "   18  19]\n",
      " [ 20  21  22  23  24  25  26  27  28  29  30  31  32  33  34  35  36  37\n",
      "   38  39]\n",
      " [ 40  41  42  43  44  45  46  47  48  49  50  51  52  53  54  55  56  57\n",
      "   58  59]\n",
      " [ 60  61  62  63  64  65  66  67  68  69  70  71  72  73  74  75  76  77\n",
      "   78  79]\n",
      " [ 80  81  82  83  84  85  86  87  88  89  90  91  92  93  94  95  96  97\n",
      "   98  99]\n",
      " [100 101 102 103 104 105 106 107 108 109 110 111 112 113 114 115 116 117\n",
      "  118 119]\n",
      " [120 121 122 123 124 125 126 127 128 129 130 131 132 133 134 135 136 137\n",
      "  138 139]\n",
      " [140 141 142 143 144 145 146 147 148 149 150 151 152 153 154 155 156 157\n",
      "  158 159]\n",
      " [160 161 162 163 164 165 166 167 168 169 170 171 172 173 174 175 176 177\n",
      "  178 179]\n",
      " [180 181 182 183 184 185 186 187 188 189 190 191 192 193 194 195 196 197\n",
      "  198 199]\n",
      " [200 201 202 203 204 205 206 207 208 209 210 211 212 213 214 215 216 217\n",
      "  218 219]\n",
      " [220 221 222 223 224 225 226 227 228 229 230 231 232 233 234 235 236 237\n",
      "  238 239]\n",
      " [240 241 242 243 244 245 246 247 248 249 250 251 252 253 254 255 256 257\n",
      "  258 259]\n",
      " [260 261 262 263 264 265 266 267 268 269 270 271 272 273 274 275 276 277\n",
      "  278 279]\n",
      " [280 281 282 283 284 285 286 287 288 289 290 291 292 293 294 295 296 297\n",
      "  298 299]\n",
      " [300 301 302 303 304 305 306 307 308 309 310 311 312 313 314 315 316 317\n",
      "  318 319]\n",
      " [320 321 322 323 324 325 326 327 328 329 330 331 332 333 334 335 336 337\n",
      "  338 339]\n",
      " [340 341 342 343 344 345 346 347 348 349 350 351 352 353 354 355 356 357\n",
      "  358 359]\n",
      " [360 361 362 363 364 365 366 367 368 369 370 371 372 373 374 375 376 377\n",
      "  378 379]\n",
      " [380 381 382 383 384 385 386 387 388 389 390 391 392 393 394 395 396 397\n",
      "  398 399]]\n"
     ]
    }
   ],
   "source": [
    "matrix=np.arange(0,400)\n",
    "matrix=matrix.reshape(20,20)\n",
    "print(\"20 x 20 Matrix: \")\n",
    "print(matrix)"
   ]
  },
  {
   "cell_type": "code",
   "execution_count": 33,
   "id": "d7a64d98",
   "metadata": {},
   "outputs": [
    {
     "name": "stdout",
     "output_type": "stream",
     "text": [
      "Minimum element in Matrix: \n",
      "0\n",
      "Maximum element in Matrix: \n",
      "399\n"
     ]
    }
   ],
   "source": [
    "print(\"Minimum element in Matrix: \")\n",
    "print(np.min(matrix))\n",
    "print(\"Maximum element in Matrix: \")\n",
    "print(np.max(matrix))"
   ]
  },
  {
   "cell_type": "code",
   "execution_count": 38,
   "id": "3d076639",
   "metadata": {},
   "outputs": [
    {
     "name": "stdout",
     "output_type": "stream",
     "text": [
      "Randomly generated array: \n",
      "[30 41 78 18  0 68 58 32 74  3 63 84 60 21 98 54 54 83 32 77 62 79 81  0\n",
      "  8 33 35 12 37 76 43 99 77  5 10 32 71 35 87 73 58 19 56 62 40 85 55 76\n",
      " 54 53]\n",
      "Mean Value: \n",
      "50.82\n"
     ]
    }
   ],
   "source": [
    "rand_arr=np.random.randint(0,100,50)\n",
    "print(\"Randomly generated array: \")\n",
    "print(rand_arr)\n",
    "print(\"Mean Value: \")\n",
    "print(np.mean(rand_arr))"
   ]
  },
  {
   "cell_type": "code",
   "execution_count": 42,
   "id": "f3cbdb49",
   "metadata": {},
   "outputs": [
    {
     "name": "stdout",
     "output_type": "stream",
     "text": [
      "[[0. 0. 0. 0. 0. 0. 0. 0. 0. 0. 0. 0. 0. 0. 0. 0. 0. 0. 0. 0.]\n",
      " [0. 1. 1. 1. 1. 1. 1. 1. 1. 1. 1. 1. 1. 1. 1. 1. 1. 1. 1. 0.]\n",
      " [0. 1. 1. 1. 1. 1. 1. 1. 1. 1. 1. 1. 1. 1. 1. 1. 1. 1. 1. 0.]\n",
      " [0. 1. 1. 1. 1. 1. 1. 1. 1. 1. 1. 1. 1. 1. 1. 1. 1. 1. 1. 0.]\n",
      " [0. 1. 1. 1. 1. 1. 1. 1. 1. 1. 1. 1. 1. 1. 1. 1. 1. 1. 1. 0.]\n",
      " [0. 1. 1. 1. 1. 1. 1. 1. 1. 1. 1. 1. 1. 1. 1. 1. 1. 1. 1. 0.]\n",
      " [0. 1. 1. 1. 1. 1. 1. 1. 1. 1. 1. 1. 1. 1. 1. 1. 1. 1. 1. 0.]\n",
      " [0. 1. 1. 1. 1. 1. 1. 1. 1. 1. 1. 1. 1. 1. 1. 1. 1. 1. 1. 0.]\n",
      " [0. 1. 1. 1. 1. 1. 1. 1. 1. 1. 1. 1. 1. 1. 1. 1. 1. 1. 1. 0.]\n",
      " [0. 1. 1. 1. 1. 1. 1. 1. 1. 1. 1. 1. 1. 1. 1. 1. 1. 1. 1. 0.]\n",
      " [0. 1. 1. 1. 1. 1. 1. 1. 1. 1. 1. 1. 1. 1. 1. 1. 1. 1. 1. 0.]\n",
      " [0. 1. 1. 1. 1. 1. 1. 1. 1. 1. 1. 1. 1. 1. 1. 1. 1. 1. 1. 0.]\n",
      " [0. 1. 1. 1. 1. 1. 1. 1. 1. 1. 1. 1. 1. 1. 1. 1. 1. 1. 1. 0.]\n",
      " [0. 1. 1. 1. 1. 1. 1. 1. 1. 1. 1. 1. 1. 1. 1. 1. 1. 1. 1. 0.]\n",
      " [0. 1. 1. 1. 1. 1. 1. 1. 1. 1. 1. 1. 1. 1. 1. 1. 1. 1. 1. 0.]\n",
      " [0. 1. 1. 1. 1. 1. 1. 1. 1. 1. 1. 1. 1. 1. 1. 1. 1. 1. 1. 0.]\n",
      " [0. 1. 1. 1. 1. 1. 1. 1. 1. 1. 1. 1. 1. 1. 1. 1. 1. 1. 1. 0.]\n",
      " [0. 1. 1. 1. 1. 1. 1. 1. 1. 1. 1. 1. 1. 1. 1. 1. 1. 1. 1. 0.]\n",
      " [0. 1. 1. 1. 1. 1. 1. 1. 1. 1. 1. 1. 1. 1. 1. 1. 1. 1. 1. 0.]\n",
      " [0. 0. 0. 0. 0. 0. 0. 0. 0. 0. 0. 0. 0. 0. 0. 0. 0. 0. 0. 0.]]\n"
     ]
    }
   ],
   "source": [
    "array20x20=np.zeros(400)\n",
    "array20x20=array20x20.reshape(20,20)\n",
    "array20x20[1:-1,1:-1]=1\n",
    "print(array20x20)"
   ]
  },
  {
   "cell_type": "code",
   "execution_count": 52,
   "id": "44c14ccf",
   "metadata": {},
   "outputs": [
    {
     "name": "stdout",
     "output_type": "stream",
     "text": [
      "[[0. 1. 0. 1. 0. 1. 0. 1.]\n",
      " [1. 0. 1. 0. 1. 0. 1. 0.]\n",
      " [0. 1. 0. 1. 0. 1. 0. 1.]\n",
      " [1. 0. 1. 0. 1. 0. 1. 0.]\n",
      " [0. 1. 0. 1. 0. 1. 0. 1.]\n",
      " [1. 0. 1. 0. 1. 0. 1. 0.]\n",
      " [0. 1. 0. 1. 0. 1. 0. 1.]\n",
      " [1. 0. 1. 0. 1. 0. 1. 0.]]\n"
     ]
    }
   ],
   "source": [
    "array8x8=np.zeros(64)\n",
    "array8x8=array8x8.reshape(8,8)\n",
    "array8x8[1::2,0::2]=1\n",
    "#print(array8x8)\n",
    "array8x8[0::2,1::2]=1\n",
    "print(array8x8)"
   ]
  },
  {
   "cell_type": "code",
   "execution_count": 59,
   "id": "d204d679",
   "metadata": {},
   "outputs": [
    {
     "name": "stdout",
     "output_type": "stream",
     "text": [
      "[[0 0 0 0]\n",
      " [9 0 0 0]\n",
      " [0 8 0 0]\n",
      " [0 0 7 0]]\n"
     ]
    }
   ],
   "source": [
    "lower_diag=np.array([9,8,7])\n",
    "array4x4=np.diag(lower_diag,-1)\n",
    "print(array4x4)"
   ]
  },
  {
   "cell_type": "code",
   "execution_count": 72,
   "id": "ada85c09",
   "metadata": {},
   "outputs": [
    {
     "name": "stdout",
     "output_type": "stream",
     "text": [
      "[[ 1.  1.  1.  1.  1.  1.  1.  1.  1.  1.]\n",
      " [ 1.  1.  1.  1.  1.  1.  1.  1.  1.  1.]\n",
      " [ 1.  1.  1.  1.  1.  1.  1.  1.  1.  1.]\n",
      " [ 1.  1.  1.  1.  1.  1.  1. nan  1. nan]\n",
      " [ 1.  1.  1.  1.  1.  1.  1.  1.  1.  1.]\n",
      " [ 1. nan  1.  1.  1.  1. nan  1.  1.  1.]\n",
      " [nan  1. nan nan  1.  1.  1.  1.  1. nan]\n",
      " [ 1.  1.  1.  1.  1. nan  1.  1.  1.  1.]\n",
      " [ 1.  1.  1.  1.  1. nan  1.  1.  1.  1.]\n",
      " [ 1.  1.  1.  1.  1.  1.  1.  1.  1.  1.]]\n"
     ]
    }
   ],
   "source": [
    "array10x10=np.ones((10,10)) #creating a 10 by 10 array\n",
    "np.put(array10x10,np.random.choice(range(10*10),10,replace=False),np.nan) #This will randomly make 10 elements as nan\n",
    "print(array10x10)"
   ]
  },
  {
   "cell_type": "code",
   "execution_count": 74,
   "id": "4f1fc4af",
   "metadata": {},
   "outputs": [
    {
     "name": "stdout",
     "output_type": "stream",
     "text": [
      "Null Vector:\n",
      "[0. 0. 0. 0. 0. 0. 0. 0. 0. 0. 0. 0. 0. 0. 0. 0. 0. 0. 0. 0.]\n",
      "Null Vector After Updating:\n",
      "[ 0.  0.  0.  0.  0.  0. 11.  0.  0.  0.  0.  0.  0.  0.  0.  0.  0.  0.\n",
      "  0.  0.]\n"
     ]
    }
   ],
   "source": [
    "null_vector=np.zeros(20)\n",
    "print(\"Null Vector:\")\n",
    "print(null_vector)\n",
    "null_vector[6]=11 \n",
    "print(\"Null Vector After Updating:\")\n",
    "print(null_vector)"
   ]
  },
  {
   "cell_type": "code",
   "execution_count": 81,
   "id": "df063b05",
   "metadata": {},
   "outputs": [
    {
     "name": "stdout",
     "output_type": "stream",
     "text": [
      "int32\n"
     ]
    }
   ],
   "source": [
    "a=np.array([20,30,40])\n",
    "print(a.dtype)"
   ]
  },
  {
   "cell_type": "code",
   "execution_count": 82,
   "id": "a123ac73",
   "metadata": {},
   "outputs": [
    {
     "name": "stdout",
     "output_type": "stream",
     "text": [
      "float64\n"
     ]
    }
   ],
   "source": [
    "b=np.array([2.1,0.8,1.0])\n",
    "print(b.dtype)"
   ]
  },
  {
   "cell_type": "code",
   "execution_count": 83,
   "id": "8fe96838",
   "metadata": {},
   "outputs": [
    {
     "name": "stdout",
     "output_type": "stream",
     "text": [
      "int32\n"
     ]
    }
   ],
   "source": [
    "print(np.dtype(np.int32))"
   ]
  },
  {
   "cell_type": "code",
   "execution_count": 84,
   "id": "b3dc72eb",
   "metadata": {},
   "outputs": [
    {
     "name": "stdout",
     "output_type": "stream",
     "text": [
      "float64\n"
     ]
    }
   ],
   "source": [
    "print(np.dtype(np.float64))"
   ]
  },
  {
   "cell_type": "code",
   "execution_count": 92,
   "id": "5a878aeb",
   "metadata": {},
   "outputs": [
    {
     "name": "stdout",
     "output_type": "stream",
     "text": [
      "[[1 0 1]\n",
      " [1 0 0]\n",
      " [0 1 1]]\n"
     ]
    }
   ],
   "source": [
    "arr1=np.random.randint(0,2,9).reshape(3,3) #will create an array of 0's and 1's randomly\n",
    "print(arr1)"
   ]
  },
  {
   "cell_type": "code",
   "execution_count": 93,
   "id": "a01d61fb",
   "metadata": {},
   "outputs": [
    {
     "name": "stdout",
     "output_type": "stream",
     "text": [
      "[[0 0 1]\n",
      " [1 0 0]\n",
      " [1 0 1]]\n"
     ]
    }
   ],
   "source": [
    "arr2=np.random.randint(0,2,9).reshape(3,3) #will create an array of 0's and 1's randomly\n",
    "print(arr2)"
   ]
  },
  {
   "cell_type": "code",
   "execution_count": 94,
   "id": "26e2257e",
   "metadata": {},
   "outputs": [
    {
     "name": "stdout",
     "output_type": "stream",
     "text": [
      "[[False  True  True]\n",
      " [ True  True  True]\n",
      " [False False  True]]\n"
     ]
    }
   ],
   "source": [
    "result=(arr1==arr2)\n",
    "print(result)"
   ]
  },
  {
   "cell_type": "code",
   "execution_count": 99,
   "id": "f7075a38",
   "metadata": {},
   "outputs": [],
   "source": [
    "import pandas as pd"
   ]
  },
  {
   "cell_type": "code",
   "execution_count": 100,
   "id": "b9f85b71",
   "metadata": {},
   "outputs": [
    {
     "name": "stdout",
     "output_type": "stream",
     "text": [
      "0      New Delhi\n",
      "1     Tamil Nadu\n",
      "2        Haryana\n",
      "3         Punjab\n",
      "4      Karnataka\n",
      "5         Kerela\n",
      "6      Rajasthan\n",
      "7        Gujarat\n",
      "8    Maharashtra\n",
      "dtype: object\n"
     ]
    }
   ],
   "source": [
    "list1=[\"New Delhi\",\"Tamil Nadu\",\"Haryana\",\"Punjab\",\"Karnataka\",\"Kerela\",\"Rajasthan\",\"Gujarat\",\"Maharashtra\"]\n",
    "serie=pd.Series(list1)\n",
    "print(serie)"
   ]
  },
  {
   "cell_type": "code",
   "execution_count": 101,
   "id": "812df285",
   "metadata": {},
   "outputs": [
    {
     "name": "stdout",
     "output_type": "stream",
     "text": [
      "Apples     20\n",
      "Oranges    30\n",
      "Banana     12\n",
      "Guava      25\n",
      "Mango      32\n",
      "Kiwi       15\n",
      "Litchi      8\n",
      "dtype: int64\n"
     ]
    }
   ],
   "source": [
    "dict1={'Apples':20,'Oranges':30,'Banana':12,'Guava':25,'Mango':32,'Kiwi':15,'Litchi':8}\n",
    "serie2=pd.Series(dict1)\n",
    "print(serie2)"
   ]
  },
  {
   "cell_type": "code",
   "execution_count": 109,
   "id": "90a63859",
   "metadata": {},
   "outputs": [
    {
     "name": "stdout",
     "output_type": "stream",
     "text": [
      "0    0.092323\n",
      "1    0.611331\n",
      "2    0.560451\n",
      "3    0.132824\n",
      "4    0.895904\n",
      "5    0.213640\n",
      "6    0.799061\n",
      "7    0.617595\n",
      "8    0.570680\n",
      "9    0.565139\n",
      "dtype: float64\n"
     ]
    }
   ],
   "source": [
    "arr_rand=np.random.random(10)\n",
    "s4=pd.Series(arr_rand)\n",
    "print(s4)"
   ]
  },
  {
   "cell_type": "code",
   "execution_count": 110,
   "id": "5f1a47b4",
   "metadata": {},
   "outputs": [
    {
     "name": "stdout",
     "output_type": "stream",
     "text": [
      "0    52\n",
      "1    47\n",
      "2    93\n",
      "3    86\n",
      "4    68\n",
      "5    12\n",
      "6    17\n",
      "7    10\n",
      "8    67\n",
      "9    58\n",
      "dtype: int32\n"
     ]
    }
   ],
   "source": [
    "arr_rand2=np.random.randint(0,100,10)\n",
    "s5=pd.Series(arr_rand2)\n",
    "print(s5)"
   ]
  },
  {
   "cell_type": "code",
   "execution_count": 111,
   "id": "3900a321",
   "metadata": {},
   "outputs": [
    {
     "name": "stdout",
     "output_type": "stream",
     "text": [
      "0    0.206022\n",
      "1    1.754976\n",
      "2   -1.656479\n",
      "3   -1.752250\n",
      "4    1.317898\n",
      "5   -1.957072\n",
      "6    0.970163\n",
      "7    0.648281\n",
      "8   -0.706277\n",
      "9   -0.356905\n",
      "dtype: float64\n"
     ]
    }
   ],
   "source": [
    "arr_rand3=np.random.normal(size=10)\n",
    "s6=pd.Series(arr_rand3)\n",
    "print(s6)"
   ]
  },
  {
   "cell_type": "code",
   "execution_count": 112,
   "id": "858e3922",
   "metadata": {},
   "outputs": [
    {
     "name": "stdout",
     "output_type": "stream",
     "text": [
      "0    0.000000\n",
      "1    0.111111\n",
      "2    0.222222\n",
      "3    0.333333\n",
      "4    0.444444\n",
      "5    0.555556\n",
      "6    0.666667\n",
      "7    0.777778\n",
      "8    0.888889\n",
      "9    1.000000\n",
      "dtype: float64\n"
     ]
    }
   ],
   "source": [
    "arr_rand4=np.linspace(0,1,10)\n",
    "s7=pd.Series(arr_rand4)\n",
    "print(s7)"
   ]
  },
  {
   "cell_type": "code",
   "execution_count": 113,
   "id": "0bbfd15e",
   "metadata": {},
   "outputs": [
    {
     "name": "stdout",
     "output_type": "stream",
     "text": [
      "Apples     20\n",
      "Oranges    30\n",
      "Banana     12\n",
      "Guava      25\n",
      "Mango      32\n",
      "Kiwi       15\n",
      "Litchi      8\n",
      "dtype: int64\n"
     ]
    }
   ],
   "source": [
    "ser=pd.Series(dict1)\n",
    "print(ser)"
   ]
  },
  {
   "cell_type": "code",
   "execution_count": 114,
   "id": "136f11b4",
   "metadata": {},
   "outputs": [
    {
     "name": "stdout",
     "output_type": "stream",
     "text": [
      "Index(['Apples', 'Oranges', 'Banana', 'Guava', 'Mango', 'Kiwi', 'Litchi'], dtype='object')\n"
     ]
    }
   ],
   "source": [
    "ind=ser.index\n",
    "print(ind)"
   ]
  },
  {
   "cell_type": "code",
   "execution_count": 115,
   "id": "21da11c7",
   "metadata": {},
   "outputs": [
    {
     "name": "stdout",
     "output_type": "stream",
     "text": [
      "[20 30 12 25 32 15  8]\n"
     ]
    }
   ],
   "source": [
    "val=ser.values\n",
    "print(val)"
   ]
  },
  {
   "cell_type": "code",
   "execution_count": 117,
   "id": "baf0a981",
   "metadata": {},
   "outputs": [
    {
     "name": "stdout",
     "output_type": "stream",
     "text": [
      "A     2\n",
      "B    65\n",
      "C    17\n",
      "D    39\n",
      "E     3\n",
      "F     4\n",
      "G    71\n",
      "H     5\n",
      "I     6\n",
      "J     1\n",
      "K    23\n",
      "L    76\n",
      "M    13\n",
      "N    62\n",
      "O    19\n",
      "P    55\n",
      "Q     9\n",
      "R    41\n",
      "S     8\n",
      "T    15\n",
      "dtype: int64\n"
     ]
    }
   ],
   "source": [
    "data=[2,65,17,39,3,4,71,5,6,1,23,76,13,62,19,55,9,41,8,15]\n",
    "index=['A','B','C','D','E','F','G','H','I','J','K','L','M','N','O','P','Q','R','S','T']\n",
    "Ser5=pd.Series(data,index)\n",
    "print(Ser5)"
   ]
  },
  {
   "cell_type": "code",
   "execution_count": 118,
   "id": "00db3d0d",
   "metadata": {},
   "outputs": [
    {
     "data": {
      "text/plain": [
       "A     2\n",
       "B    65\n",
       "C    17\n",
       "D    39\n",
       "E     3\n",
       "dtype: int64"
      ]
     },
     "execution_count": 118,
     "metadata": {},
     "output_type": "execute_result"
    }
   ],
   "source": [
    "Ser5.head()"
   ]
  },
  {
   "cell_type": "code",
   "execution_count": 119,
   "id": "91ee93b4",
   "metadata": {},
   "outputs": [
    {
     "data": {
      "text/plain": [
       "P    55\n",
       "Q     9\n",
       "R    41\n",
       "S     8\n",
       "T    15\n",
       "dtype: int64"
      ]
     },
     "execution_count": 119,
     "metadata": {},
     "output_type": "execute_result"
    }
   ],
   "source": [
    "Ser5.tail()"
   ]
  },
  {
   "cell_type": "code",
   "execution_count": 121,
   "id": "28285202",
   "metadata": {},
   "outputs": [
    {
     "name": "stdout",
     "output_type": "stream",
     "text": [
      "7         Mary\n",
      "5         John\n",
      "6         Lily\n",
      "1        Arnie\n",
      "2    Elizabeth\n",
      "3        Ester\n",
      "8         Mike\n",
      "4         Jack\n",
      "dtype: object\n"
     ]
    }
   ],
   "source": [
    "#Specifying an index while creating panda series\n",
    "Student_name=['Mary','John','Lily','Arnie','Elizabeth','Ester','Mike','Jack']\n",
    "Roll_no=[7,5,6,1,2,3,8,4]\n",
    "stud_serie=pd.Series(Student_name,index=Roll_no)\n",
    "print(stud_serie)"
   ]
  },
  {
   "cell_type": "code",
   "execution_count": 153,
   "id": "475762aa",
   "metadata": {},
   "outputs": [
    {
     "name": "stdout",
     "output_type": "stream",
     "text": [
      "      Name  Age   Branch Roll Number\n",
      "0   Nitika   21    Mech.   20BME2029\n",
      "1   Lipika   20      CSE   20BCE2029\n",
      "2   Lipika   20      CSE   20BCE2029\n",
      "3     Arun   19      ECE   20ECE2029\n",
      "4    Ahaan   20      CSE   20BCE2029\n",
      "5    Meeha   20  BioTech   20BBB2029\n",
      "6    Meeha   20  BioTech   20BBB2029\n",
      "7     Isha   19      CSE   20BCE2029\n",
      "8      Ram   21    Civil   20BCC2029\n",
      "9    Shyam   21    Mech.   20BME2029\n",
      "10    Sita   20      ECE   20ECE2029\n"
     ]
    }
   ],
   "source": [
    "stud_details=[('Nitika',21,'Mech.','20BME2029'),('Lipika',20,'CSE','20BCE2029'),\n",
    "              ('Lipika',20,'CSE','20BCE2029'),('Arun',19,'ECE','20ECE2029'),\n",
    "              ('Ahaan',20,'CSE','20BCE2029'),('Meeha',20,'BioTech','20BBB2029'),\n",
    "             ('Meeha',20,'BioTech','20BBB2029'),('Isha',19,'CSE','20BCE2029'),\n",
    "             ('Ram',21,'Civil','20BCC2029'),\n",
    "             ('Shyam',21,'Mech.','20BME2029'),('Sita',20,'ECE','20ECE2029')]\n",
    "col=['Name','Age','Branch','Roll Number']\n",
    "df=pd.DataFrame(stud_details,columns=col)\n",
    "print(df)"
   ]
  },
  {
   "cell_type": "code",
   "execution_count": 154,
   "id": "bc4ad55e",
   "metadata": {},
   "outputs": [
    {
     "name": "stdout",
     "output_type": "stream",
     "text": [
      "     Name  Age   Branch Roll Number\n",
      "2  Lipika   20      CSE   20BCE2029\n",
      "6   Meeha   20  BioTech   20BBB2029\n"
     ]
    }
   ],
   "source": [
    "#row duplicates\n",
    "dupl=df[df.duplicated()]\n",
    "print(dupl)"
   ]
  },
  {
   "cell_type": "code",
   "execution_count": 155,
   "id": "fd81ab56",
   "metadata": {},
   "outputs": [
    {
     "name": "stdout",
     "output_type": "stream",
     "text": [
      "     Name  Age   Branch Roll Number\n",
      "1  Lipika   20      CSE   20BCE2029\n",
      "5   Meeha   20  BioTech   20BBB2029\n"
     ]
    }
   ],
   "source": [
    "dupl1=df[df.duplicated(keep='last')]\n",
    "print(dupl1)"
   ]
  },
  {
   "cell_type": "code",
   "execution_count": 143,
   "id": "aa70f400",
   "metadata": {},
   "outputs": [
    {
     "name": "stdout",
     "output_type": "stream",
     "text": [
      "     Name  Age Branch Roll Number\n",
      "3   Ahaan   20    CSE   20BCE2029\n",
      "5    Isha   19    CSE   20BCE2029\n",
      "6  Lipika   20    CSE   20BCE2029\n",
      "8   Shyam   21  Mech.   20BME2029\n",
      "9    Sita   20    ECE   20ECE2029\n"
     ]
    }
   ],
   "source": [
    "#columns\n",
    "dup_col=df[df.duplicated('Branch')]\n",
    "print(dup_col)"
   ]
  },
  {
   "cell_type": "code",
   "execution_count": 144,
   "id": "9a76852f",
   "metadata": {},
   "outputs": [
    {
     "name": "stdout",
     "output_type": "stream",
     "text": [
      "     Name  Age   Branch Roll Number\n",
      "3   Ahaan   20      CSE   20BCE2029\n",
      "4   Meeha   20  BioTech   20BBB2029\n",
      "5    Isha   19      CSE   20BCE2029\n",
      "6  Lipika   20      CSE   20BCE2029\n",
      "7     Ram   21    Civil   20BCC2029\n",
      "8   Shyam   21    Mech.   20BME2029\n",
      "9    Sita   20      ECE   20ECE2029\n"
     ]
    }
   ],
   "source": [
    "dup_col1=df[df.duplicated('Age')]\n",
    "print(dup_col1)"
   ]
  },
  {
   "cell_type": "code",
   "execution_count": 145,
   "id": "50849e55",
   "metadata": {},
   "outputs": [
    {
     "name": "stdout",
     "output_type": "stream",
     "text": [
      "     Name  Age Branch Roll Number\n",
      "3   Ahaan   20    CSE   20BCE2029\n",
      "6  Lipika   20    CSE   20BCE2029\n",
      "8   Shyam   21  Mech.   20BME2029\n"
     ]
    }
   ],
   "source": [
    "dup_col2=df[df.duplicated(['Branch','Age'])]\n",
    "print(dup_col2)"
   ]
  },
  {
   "cell_type": "code",
   "execution_count": 146,
   "id": "3daa303a",
   "metadata": {},
   "outputs": [
    {
     "name": "stdout",
     "output_type": "stream",
     "text": [
      "8\n"
     ]
    }
   ],
   "source": [
    "print(len(stud_serie))"
   ]
  },
  {
   "cell_type": "code",
   "execution_count": 147,
   "id": "9eec09ba",
   "metadata": {},
   "outputs": [
    {
     "name": "stdout",
     "output_type": "stream",
     "text": [
      "8\n"
     ]
    }
   ],
   "source": [
    "print(stud_serie.size)"
   ]
  },
  {
   "cell_type": "code",
   "execution_count": 148,
   "id": "859b05a3",
   "metadata": {},
   "outputs": [
    {
     "name": "stdout",
     "output_type": "stream",
     "text": [
      "(8,)\n"
     ]
    }
   ],
   "source": [
    "print(stud_serie.shape)"
   ]
  },
  {
   "cell_type": "code",
   "execution_count": 150,
   "id": "bab0cd4c",
   "metadata": {},
   "outputs": [
    {
     "name": "stdout",
     "output_type": "stream",
     "text": [
      "      Name  Age      City\n",
      "0    Stuti   28  Varanasi\n",
      "1   Saumya   32     Delhi\n",
      "2  Aaditya   25    Mumbai\n",
      "3   Saumya   32     Delhi\n",
      "4   Saumya   32     Delhi\n",
      "5   Saumya   32    Mumbai\n",
      "6  Aaditya   40  Dehradun\n",
      "7    Seema   32     Delhi\n"
     ]
    }
   ],
   "source": [
    "# Import pandas library\n",
    "import pandas as pd\n",
    "  \n",
    "# List of Tuples\n",
    "employees = [('Stuti', 28, 'Varanasi'),\n",
    "            ('Saumya', 32, 'Delhi'),\n",
    "            ('Aaditya', 25, 'Mumbai'),\n",
    "            ('Saumya', 32, 'Delhi'),\n",
    "            ('Saumya', 32, 'Delhi'),\n",
    "            ('Saumya', 32, 'Mumbai'),\n",
    "            ('Aaditya', 40, 'Dehradun'),\n",
    "            ('Seema', 32, 'Delhi')\n",
    "            ]\n",
    "  \n",
    "# Creating a DataFrame object\n",
    "df = pd.DataFrame(employees, \n",
    "                  columns = ['Name', 'Age', 'City'])\n",
    "  \n",
    "# Print the Dataframe\n",
    "print(df)\n"
   ]
  },
  {
   "cell_type": "code",
   "execution_count": 151,
   "id": "6d7944e5",
   "metadata": {},
   "outputs": [
    {
     "name": "stdout",
     "output_type": "stream",
     "text": [
      "     Name  Age   City\n",
      "3  Saumya   32  Delhi\n",
      "4  Saumya   32  Delhi\n"
     ]
    }
   ],
   "source": [
    "duplicate = df[df.duplicated()]\n",
    "print(duplicate)"
   ]
  },
  {
   "cell_type": "code",
   "execution_count": 1,
   "id": "172c7398",
   "metadata": {},
   "outputs": [],
   "source": [
    "import pandas as pd\n",
    "import numpy as np"
   ]
  },
  {
   "cell_type": "code",
   "execution_count": 7,
   "id": "adfe3aac",
   "metadata": {},
   "outputs": [
    {
     "name": "stdout",
     "output_type": "stream",
     "text": [
      "      Height        Weight\n",
      "0   6.476419  98262.042170\n",
      "1   6.480759  57257.731850\n",
      "2   5.009157  92505.208004\n",
      "3   4.974122  66334.897474\n",
      "4   6.292070  76051.338351\n",
      "5   5.096848  59079.721936\n",
      "6   6.369597  95578.370212\n",
      "7   5.277186  85529.872938\n",
      "8   5.500884  51467.446870\n",
      "9   5.609744  72097.493058\n",
      "10  6.487972  97466.836843\n",
      "11  5.442534  80152.041101\n",
      "12  5.848103  91726.461700\n",
      "13  4.897932  92382.726781\n",
      "14  5.845120  52395.985538\n",
      "15  6.167873  57874.166929\n",
      "16  4.897806  53608.192099\n",
      "17  5.462671  85396.493252\n",
      "18  5.386413  92315.267437\n",
      "19  4.958338  73724.453245\n",
      "20  6.378715  68867.352917\n",
      "21  4.892325  58922.405236\n",
      "22  6.065894  77952.490552\n",
      "23  4.779468  90868.923476\n",
      "24  6.196348  66281.075297\n",
      "25  5.878887  74030.834190\n",
      "26  5.965006  76080.438734\n",
      "27  5.424634  65831.064041\n",
      "28  5.766342  99218.441389\n",
      "29  4.898722  78663.633954\n",
      "30  5.555791  70435.303581\n",
      "31  4.847733  65657.307516\n",
      "32  5.016774  55072.252758\n",
      "33  4.913045  79847.238231\n",
      "34  4.980025  83100.094840\n",
      "35  5.376071  90675.355154\n",
      "36  5.772103  71320.448211\n",
      "37  6.157824  57010.503844\n",
      "38  4.726864  95433.044348\n",
      "39  6.311262  61492.245206\n"
     ]
    }
   ],
   "source": [
    "#Creating raw data\n",
    "ht=np.random.uniform(4.7,6.5,40) # Height Values in ft ranging from 4.7ft-6.5ft\n",
    "wt=np.random.uniform(50000,100000,40) # Weight Values in grams ranging from 50,000g(50kg)-100,000(100kg)\n",
    "df=pd.DataFrame()\n",
    "df['Height']=ht\n",
    "df['Weight']=wt\n",
    "print(df)"
   ]
  },
  {
   "cell_type": "code",
   "execution_count": 8,
   "id": "52a8eb63",
   "metadata": {},
   "outputs": [
    {
     "name": "stdout",
     "output_type": "stream",
     "text": [
      "      Height     Weight\n",
      "0   6.476419   9.599422\n",
      "1   6.480759  -7.574800\n",
      "2   5.009157   7.188233\n",
      "3   4.974122  -3.772925\n",
      "4   6.292070   0.296703\n",
      "5   5.096848  -6.811679\n",
      "6   6.369597   8.475395\n",
      "7   5.277186   4.266688\n",
      "8   5.500884 -10.000000\n",
      "9   5.609744  -1.359323\n",
      "10  6.487972   9.266359\n",
      "11  5.442534   2.014240\n",
      "12  5.848103   6.862063\n",
      "13  4.897932   7.136933\n",
      "14  5.845120  -9.611091\n",
      "15  6.167873  -7.316613\n",
      "16  4.897806  -9.103371\n",
      "17  5.462671   4.210823\n",
      "18  5.386413   7.108678\n",
      "19  4.958338  -0.677888\n",
      "20  6.378715  -2.712233\n",
      "21  4.892325  -6.877569\n",
      "22  6.065894   1.092981\n",
      "23  4.779468   6.502893\n",
      "24  6.196348  -3.795468\n",
      "25  5.878887  -0.549563\n",
      "26  5.965006   0.308892\n",
      "27  5.424634  -3.983951\n",
      "28  5.766342  10.000000\n",
      "29  4.898722   1.390836\n",
      "30  5.555791  -2.055513\n",
      "31  4.847733  -4.056727\n",
      "32  5.016774  -8.490165\n",
      "33  4.913045   1.886576\n",
      "34  4.980025   3.249001\n",
      "35  5.376071   6.421819\n",
      "36  5.772103  -1.684780\n",
      "37  6.157824  -7.678349\n",
      "38  4.726864   8.414526\n",
      "39  6.311262  -5.801219\n"
     ]
    }
   ],
   "source": [
    "#MinMax normalisation\n",
    "from sklearn.preprocessing import MinMaxScaler \n",
    "sc = MinMaxScaler(feature_range=(-10, 10)) \n",
    "df1=df\n",
    "df1[['Weight']] = sc.fit_transform(df1[['Weight']])\n",
    "print(df1)\n"
   ]
  },
  {
   "cell_type": "code",
   "execution_count": 9,
   "id": "89a75c52",
   "metadata": {},
   "outputs": [
    {
     "name": "stdout",
     "output_type": "stream",
     "text": [
      "      Height    Weight\n",
      "0   6.476419  1.568546\n",
      "1   6.480759 -1.250791\n",
      "2   5.009157  1.172723\n",
      "3   4.974122 -0.626672\n",
      "4   6.292070  0.041403\n",
      "5   5.096848 -1.125516\n",
      "6   6.369597  1.384025\n",
      "7   5.277186  0.693119\n",
      "8   5.500884 -1.648914\n",
      "9   5.609744 -0.230452\n",
      "10  6.487972  1.513870\n",
      "11  5.442534  0.323355\n",
      "12  5.848103  1.119179\n",
      "13  4.897932  1.164301\n",
      "14  5.845120 -1.585071\n",
      "15  6.167873 -1.208407\n",
      "16  4.897806 -1.501723\n",
      "17  5.462671  0.683948\n",
      "18  5.386413  1.159663\n",
      "19  4.958338 -0.118587\n",
      "20  6.378715 -0.452547\n",
      "21  4.892325 -1.136333\n",
      "22  6.065894  0.172120\n",
      "23  4.779468  1.060217\n",
      "24  6.196348 -0.630372\n",
      "25  5.878887 -0.097521\n",
      "26  5.965006  0.043404\n",
      "27  5.424634 -0.661314\n",
      "28  5.766342  1.634305\n",
      "29  4.898722  0.221017\n",
      "30  5.555791 -0.344740\n",
      "31  4.847733 -0.673261\n",
      "32  5.016774 -1.401058\n",
      "33  4.913045  0.302398\n",
      "34  4.980025  0.526055\n",
      "35  5.376071  1.046908\n",
      "36  5.772103 -0.283880\n",
      "37  6.157824 -1.267790\n",
      "38  4.726864  1.374032\n",
      "39  6.311262 -0.959638\n"
     ]
    }
   ],
   "source": [
    "#Z score normalisation\n",
    "from sklearn.preprocessing import StandardScaler\n",
    "df2=df\n",
    "sc = StandardScaler() \n",
    "df2[['Weight']] = sc.fit_transform(df2[['Weight']])\n",
    "print(df2)"
   ]
  },
  {
   "cell_type": "code",
   "execution_count": 17,
   "id": "92166a88",
   "metadata": {},
   "outputs": [
    {
     "name": "stdout",
     "output_type": "stream",
     "text": [
      "[[  2.63314714  -1.80728325]\n",
      " [  5.41001337  -7.81756416]\n",
      " [  9.44834369  -9.76815472]\n",
      " [ -5.35070175  -4.28777536]\n",
      " [ -9.06787025  -2.18277611]\n",
      " [  9.7080193   -8.70554671]\n",
      " [-10.           3.38511331]\n",
      " [ -0.14983217   3.5777549 ]\n",
      " [  9.98636466   5.39013358]\n",
      " [  9.20271905  -7.11579629]\n",
      " [ -4.33142545  -4.57384921]\n",
      " [  1.64146937  -9.80132289]\n",
      " [ -7.35043952  10.        ]\n",
      " [  2.48986654  -0.62775653]\n",
      " [  4.49808749   3.71150475]\n",
      " [ -9.10966022  -8.52622662]\n",
      " [  5.28215036   2.52013279]\n",
      " [ -0.7300436    1.31505019]\n",
      " [ -5.04251735   7.04099917]\n",
      " [ -9.02545139  -9.46259295]\n",
      " [ -0.1319488   -6.00864043]\n",
      " [ 10.           6.57092382]\n",
      " [  4.67137818   4.34761389]\n",
      " [ -6.02327507   1.07268337]\n",
      " [ -8.22643265   3.41351236]\n",
      " [  1.37912049  -9.25433072]\n",
      " [  1.59154273   8.18860841]\n",
      " [  2.74756448   1.81192813]\n",
      " [  4.8335007   -0.69712884]\n",
      " [  6.96739123  -7.37418285]\n",
      " [ -5.35920555  -3.12865989]\n",
      " [  4.51269333   9.96131442]\n",
      " [ -0.4093566   -4.96784761]\n",
      " [  6.7694898   -3.27556061]\n",
      " [ -3.26931093  -4.40836137]\n",
      " [  5.82199603   7.32914756]\n",
      " [  5.40247199   8.68625123]\n",
      " [  9.58592621 -10.        ]\n",
      " [  3.51310772  -9.30608207]\n",
      " [ -0.85427083  -8.27892097]]\n"
     ]
    }
   ],
   "source": [
    "scaler = MinMaxScaler(feature_range=(-10, 10))\n",
    "model=scaler.fit(df)\n",
    "scaled_data=model.transform(df)\n",
    " \n",
    "# print scaled features\n",
    "print(scaled_data)"
   ]
  },
  {
   "cell_type": "code",
   "execution_count": 30,
   "id": "dce4c9bc",
   "metadata": {},
   "outputs": [
    {
     "name": "stdout",
     "output_type": "stream",
     "text": [
      "[[ 0.254 -0.076]\n",
      " [ 0.712 -1.022]\n",
      " [ 1.378 -1.329]\n",
      " [-1.062 -0.466]\n",
      " [-1.675 -0.135]\n",
      " [ 1.421 -1.162]\n",
      " [-1.829  0.742]\n",
      " [-0.205  0.772]\n",
      " [ 1.467  1.058]\n",
      " [ 1.337 -0.912]\n",
      " [-0.894 -0.511]\n",
      " [ 0.091 -1.334]\n",
      " [-1.392  1.783]\n",
      " [ 0.231  0.11 ]\n",
      " [ 0.562  0.793]\n",
      " [-1.682 -1.134]\n",
      " [ 0.691  0.606]\n",
      " [-0.3    0.416]\n",
      " [-1.012  1.318]\n",
      " [-1.668 -1.281]\n",
      " [-0.202 -0.737]\n",
      " [ 1.469  1.243]\n",
      " [ 0.59   0.893]\n",
      " [-1.173  0.378]\n",
      " [-1.537  0.746]\n",
      " [ 0.047 -1.248]\n",
      " [ 0.082  1.498]\n",
      " [ 0.273  0.494]\n",
      " [ 0.617  0.099]\n",
      " [ 0.969 -0.952]\n",
      " [-1.064 -0.284]\n",
      " [ 0.564  1.777]\n",
      " [-0.248 -0.573]\n",
      " [ 0.936 -0.307]\n",
      " [-0.719 -0.485]\n",
      " [ 0.78   1.363]\n",
      " [ 0.711  1.577]\n",
      " [ 1.401 -1.366]\n",
      " [ 0.399 -1.256]\n",
      " [-0.321 -1.095]]\n"
     ]
    }
   ],
   "source": [
    "#Z score normalisation\n",
    "from sklearn.preprocessing import StandardScaler \n",
    "sc = StandardScaler().fit(df) \n",
    "new2 = sc.transform(df) \n",
    "print(new2)"
   ]
  },
  {
   "cell_type": "code",
   "execution_count": 5,
   "id": "fc0a51c2",
   "metadata": {},
   "outputs": [
    {
     "data": {
      "text/html": [
       "<div>\n",
       "<style scoped>\n",
       "    .dataframe tbody tr th:only-of-type {\n",
       "        vertical-align: middle;\n",
       "    }\n",
       "\n",
       "    .dataframe tbody tr th {\n",
       "        vertical-align: top;\n",
       "    }\n",
       "\n",
       "    .dataframe thead th {\n",
       "        text-align: right;\n",
       "    }\n",
       "</style>\n",
       "<table border=\"1\" class=\"dataframe\">\n",
       "  <thead>\n",
       "    <tr style=\"text-align: right;\">\n",
       "      <th></th>\n",
       "      <th>State_Name</th>\n",
       "      <th>Crop_Year</th>\n",
       "      <th>Season</th>\n",
       "      <th>Crop</th>\n",
       "      <th>Area</th>\n",
       "      <th>Production</th>\n",
       "    </tr>\n",
       "  </thead>\n",
       "  <tbody>\n",
       "    <tr>\n",
       "      <th>0</th>\n",
       "      <td>Andaman and Nicobar Islands</td>\n",
       "      <td>2000</td>\n",
       "      <td>Kharif</td>\n",
       "      <td>Arecanut</td>\n",
       "      <td>1254.0</td>\n",
       "      <td>2000.0</td>\n",
       "    </tr>\n",
       "    <tr>\n",
       "      <th>1</th>\n",
       "      <td>Andaman and Nicobar Islands</td>\n",
       "      <td>2000</td>\n",
       "      <td>Kharif</td>\n",
       "      <td>Other Kharif pulses</td>\n",
       "      <td>2.0</td>\n",
       "      <td>NaN</td>\n",
       "    </tr>\n",
       "    <tr>\n",
       "      <th>2</th>\n",
       "      <td>Andaman and Nicobar Islands</td>\n",
       "      <td>2000</td>\n",
       "      <td>Kharif</td>\n",
       "      <td>Rice</td>\n",
       "      <td>102.0</td>\n",
       "      <td>321.0</td>\n",
       "    </tr>\n",
       "    <tr>\n",
       "      <th>3</th>\n",
       "      <td>Andaman and Nicobar Islands</td>\n",
       "      <td>2000</td>\n",
       "      <td>Whole Year</td>\n",
       "      <td>Banana</td>\n",
       "      <td>176.0</td>\n",
       "      <td>641.0</td>\n",
       "    </tr>\n",
       "    <tr>\n",
       "      <th>4</th>\n",
       "      <td>Andaman and Nicobar Islands</td>\n",
       "      <td>2000</td>\n",
       "      <td>Whole Year</td>\n",
       "      <td>Cashewnut</td>\n",
       "      <td>720.0</td>\n",
       "      <td>165.0</td>\n",
       "    </tr>\n",
       "    <tr>\n",
       "      <th>5</th>\n",
       "      <td>Andaman and Nicobar Islands</td>\n",
       "      <td>2000</td>\n",
       "      <td>Whole Year</td>\n",
       "      <td>Coconut</td>\n",
       "      <td>18168.0</td>\n",
       "      <td>65100000.0</td>\n",
       "    </tr>\n",
       "    <tr>\n",
       "      <th>6</th>\n",
       "      <td>Andaman and Nicobar Islands</td>\n",
       "      <td>2000</td>\n",
       "      <td>Whole Year</td>\n",
       "      <td>Dry ginger</td>\n",
       "      <td>36.0</td>\n",
       "      <td>NaN</td>\n",
       "    </tr>\n",
       "    <tr>\n",
       "      <th>7</th>\n",
       "      <td>Andaman and Nicobar Islands</td>\n",
       "      <td>2000</td>\n",
       "      <td>Whole Year</td>\n",
       "      <td>Sugarcane</td>\n",
       "      <td>1.0</td>\n",
       "      <td>2.0</td>\n",
       "    </tr>\n",
       "    <tr>\n",
       "      <th>8</th>\n",
       "      <td>Andaman and Nicobar Islands</td>\n",
       "      <td>2000</td>\n",
       "      <td>Whole Year</td>\n",
       "      <td>Sweet potato</td>\n",
       "      <td>NaN</td>\n",
       "      <td>15.0</td>\n",
       "    </tr>\n",
       "    <tr>\n",
       "      <th>9</th>\n",
       "      <td>Andaman and Nicobar Islands</td>\n",
       "      <td>2000</td>\n",
       "      <td>Whole Year</td>\n",
       "      <td>Tapioca</td>\n",
       "      <td>40.0</td>\n",
       "      <td>169.0</td>\n",
       "    </tr>\n",
       "  </tbody>\n",
       "</table>\n",
       "</div>"
      ],
      "text/plain": [
       "                    State_Name  Crop_Year       Season                 Crop  \\\n",
       "0  Andaman and Nicobar Islands       2000  Kharif                  Arecanut   \n",
       "1  Andaman and Nicobar Islands       2000  Kharif       Other Kharif pulses   \n",
       "2  Andaman and Nicobar Islands       2000  Kharif                      Rice   \n",
       "3  Andaman and Nicobar Islands       2000  Whole Year                Banana   \n",
       "4  Andaman and Nicobar Islands       2000  Whole Year             Cashewnut   \n",
       "5  Andaman and Nicobar Islands       2000  Whole Year              Coconut    \n",
       "6  Andaman and Nicobar Islands       2000  Whole Year            Dry ginger   \n",
       "7  Andaman and Nicobar Islands       2000  Whole Year             Sugarcane   \n",
       "8  Andaman and Nicobar Islands       2000  Whole Year          Sweet potato   \n",
       "9  Andaman and Nicobar Islands       2000  Whole Year               Tapioca   \n",
       "\n",
       "      Area  Production  \n",
       "0   1254.0      2000.0  \n",
       "1      2.0         NaN  \n",
       "2    102.0       321.0  \n",
       "3    176.0       641.0  \n",
       "4    720.0       165.0  \n",
       "5  18168.0  65100000.0  \n",
       "6     36.0         NaN  \n",
       "7      1.0         2.0  \n",
       "8      NaN        15.0  \n",
       "9     40.0       169.0  "
      ]
     },
     "execution_count": 5,
     "metadata": {},
     "output_type": "execute_result"
    }
   ],
   "source": [
    "df=pd.read_csv(\"crop_production.csv\") #a csv file with crop production data\n",
    "df.head(10)"
   ]
  },
  {
   "cell_type": "code",
   "execution_count": 6,
   "id": "0eaf0dcc",
   "metadata": {},
   "outputs": [
    {
     "name": "stdout",
     "output_type": "stream",
     "text": [
      "<class 'pandas.core.frame.DataFrame'>\n",
      "RangeIndex: 49 entries, 0 to 48\n",
      "Data columns (total 6 columns):\n",
      " #   Column      Non-Null Count  Dtype  \n",
      "---  ------      --------------  -----  \n",
      " 0   State_Name  49 non-null     object \n",
      " 1   Crop_Year   49 non-null     int64  \n",
      " 2   Season      49 non-null     object \n",
      " 3   Crop        49 non-null     object \n",
      " 4   Area        47 non-null     float64\n",
      " 5   Production  44 non-null     float64\n",
      "dtypes: float64(2), int64(1), object(3)\n",
      "memory usage: 2.4+ KB\n"
     ]
    }
   ],
   "source": [
    "df.info()"
   ]
  },
  {
   "cell_type": "code",
   "execution_count": 7,
   "id": "587e24d5",
   "metadata": {},
   "outputs": [
    {
     "data": {
      "text/plain": [
       "State_Name    0\n",
       "Crop_Year     0\n",
       "Season        0\n",
       "Crop          0\n",
       "Area          2\n",
       "Production    5\n",
       "dtype: int64"
      ]
     },
     "execution_count": 7,
     "metadata": {},
     "output_type": "execute_result"
    }
   ],
   "source": [
    "df.isnull().sum()"
   ]
  },
  {
   "cell_type": "code",
   "execution_count": 11,
   "id": "fc8da83f",
   "metadata": {},
   "outputs": [
    {
     "name": "stdout",
     "output_type": "stream",
     "text": [
      "<class 'pandas.core.frame.DataFrame'>\n",
      "Int64Index: 42 entries, 0 to 48\n",
      "Data columns (total 6 columns):\n",
      " #   Column      Non-Null Count  Dtype  \n",
      "---  ------      --------------  -----  \n",
      " 0   State_Name  42 non-null     object \n",
      " 1   Crop_Year   42 non-null     int64  \n",
      " 2   Season      42 non-null     object \n",
      " 3   Crop        42 non-null     object \n",
      " 4   Area        42 non-null     float64\n",
      " 5   Production  42 non-null     float64\n",
      "dtypes: float64(2), int64(1), object(3)\n",
      "memory usage: 2.3+ KB\n"
     ]
    },
    {
     "data": {
      "text/html": [
       "<div>\n",
       "<style scoped>\n",
       "    .dataframe tbody tr th:only-of-type {\n",
       "        vertical-align: middle;\n",
       "    }\n",
       "\n",
       "    .dataframe tbody tr th {\n",
       "        vertical-align: top;\n",
       "    }\n",
       "\n",
       "    .dataframe thead th {\n",
       "        text-align: right;\n",
       "    }\n",
       "</style>\n",
       "<table border=\"1\" class=\"dataframe\">\n",
       "  <thead>\n",
       "    <tr style=\"text-align: right;\">\n",
       "      <th></th>\n",
       "      <th>State_Name</th>\n",
       "      <th>Crop_Year</th>\n",
       "      <th>Season</th>\n",
       "      <th>Crop</th>\n",
       "      <th>Area</th>\n",
       "      <th>Production</th>\n",
       "    </tr>\n",
       "  </thead>\n",
       "  <tbody>\n",
       "    <tr>\n",
       "      <th>0</th>\n",
       "      <td>Andaman and Nicobar Islands</td>\n",
       "      <td>2000</td>\n",
       "      <td>Kharif</td>\n",
       "      <td>Arecanut</td>\n",
       "      <td>1254.0</td>\n",
       "      <td>2000.0</td>\n",
       "    </tr>\n",
       "    <tr>\n",
       "      <th>2</th>\n",
       "      <td>Andaman and Nicobar Islands</td>\n",
       "      <td>2000</td>\n",
       "      <td>Kharif</td>\n",
       "      <td>Rice</td>\n",
       "      <td>102.0</td>\n",
       "      <td>321.0</td>\n",
       "    </tr>\n",
       "    <tr>\n",
       "      <th>3</th>\n",
       "      <td>Andaman and Nicobar Islands</td>\n",
       "      <td>2000</td>\n",
       "      <td>Whole Year</td>\n",
       "      <td>Banana</td>\n",
       "      <td>176.0</td>\n",
       "      <td>641.0</td>\n",
       "    </tr>\n",
       "    <tr>\n",
       "      <th>4</th>\n",
       "      <td>Andaman and Nicobar Islands</td>\n",
       "      <td>2000</td>\n",
       "      <td>Whole Year</td>\n",
       "      <td>Cashewnut</td>\n",
       "      <td>720.0</td>\n",
       "      <td>165.0</td>\n",
       "    </tr>\n",
       "    <tr>\n",
       "      <th>5</th>\n",
       "      <td>Andaman and Nicobar Islands</td>\n",
       "      <td>2000</td>\n",
       "      <td>Whole Year</td>\n",
       "      <td>Coconut</td>\n",
       "      <td>18168.0</td>\n",
       "      <td>65100000.0</td>\n",
       "    </tr>\n",
       "    <tr>\n",
       "      <th>7</th>\n",
       "      <td>Andaman and Nicobar Islands</td>\n",
       "      <td>2000</td>\n",
       "      <td>Whole Year</td>\n",
       "      <td>Sugarcane</td>\n",
       "      <td>1.0</td>\n",
       "      <td>2.0</td>\n",
       "    </tr>\n",
       "    <tr>\n",
       "      <th>9</th>\n",
       "      <td>Andaman and Nicobar Islands</td>\n",
       "      <td>2000</td>\n",
       "      <td>Whole Year</td>\n",
       "      <td>Tapioca</td>\n",
       "      <td>40.0</td>\n",
       "      <td>169.0</td>\n",
       "    </tr>\n",
       "    <tr>\n",
       "      <th>10</th>\n",
       "      <td>Andaman and Nicobar Islands</td>\n",
       "      <td>2001</td>\n",
       "      <td>Kharif</td>\n",
       "      <td>Arecanut</td>\n",
       "      <td>1254.0</td>\n",
       "      <td>2061.0</td>\n",
       "    </tr>\n",
       "    <tr>\n",
       "      <th>11</th>\n",
       "      <td>Andaman and Nicobar Islands</td>\n",
       "      <td>2001</td>\n",
       "      <td>Kharif</td>\n",
       "      <td>Other Kharif pulses</td>\n",
       "      <td>2.0</td>\n",
       "      <td>1.0</td>\n",
       "    </tr>\n",
       "    <tr>\n",
       "      <th>14</th>\n",
       "      <td>Andaman and Nicobar Islands</td>\n",
       "      <td>2001</td>\n",
       "      <td>Whole Year</td>\n",
       "      <td>Coconut</td>\n",
       "      <td>18190.0</td>\n",
       "      <td>64430000.0</td>\n",
       "    </tr>\n",
       "  </tbody>\n",
       "</table>\n",
       "</div>"
      ],
      "text/plain": [
       "                     State_Name  Crop_Year       Season                 Crop  \\\n",
       "0   Andaman and Nicobar Islands       2000  Kharif                  Arecanut   \n",
       "2   Andaman and Nicobar Islands       2000  Kharif                      Rice   \n",
       "3   Andaman and Nicobar Islands       2000  Whole Year                Banana   \n",
       "4   Andaman and Nicobar Islands       2000  Whole Year             Cashewnut   \n",
       "5   Andaman and Nicobar Islands       2000  Whole Year              Coconut    \n",
       "7   Andaman and Nicobar Islands       2000  Whole Year             Sugarcane   \n",
       "9   Andaman and Nicobar Islands       2000  Whole Year               Tapioca   \n",
       "10  Andaman and Nicobar Islands       2001  Kharif                  Arecanut   \n",
       "11  Andaman and Nicobar Islands       2001  Kharif       Other Kharif pulses   \n",
       "14  Andaman and Nicobar Islands       2001  Whole Year              Coconut    \n",
       "\n",
       "       Area  Production  \n",
       "0    1254.0      2000.0  \n",
       "2     102.0       321.0  \n",
       "3     176.0       641.0  \n",
       "4     720.0       165.0  \n",
       "5   18168.0  65100000.0  \n",
       "7       1.0         2.0  \n",
       "9      40.0       169.0  \n",
       "10   1254.0      2061.0  \n",
       "11      2.0         1.0  \n",
       "14  18190.0  64430000.0  "
      ]
     },
     "execution_count": 11,
     "metadata": {},
     "output_type": "execute_result"
    }
   ],
   "source": [
    "#assigning df to another variable so that I can demonstrate different ways of handling missing values,\n",
    "#while still having the original dataset\n",
    "df1=df \n",
    "df1=df1.dropna()\n",
    "df1.info()\n",
    "df1.head(10)"
   ]
  },
  {
   "cell_type": "code",
   "execution_count": 13,
   "id": "f5061144",
   "metadata": {},
   "outputs": [
    {
     "data": {
      "text/plain": [
       "State_Name    0\n",
       "Crop_Year     0\n",
       "Season        0\n",
       "Crop          0\n",
       "Area          0\n",
       "Production    0\n",
       "dtype: int64"
      ]
     },
     "execution_count": 13,
     "metadata": {},
     "output_type": "execute_result"
    }
   ],
   "source": [
    "df2=df\n",
    "#calculating mean of production\n",
    "mean_prod=df2['Production'].mean()\n",
    "#calculating median for area\n",
    "median_area=df2['Area'].median()\n",
    "\n",
    "#Replacing missing Values in Production column with mean of Production\n",
    "df2['Production']=df2['Production'].fillna(mean_prod)\n",
    "#Replacing missing Values in Area column with mean of Area\n",
    "df2['Area']=df2['Area'].fillna(median_area)\n",
    "\n",
    "#Checkinh missing value count\n",
    "df2.isnull().sum()"
   ]
  },
  {
   "cell_type": "code",
   "execution_count": null,
   "id": "8e4b5ef3",
   "metadata": {},
   "outputs": [],
   "source": [
    "from sklearn.preprocessing import MinMaxScaler\n",
    "mms = MinMaxScaler()\n",
    "df[['wt']] = mms.fit_transform(df[['x','z']])"
   ]
  }
 ],
 "metadata": {
  "kernelspec": {
   "display_name": "Python 3 (ipykernel)",
   "language": "python",
   "name": "python3"
  },
  "language_info": {
   "codemirror_mode": {
    "name": "ipython",
    "version": 3
   },
   "file_extension": ".py",
   "mimetype": "text/x-python",
   "name": "python",
   "nbconvert_exporter": "python",
   "pygments_lexer": "ipython3",
   "version": "3.9.12"
  }
 },
 "nbformat": 4,
 "nbformat_minor": 5
}
