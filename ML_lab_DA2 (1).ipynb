{
 "cells": [
  {
   "cell_type": "markdown",
   "id": "e1de7366",
   "metadata": {},
   "source": [
    "Linear Regression"
   ]
  },
  {
   "cell_type": "code",
   "execution_count": 3,
   "id": "feff4332",
   "metadata": {},
   "outputs": [],
   "source": [
    "#Loading all the necessary libraries\n",
    "import numpy as np\n",
    "import pandas as pd\n",
    "import matplotlib.pyplot as plt\n",
    "from sklearn.model_selection import train_test_split\n",
    "from sklearn.linear_model import LinearRegression\n",
    "from sklearn import metrics"
   ]
  },
  {
   "cell_type": "code",
   "execution_count": 4,
   "id": "544eeb4e",
   "metadata": {},
   "outputs": [],
   "source": [
    "#loading the values in different vectors\n",
    "\n",
    "price=np.array([160,280,180,200,260,240,220,170])\n",
    "sales=np.array([125,120,104,85,40,80,75,79])"
   ]
  },
  {
   "cell_type": "code",
   "execution_count": 23,
   "id": "1ee559fb",
   "metadata": {},
   "outputs": [
    {
     "name": "stdout",
     "output_type": "stream",
     "text": [
      "   Price  Sales\n",
      "0    160    125\n",
      "1    280    120\n",
      "2    180    104\n",
      "3    200     85\n",
      "4    260     40\n",
      "5    240     80\n",
      "6    220     75\n",
      "7    170     79\n"
     ]
    }
   ],
   "source": [
    "#Making a data frame from the two vectors\n",
    "df=pd.DataFrame(np.stack((price,sales), axis=1), columns=[\"Price\",\"Sales\"])\n",
    "print(df)"
   ]
  },
  {
   "cell_type": "code",
   "execution_count": 25,
   "id": "133da002",
   "metadata": {},
   "outputs": [
    {
     "data": {
      "text/plain": [
       "(8, 2)"
      ]
     },
     "execution_count": 25,
     "metadata": {},
     "output_type": "execute_result"
    }
   ],
   "source": [
    "df.shape"
   ]
  },
  {
   "cell_type": "code",
   "execution_count": 26,
   "id": "8d161800",
   "metadata": {},
   "outputs": [
    {
     "data": {
      "text/html": [
       "<div>\n",
       "<style scoped>\n",
       "    .dataframe tbody tr th:only-of-type {\n",
       "        vertical-align: middle;\n",
       "    }\n",
       "\n",
       "    .dataframe tbody tr th {\n",
       "        vertical-align: top;\n",
       "    }\n",
       "\n",
       "    .dataframe thead th {\n",
       "        text-align: right;\n",
       "    }\n",
       "</style>\n",
       "<table border=\"1\" class=\"dataframe\">\n",
       "  <thead>\n",
       "    <tr style=\"text-align: right;\">\n",
       "      <th></th>\n",
       "      <th>Price</th>\n",
       "      <th>Sales</th>\n",
       "    </tr>\n",
       "  </thead>\n",
       "  <tbody>\n",
       "    <tr>\n",
       "      <th>0</th>\n",
       "      <td>160</td>\n",
       "      <td>125</td>\n",
       "    </tr>\n",
       "    <tr>\n",
       "      <th>1</th>\n",
       "      <td>280</td>\n",
       "      <td>120</td>\n",
       "    </tr>\n",
       "    <tr>\n",
       "      <th>2</th>\n",
       "      <td>180</td>\n",
       "      <td>104</td>\n",
       "    </tr>\n",
       "    <tr>\n",
       "      <th>3</th>\n",
       "      <td>200</td>\n",
       "      <td>85</td>\n",
       "    </tr>\n",
       "    <tr>\n",
       "      <th>4</th>\n",
       "      <td>260</td>\n",
       "      <td>40</td>\n",
       "    </tr>\n",
       "  </tbody>\n",
       "</table>\n",
       "</div>"
      ],
      "text/plain": [
       "   Price  Sales\n",
       "0    160    125\n",
       "1    280    120\n",
       "2    180    104\n",
       "3    200     85\n",
       "4    260     40"
      ]
     },
     "execution_count": 26,
     "metadata": {},
     "output_type": "execute_result"
    }
   ],
   "source": [
    "df.head()"
   ]
  },
  {
   "cell_type": "code",
   "execution_count": 27,
   "id": "2fcedc31",
   "metadata": {},
   "outputs": [
    {
     "data": {
      "text/html": [
       "<div>\n",
       "<style scoped>\n",
       "    .dataframe tbody tr th:only-of-type {\n",
       "        vertical-align: middle;\n",
       "    }\n",
       "\n",
       "    .dataframe tbody tr th {\n",
       "        vertical-align: top;\n",
       "    }\n",
       "\n",
       "    .dataframe thead th {\n",
       "        text-align: right;\n",
       "    }\n",
       "</style>\n",
       "<table border=\"1\" class=\"dataframe\">\n",
       "  <thead>\n",
       "    <tr style=\"text-align: right;\">\n",
       "      <th></th>\n",
       "      <th>Price</th>\n",
       "      <th>Sales</th>\n",
       "    </tr>\n",
       "  </thead>\n",
       "  <tbody>\n",
       "    <tr>\n",
       "      <th>count</th>\n",
       "      <td>8.000000</td>\n",
       "      <td>8.000000</td>\n",
       "    </tr>\n",
       "    <tr>\n",
       "      <th>mean</th>\n",
       "      <td>213.750000</td>\n",
       "      <td>88.500000</td>\n",
       "    </tr>\n",
       "    <tr>\n",
       "      <th>std</th>\n",
       "      <td>43.732139</td>\n",
       "      <td>27.448653</td>\n",
       "    </tr>\n",
       "    <tr>\n",
       "      <th>min</th>\n",
       "      <td>160.000000</td>\n",
       "      <td>40.000000</td>\n",
       "    </tr>\n",
       "    <tr>\n",
       "      <th>25%</th>\n",
       "      <td>177.500000</td>\n",
       "      <td>78.000000</td>\n",
       "    </tr>\n",
       "    <tr>\n",
       "      <th>50%</th>\n",
       "      <td>210.000000</td>\n",
       "      <td>82.500000</td>\n",
       "    </tr>\n",
       "    <tr>\n",
       "      <th>75%</th>\n",
       "      <td>245.000000</td>\n",
       "      <td>108.000000</td>\n",
       "    </tr>\n",
       "    <tr>\n",
       "      <th>max</th>\n",
       "      <td>280.000000</td>\n",
       "      <td>125.000000</td>\n",
       "    </tr>\n",
       "  </tbody>\n",
       "</table>\n",
       "</div>"
      ],
      "text/plain": [
       "            Price       Sales\n",
       "count    8.000000    8.000000\n",
       "mean   213.750000   88.500000\n",
       "std     43.732139   27.448653\n",
       "min    160.000000   40.000000\n",
       "25%    177.500000   78.000000\n",
       "50%    210.000000   82.500000\n",
       "75%    245.000000  108.000000\n",
       "max    280.000000  125.000000"
      ]
     },
     "execution_count": 27,
     "metadata": {},
     "output_type": "execute_result"
    }
   ],
   "source": [
    "df.describe()"
   ]
  },
  {
   "cell_type": "code",
   "execution_count": 28,
   "id": "90280ff4",
   "metadata": {},
   "outputs": [
    {
     "data": {
      "image/png": "[encoded data removed]",
      "text/plain": [
       "<Figure size 432x288 with 1 Axes>"
      ]
     },
     "metadata": {
      "needs_background": "light"
     },
     "output_type": "display_data"
    }
   ],
   "source": [
    "#plotting values\n",
    "df.plot(x='Price', y='Sales', style='o')\n",
    "plt.title('Price vs Sales')\n",
    "plt.xlabel('Price')\n",
    "plt.ylabel('Sales')\n",
    "plt.show()"
   ]
  },
  {
   "cell_type": "code",
   "execution_count": 31,
   "id": "20114ac3",
   "metadata": {},
   "outputs": [
    {
     "name": "stdout",
     "output_type": "stream",
     "text": [
      "[[160]\n",
      " [280]\n",
      " [180]\n",
      " [200]\n",
      " [260]\n",
      " [240]\n",
      " [220]\n",
      " [170]]\n",
      "[[125]\n",
      " [120]\n",
      " [104]\n",
      " [ 85]\n",
      " [ 40]\n",
      " [ 80]\n",
      " [ 75]\n",
      " [ 79]]\n"
     ]
    }
   ],
   "source": [
    "#Reshaping values\n",
    "p=price.reshape(-1,1)\n",
    "s=sales.reshape(-1,1)\n",
    "print(p)\n",
    "print(s)"
   ]
  },
  {
   "cell_type": "code",
   "execution_count": 34,
   "id": "51bf7784",
   "metadata": {},
   "outputs": [],
   "source": [
    "#Splitting Data into test and train\n",
    "Price_train, Price_test, Sales_train, Sales_test = train_test_split(p, s)"
   ]
  },
  {
   "cell_type": "code",
   "execution_count": 35,
   "id": "31d9df5a",
   "metadata": {},
   "outputs": [
    {
     "data": {
      "text/plain": [
       "LinearRegression()"
      ]
     },
     "execution_count": 35,
     "metadata": {},
     "output_type": "execute_result"
    }
   ],
   "source": [
    "#Linear regression algorithm\n",
    "reg = LinearRegression()\n",
    "reg.fit(Price_train, Sales_train) #training the algorithm"
   ]
  },
  {
   "cell_type": "code",
   "execution_count": 36,
   "id": "97766003",
   "metadata": {},
   "outputs": [
    {
     "name": "stdout",
     "output_type": "stream",
     "text": [
      "[84.0464716]\n",
      "[[0.06919105]]\n"
     ]
    }
   ],
   "source": [
    "#Getting intercept\n",
    "print(reg.intercept_)\n",
    "#Getting the slope:\n",
    "print(reg.coef_)"
   ]
  },
  {
   "cell_type": "code",
   "execution_count": 47,
   "id": "e433f57f",
   "metadata": {},
   "outputs": [
    {
     "name": "stdout",
     "output_type": "stream",
     "text": [
      "Actual vs predicted value for training data\n",
      "   Actual Value  Predicted Value\n",
      "0         120.0       103.419966\n",
      "1          79.0        95.808950\n",
      "2          75.0        99.268503\n",
      "3         104.0        96.500861\n",
      "4          85.0        97.884682\n",
      "5         125.0        95.117040\n"
     ]
    }
   ],
   "source": [
    "#Seeing the trained model's predictions\n",
    "pred_train=reg.predict(Price_train)\n",
    "df_train=pd.DataFrame(np.stack((Sales_train.flatten(),pred_train.flatten()), axis=1), columns=[\"Actual Value\",\"Predicted Value\"])\n",
    "print(\"Actual vs predicted value for training data\")\n",
    "print(df_train)"
   ]
  },
  {
   "cell_type": "code",
   "execution_count": 48,
   "id": "14bd2c53",
   "metadata": {},
   "outputs": [
    {
     "data": {
      "image/png": "[encoded data removed]",
      "text/plain": [
       "<Figure size 432x288 with 1 Axes>"
      ]
     },
     "metadata": {
      "needs_background": "light"
     },
     "output_type": "display_data"
    }
   ],
   "source": [
    "#Plotting actual vs predicted values for training dataset\n",
    "plt.scatter(Price_train, Sales_train, color='blue')\n",
    "plt.plot(Price_train, pred_train, color='red', linewidth=2)\n",
    "plt.title(\"Price vs Sales (Train Dataset)\")\n",
    "plt.xlabel(\"Price\")\n",
    "plt.ylabel(\"Sales\")\n",
    "plt.show()"
   ]
  },
  {
   "cell_type": "code",
   "execution_count": 38,
   "id": "ebb38a66",
   "metadata": {},
   "outputs": [],
   "source": [
    "#Making predictions\n",
    "Prediction=reg.predict(Price_test)"
   ]
  },
  {
   "cell_type": "code",
   "execution_count": 41,
   "id": "fdea5f2f",
   "metadata": {},
   "outputs": [
    {
     "name": "stdout",
     "output_type": "stream",
     "text": [
      "   Actual Value  Predicted Value\n",
      "0          40.0       102.036145\n",
      "1          80.0       100.652324\n"
     ]
    }
   ],
   "source": [
    "df2=pd.DataFrame(np.stack((Sales_test.flatten(),Prediction.flatten()), axis=1), columns=[\"Actual Value\",\"Predicted Value\"])\n",
    "print(df2)"
   ]
  },
  {
   "cell_type": "code",
   "execution_count": 46,
   "id": "de3d1bc4",
   "metadata": {},
   "outputs": [
    {
     "data": {
      "image/png": "[encoded data removed]",
      "text/plain": [
       "<Figure size 432x288 with 1 Axes>"
      ]
     },
     "metadata": {
      "needs_background": "light"
     },
     "output_type": "display_data"
    }
   ],
   "source": [
    "plt.scatter(Price_test, Sales_test, color='blue')\n",
    "plt.plot(Price_test, Prediction, color='red', linewidth=2)\n",
    "plt.title(\"Price vs Sales (Test Dataset)\")\n",
    "plt.xlabel(\"Price\")\n",
    "plt.ylabel(\"Sales\")\n",
    "plt.show()"
   ]
  },
  {
   "cell_type": "code",
   "execution_count": 45,
   "id": "26faf846",
   "metadata": {},
   "outputs": [
    {
     "name": "stdout",
     "output_type": "stream",
     "text": [
      "Mean Absolute Error: 41.344234079173845\n",
      "Mean Squared Error: 2137.500851697916\n",
      "Root Mean Squared Error: 46.23311423317616\n"
     ]
    }
   ],
   "source": [
    "print('Mean Absolute Error:', metrics.mean_absolute_error(Sales_test, Prediction))\n",
    "print('Mean Squared Error:', metrics.mean_squared_error(Sales_test, Prediction))\n",
    "print('Root Mean Squared Error:', np.sqrt(metrics.mean_squared_error(Sales_test, Prediction)))"
   ]
  },
  {
   "cell_type": "markdown",
   "id": "6b7673ee",
   "metadata": {},
   "source": [
    "Decision Tree Algorithm"
   ]
  },
  {
   "cell_type": "code",
   "execution_count": 50,
   "id": "28addba0",
   "metadata": {},
   "outputs": [],
   "source": [
    "from sklearn.datasets import load_iris\n",
    "from sklearn import tree\n",
    "dataset=load_iris()\n",
    "data,label=dataset.data,dataset.target\n",
    "classifier=tree.DecisionTreeClassifier()\n",
    "classifier=classifier.fit(data,label)"
   ]
  },
  {
   "cell_type": "code",
   "execution_count": 51,
   "id": "0f429ebe",
   "metadata": {},
   "outputs": [
    {
     "data": {
      "text/plain": [
       "[Text(0.5, 0.9166666666666666, 'X[3] <= 0.8\\ngini = 0.667\\nsamples = 150\\nvalue = [50, 50, 50]'),\n",
       " Text(0.4230769230769231, 0.75, 'gini = 0.0\\nsamples = 50\\nvalue = [50, 0, 0]'),\n",
       " Text(0.5769230769230769, 0.75, 'X[3] <= 1.75\\ngini = 0.5\\nsamples = 100\\nvalue = [0, 50, 50]'),\n",
       " Text(0.3076923076923077, 0.5833333333333334, 'X[2] <= 4.95\\ngini = 0.168\\nsamples = 54\\nvalue = [0, 49, 5]'),\n",
       " Text(0.15384615384615385, 0.4166666666666667, 'X[3] <= 1.65\\ngini = 0.041\\nsamples = 48\\nvalue = [0, 47, 1]'),\n",
       " Text(0.07692307692307693, 0.25, 'gini = 0.0\\nsamples = 47\\nvalue = [0, 47, 0]'),\n",
       " Text(0.23076923076923078, 0.25, 'gini = 0.0\\nsamples = 1\\nvalue = [0, 0, 1]'),\n",
       " Text(0.46153846153846156, 0.4166666666666667, 'X[3] <= 1.55\\ngini = 0.444\\nsamples = 6\\nvalue = [0, 2, 4]'),\n",
       " Text(0.38461538461538464, 0.25, 'gini = 0.0\\nsamples = 3\\nvalue = [0, 0, 3]'),\n",
       " Text(0.5384615384615384, 0.25, 'X[2] <= 5.45\\ngini = 0.444\\nsamples = 3\\nvalue = [0, 2, 1]'),\n",
       " Text(0.46153846153846156, 0.08333333333333333, 'gini = 0.0\\nsamples = 2\\nvalue = [0, 2, 0]'),\n",
       " Text(0.6153846153846154, 0.08333333333333333, 'gini = 0.0\\nsamples = 1\\nvalue = [0, 0, 1]'),\n",
       " Text(0.8461538461538461, 0.5833333333333334, 'X[2] <= 4.85\\ngini = 0.043\\nsamples = 46\\nvalue = [0, 1, 45]'),\n",
       " Text(0.7692307692307693, 0.4166666666666667, 'X[0] <= 5.95\\ngini = 0.444\\nsamples = 3\\nvalue = [0, 1, 2]'),\n",
       " Text(0.6923076923076923, 0.25, 'gini = 0.0\\nsamples = 1\\nvalue = [0, 1, 0]'),\n",
       " Text(0.8461538461538461, 0.25, 'gini = 0.0\\nsamples = 2\\nvalue = [0, 0, 2]'),\n",
       " Text(0.9230769230769231, 0.4166666666666667, 'gini = 0.0\\nsamples = 43\\nvalue = [0, 0, 43]')]"
      ]
     },
     "execution_count": 51,
     "metadata": {},
     "output_type": "execute_result"
    },
    {
     "data": {
      "image/png": "[encoded data removed]",
      "text/plain": [
       "<Figure size 432x288 with 1 Axes>"
      ]
     },
     "metadata": {
      "needs_background": "light"
     },
     "output_type": "display_data"
    }
   ],
   "source": [
    "tree.plot_tree(classifier)"
   ]
  },
  {
   "cell_type": "code",
   "execution_count": 54,
   "id": "1b4fe59c",
   "metadata": {},
   "outputs": [
    {
     "data": {
      "text/plain": [
       "{'data': array([[5.1, 3.5, 1.4, 0.2],\n",
       "        [4.9, 3. , 1.4, 0.2],\n",
       "        [4.7, 3.2, 1.3, 0.2],\n",
       "        [4.6, 3.1, 1.5, 0.2],\n",
       "        [5. , 3.6, 1.4, 0.2],\n",
       "        [5.4, 3.9, 1.7, 0.4],\n",
       "        [4.6, 3.4, 1.4, 0.3],\n",
       "        [5. , 3.4, 1.5, 0.2],\n",
       "        [4.4, 2.9, 1.4, 0.2],\n",
       "        [4.9, 3.1, 1.5, 0.1],\n",
       "        [5.4, 3.7, 1.5, 0.2],\n",
       "        [4.8, 3.4, 1.6, 0.2],\n",
       "        [4.8, 3. , 1.4, 0.1],\n",
       "        [4.3, 3. , 1.1, 0.1],\n",
       "        [5.8, 4. , 1.2, 0.2],\n",
       "        [5.7, 4.4, 1.5, 0.4],\n",
       "        [5.4, 3.9, 1.3, 0.4],\n",
       "        [5.1, 3.5, 1.4, 0.3],\n",
       "        [5.7, 3.8, 1.7, 0.3],\n",
       "        [5.1, 3.8, 1.5, 0.3],\n",
       "        [5.4, 3.4, 1.7, 0.2],\n",
       "        [5.1, 3.7, 1.5, 0.4],\n",
       "        [4.6, 3.6, 1. , 0.2],\n",
       "        [5.1, 3.3, 1.7, 0.5],\n",
       "        [4.8, 3.4, 1.9, 0.2],\n",
       "        [5. , 3. , 1.6, 0.2],\n",
       "        [5. , 3.4, 1.6, 0.4],\n",
       "        [5.2, 3.5, 1.5, 0.2],\n",
       "        [5.2, 3.4, 1.4, 0.2],\n",
       "        [4.7, 3.2, 1.6, 0.2],\n",
       "        [4.8, 3.1, 1.6, 0.2],\n",
       "        [5.4, 3.4, 1.5, 0.4],\n",
       "        [5.2, 4.1, 1.5, 0.1],\n",
       "        [5.5, 4.2, 1.4, 0.2],\n",
       "        [4.9, 3.1, 1.5, 0.2],\n",
       "        [5. , 3.2, 1.2, 0.2],\n",
       "        [5.5, 3.5, 1.3, 0.2],\n",
       "        [4.9, 3.6, 1.4, 0.1],\n",
       "        [4.4, 3. , 1.3, 0.2],\n",
       "        [5.1, 3.4, 1.5, 0.2],\n",
       "        [5. , 3.5, 1.3, 0.3],\n",
       "        [4.5, 2.3, 1.3, 0.3],\n",
       "        [4.4, 3.2, 1.3, 0.2],\n",
       "        [5. , 3.5, 1.6, 0.6],\n",
       "        [5.1, 3.8, 1.9, 0.4],\n",
       "        [4.8, 3. , 1.4, 0.3],\n",
       "        [5.1, 3.8, 1.6, 0.2],\n",
       "        [4.6, 3.2, 1.4, 0.2],\n",
       "        [5.3, 3.7, 1.5, 0.2],\n",
       "        [5. , 3.3, 1.4, 0.2],\n",
       "        [7. , 3.2, 4.7, 1.4],\n",
       "        [6.4, 3.2, 4.5, 1.5],\n",
       "        [6.9, 3.1, 4.9, 1.5],\n",
       "        [5.5, 2.3, 4. , 1.3],\n",
       "        [6.5, 2.8, 4.6, 1.5],\n",
       "        [5.7, 2.8, 4.5, 1.3],\n",
       "        [6.3, 3.3, 4.7, 1.6],\n",
       "        [4.9, 2.4, 3.3, 1. ],\n",
       "        [6.6, 2.9, 4.6, 1.3],\n",
       "        [5.2, 2.7, 3.9, 1.4],\n",
       "        [5. , 2. , 3.5, 1. ],\n",
       "        [5.9, 3. , 4.2, 1.5],\n",
       "        [6. , 2.2, 4. , 1. ],\n",
       "        [6.1, 2.9, 4.7, 1.4],\n",
       "        [5.6, 2.9, 3.6, 1.3],\n",
       "        [6.7, 3.1, 4.4, 1.4],\n",
       "        [5.6, 3. , 4.5, 1.5],\n",
       "        [5.8, 2.7, 4.1, 1. ],\n",
       "        [6.2, 2.2, 4.5, 1.5],\n",
       "        [5.6, 2.5, 3.9, 1.1],\n",
       "        [5.9, 3.2, 4.8, 1.8],\n",
       "        [6.1, 2.8, 4. , 1.3],\n",
       "        [6.3, 2.5, 4.9, 1.5],\n",
       "        [6.1, 2.8, 4.7, 1.2],\n",
       "        [6.4, 2.9, 4.3, 1.3],\n",
       "        [6.6, 3. , 4.4, 1.4],\n",
       "        [6.8, 2.8, 4.8, 1.4],\n",
       "        [6.7, 3. , 5. , 1.7],\n",
       "        [6. , 2.9, 4.5, 1.5],\n",
       "        [5.7, 2.6, 3.5, 1. ],\n",
       "        [5.5, 2.4, 3.8, 1.1],\n",
       "        [5.5, 2.4, 3.7, 1. ],\n",
       "        [5.8, 2.7, 3.9, 1.2],\n",
       "        [6. , 2.7, 5.1, 1.6],\n",
       "        [5.4, 3. , 4.5, 1.5],\n",
       "        [6. , 3.4, 4.5, 1.6],\n",
       "        [6.7, 3.1, 4.7, 1.5],\n",
       "        [6.3, 2.3, 4.4, 1.3],\n",
       "        [5.6, 3. , 4.1, 1.3],\n",
       "        [5.5, 2.5, 4. , 1.3],\n",
       "        [5.5, 2.6, 4.4, 1.2],\n",
       "        [6.1, 3. , 4.6, 1.4],\n",
       "        [5.8, 2.6, 4. , 1.2],\n",
       "        [5. , 2.3, 3.3, 1. ],\n",
       "        [5.6, 2.7, 4.2, 1.3],\n",
       "        [5.7, 3. , 4.2, 1.2],\n",
       "        [5.7, 2.9, 4.2, 1.3],\n",
       "        [6.2, 2.9, 4.3, 1.3],\n",
       "        [5.1, 2.5, 3. , 1.1],\n",
       "        [5.7, 2.8, 4.1, 1.3],\n",
       "        [6.3, 3.3, 6. , 2.5],\n",
       "        [5.8, 2.7, 5.1, 1.9],\n",
       "        [7.1, 3. , 5.9, 2.1],\n",
       "        [6.3, 2.9, 5.6, 1.8],\n",
       "        [6.5, 3. , 5.8, 2.2],\n",
       "        [7.6, 3. , 6.6, 2.1],\n",
       "        [4.9, 2.5, 4.5, 1.7],\n",
       "        [7.3, 2.9, 6.3, 1.8],\n",
       "        [6.7, 2.5, 5.8, 1.8],\n",
       "        [7.2, 3.6, 6.1, 2.5],\n",
       "        [6.5, 3.2, 5.1, 2. ],\n",
       "        [6.4, 2.7, 5.3, 1.9],\n",
       "        [6.8, 3. , 5.5, 2.1],\n",
       "        [5.7, 2.5, 5. , 2. ],\n",
       "        [5.8, 2.8, 5.1, 2.4],\n",
       "        [6.4, 3.2, 5.3, 2.3],\n",
       "        [6.5, 3. , 5.5, 1.8],\n",
       "        [7.7, 3.8, 6.7, 2.2],\n",
       "        [7.7, 2.6, 6.9, 2.3],\n",
       "        [6. , 2.2, 5. , 1.5],\n",
       "        [6.9, 3.2, 5.7, 2.3],\n",
       "        [5.6, 2.8, 4.9, 2. ],\n",
       "        [7.7, 2.8, 6.7, 2. ],\n",
       "        [6.3, 2.7, 4.9, 1.8],\n",
       "        [6.7, 3.3, 5.7, 2.1],\n",
       "        [7.2, 3.2, 6. , 1.8],\n",
       "        [6.2, 2.8, 4.8, 1.8],\n",
       "        [6.1, 3. , 4.9, 1.8],\n",
       "        [6.4, 2.8, 5.6, 2.1],\n",
       "        [7.2, 3. , 5.8, 1.6],\n",
       "        [7.4, 2.8, 6.1, 1.9],\n",
       "        [7.9, 3.8, 6.4, 2. ],\n",
       "        [6.4, 2.8, 5.6, 2.2],\n",
       "        [6.3, 2.8, 5.1, 1.5],\n",
       "        [6.1, 2.6, 5.6, 1.4],\n",
       "        [7.7, 3. , 6.1, 2.3],\n",
       "        [6.3, 3.4, 5.6, 2.4],\n",
       "        [6.4, 3.1, 5.5, 1.8],\n",
       "        [6. , 3. , 4.8, 1.8],\n",
       "        [6.9, 3.1, 5.4, 2.1],\n",
       "        [6.7, 3.1, 5.6, 2.4],\n",
       "        [6.9, 3.1, 5.1, 2.3],\n",
       "        [5.8, 2.7, 5.1, 1.9],\n",
       "        [6.8, 3.2, 5.9, 2.3],\n",
       "        [6.7, 3.3, 5.7, 2.5],\n",
       "        [6.7, 3. , 5.2, 2.3],\n",
       "        [6.3, 2.5, 5. , 1.9],\n",
       "        [6.5, 3. , 5.2, 2. ],\n",
       "        [6.2, 3.4, 5.4, 2.3],\n",
       "        [5.9, 3. , 5.1, 1.8]]),\n",
       " 'target': array([0, 0, 0, 0, 0, 0, 0, 0, 0, 0, 0, 0, 0, 0, 0, 0, 0, 0, 0, 0, 0, 0,\n",
       "        0, 0, 0, 0, 0, 0, 0, 0, 0, 0, 0, 0, 0, 0, 0, 0, 0, 0, 0, 0, 0, 0,\n",
       "        0, 0, 0, 0, 0, 0, 1, 1, 1, 1, 1, 1, 1, 1, 1, 1, 1, 1, 1, 1, 1, 1,\n",
       "        1, 1, 1, 1, 1, 1, 1, 1, 1, 1, 1, 1, 1, 1, 1, 1, 1, 1, 1, 1, 1, 1,\n",
       "        1, 1, 1, 1, 1, 1, 1, 1, 1, 1, 1, 1, 2, 2, 2, 2, 2, 2, 2, 2, 2, 2,\n",
       "        2, 2, 2, 2, 2, 2, 2, 2, 2, 2, 2, 2, 2, 2, 2, 2, 2, 2, 2, 2, 2, 2,\n",
       "        2, 2, 2, 2, 2, 2, 2, 2, 2, 2, 2, 2, 2, 2, 2, 2, 2, 2]),\n",
       " 'frame': None,\n",
       " 'target_names': array(['setosa', 'versicolor', 'virginica'], dtype='<U10'),\n",
       " 'DESCR': '.. _iris_dataset:\\n\\nIris plants dataset\\n--------------------\\n\\n**Data Set Characteristics:**\\n\\n    :Number of Instances: 150 (50 in each of three classes)\\n    :Number of Attributes: 4 numeric, predictive attributes and the class\\n    :Attribute Information:\\n        - sepal length in cm\\n        - sepal width in cm\\n        - petal length in cm\\n        - petal width in cm\\n        - class:\\n                - Iris-Setosa\\n                - Iris-Versicolour\\n                - Iris-Virginica\\n                \\n    :Summary Statistics:\\n\\n    ============== ==== ==== ======= ===== ====================\\n                    Min  Max   Mean    SD   Class Correlation\\n    ============== ==== ==== ======= ===== ====================\\n    sepal length:   4.3  7.9   5.84   0.83    0.7826\\n    sepal width:    2.0  4.4   3.05   0.43   -0.4194\\n    petal length:   1.0  6.9   3.76   1.76    0.9490  (high!)\\n    petal width:    0.1  2.5   1.20   0.76    0.9565  (high!)\\n    ============== ==== ==== ======= ===== ====================\\n\\n    :Missing Attribute Values: None\\n    :Class Distribution: 33.3% for each of 3 classes.\\n    :Creator: R.A. Fisher\\n    :Donor: Michael Marshall (MARSHALL%PLU@io.arc.nasa.gov)\\n    :Date: July, 1988\\n\\nThe famous Iris database, first used by Sir R.A. Fisher. The dataset is taken\\nfrom Fisher\\'s paper. Note that it\\'s the same as in R, but not as in the UCI\\nMachine Learning Repository, which has two wrong data points.\\n\\nThis is perhaps the best known database to be found in the\\npattern recognition literature.  Fisher\\'s paper is a classic in the field and\\nis referenced frequently to this day.  (See Duda & Hart, for example.)  The\\ndata set contains 3 classes of 50 instances each, where each class refers to a\\ntype of iris plant.  One class is linearly separable from the other 2; the\\nlatter are NOT linearly separable from each other.\\n\\n.. topic:: References\\n\\n   - Fisher, R.A. \"The use of multiple measurements in taxonomic problems\"\\n     Annual Eugenics, 7, Part II, 179-188 (1936); also in \"Contributions to\\n     Mathematical Statistics\" (John Wiley, NY, 1950).\\n   - Duda, R.O., & Hart, P.E. (1973) Pattern Classification and Scene Analysis.\\n     (Q327.D83) John Wiley & Sons.  ISBN 0-471-22361-1.  See page 218.\\n   - Dasarathy, B.V. (1980) \"Nosing Around the Neighborhood: A New System\\n     Structure and Classification Rule for Recognition in Partially Exposed\\n     Environments\".  IEEE Transactions on Pattern Analysis and Machine\\n     Intelligence, Vol. PAMI-2, No. 1, 67-71.\\n   - Gates, G.W. (1972) \"The Reduced Nearest Neighbor Rule\".  IEEE Transactions\\n     on Information Theory, May 1972, 431-433.\\n   - See also: 1988 MLC Proceedings, 54-64.  Cheeseman et al\"s AUTOCLASS II\\n     conceptual clustering system finds 3 classes in the data.\\n   - Many, many more ...',\n",
       " 'feature_names': ['sepal length (cm)',\n",
       "  'sepal width (cm)',\n",
       "  'petal length (cm)',\n",
       "  'petal width (cm)'],\n",
       " 'filename': 'iris.csv',\n",
       " 'data_module': 'sklearn.datasets.data'}"
      ]
     },
     "execution_count": 54,
     "metadata": {},
     "output_type": "execute_result"
    }
   ],
   "source": [
    "dataset"
   ]
  },
  {
   "cell_type": "markdown",
   "id": "8cdd6f0d",
   "metadata": {},
   "source": [
    "Find-s Algorithm"
   ]
  },
  {
   "cell_type": "code",
   "execution_count": 1,
   "id": "4d0ce191",
   "metadata": {},
   "outputs": [],
   "source": [
    "import pandas as pd\n",
    "import numpy as np"
   ]
  },
  {
   "cell_type": "code",
   "execution_count": 2,
   "id": "f1d07641",
   "metadata": {},
   "outputs": [
    {
     "name": "stdout",
     "output_type": "stream",
     "text": [
      "[['Sunny' 'Warm' 'Normal' 'Strong' 'Warm' 'Same' 'yes']\n",
      " ['Sunny' 'Warm' 'High' 'Strong' 'Warm' 'Same' 'yes']\n",
      " ['Rainy' 'Cold' 'High' 'Strong' 'Warm' 'Change' 'no']\n",
      " ['Sunny' 'Warm' 'High' 'Strong' 'Cool' 'Change' 'yes']]\n"
     ]
    }
   ],
   "source": [
    "#data\n",
    "arr=np.array([['Sunny', 'Warm', 'Normal' ,'Strong' ,'Warm', 'Same','yes'] ,\n",
    "                     ['Sunny', 'Warm' ,'High', 'Strong', 'Warm' ,'Same','yes'] ,\n",
    "                     ['Rainy', 'Cold', 'High', 'Strong', 'Warm', 'Change','no'], \n",
    "                    ['Sunny', 'Warm', 'High' ,'Strong', 'Cool', 'Change','yes']])\n",
    "print(arr)"
   ]
  },
  {
   "cell_type": "code",
   "execution_count": 3,
   "id": "3832e199",
   "metadata": {},
   "outputs": [],
   "source": [
    "#adding column names\n",
    "df=pd.DataFrame(arr, columns=['Sky','Temperature','Humidity','Wind','Water','Forecast','Enjoy'])"
   ]
  },
  {
   "cell_type": "code",
   "execution_count": 4,
   "id": "cd6172bb",
   "metadata": {},
   "outputs": [
    {
     "data": {
      "text/html": [
       "<div>\n",
       "<style scoped>\n",
       "    .dataframe tbody tr th:only-of-type {\n",
       "        vertical-align: middle;\n",
       "    }\n",
       "\n",
       "    .dataframe tbody tr th {\n",
       "        vertical-align: top;\n",
       "    }\n",
       "\n",
       "    .dataframe thead th {\n",
       "        text-align: right;\n",
       "    }\n",
       "</style>\n",
       "<table border=\"1\" class=\"dataframe\">\n",
       "  <thead>\n",
       "    <tr style=\"text-align: right;\">\n",
       "      <th></th>\n",
       "      <th>Sky</th>\n",
       "      <th>Temperature</th>\n",
       "      <th>Humidity</th>\n",
       "      <th>Wind</th>\n",
       "      <th>Water</th>\n",
       "      <th>Forecast</th>\n",
       "      <th>Enjoy</th>\n",
       "    </tr>\n",
       "  </thead>\n",
       "  <tbody>\n",
       "    <tr>\n",
       "      <th>0</th>\n",
       "      <td>Sunny</td>\n",
       "      <td>Warm</td>\n",
       "      <td>Normal</td>\n",
       "      <td>Strong</td>\n",
       "      <td>Warm</td>\n",
       "      <td>Same</td>\n",
       "      <td>yes</td>\n",
       "    </tr>\n",
       "    <tr>\n",
       "      <th>1</th>\n",
       "      <td>Sunny</td>\n",
       "      <td>Warm</td>\n",
       "      <td>High</td>\n",
       "      <td>Strong</td>\n",
       "      <td>Warm</td>\n",
       "      <td>Same</td>\n",
       "      <td>yes</td>\n",
       "    </tr>\n",
       "    <tr>\n",
       "      <th>2</th>\n",
       "      <td>Rainy</td>\n",
       "      <td>Cold</td>\n",
       "      <td>High</td>\n",
       "      <td>Strong</td>\n",
       "      <td>Warm</td>\n",
       "      <td>Change</td>\n",
       "      <td>no</td>\n",
       "    </tr>\n",
       "    <tr>\n",
       "      <th>3</th>\n",
       "      <td>Sunny</td>\n",
       "      <td>Warm</td>\n",
       "      <td>High</td>\n",
       "      <td>Strong</td>\n",
       "      <td>Cool</td>\n",
       "      <td>Change</td>\n",
       "      <td>yes</td>\n",
       "    </tr>\n",
       "  </tbody>\n",
       "</table>\n",
       "</div>"
      ],
      "text/plain": [
       "     Sky Temperature Humidity    Wind Water Forecast Enjoy\n",
       "0  Sunny        Warm   Normal  Strong  Warm     Same   yes\n",
       "1  Sunny        Warm     High  Strong  Warm     Same   yes\n",
       "2  Rainy        Cold     High  Strong  Warm   Change    no\n",
       "3  Sunny        Warm     High  Strong  Cool   Change   yes"
      ]
     },
     "execution_count": 4,
     "metadata": {},
     "output_type": "execute_result"
    }
   ],
   "source": [
    "df"
   ]
  },
  {
   "cell_type": "code",
   "execution_count": 5,
   "id": "2a35fdc2",
   "metadata": {},
   "outputs": [
    {
     "name": "stdout",
     "output_type": "stream",
     "text": [
      "['yes' 'yes' 'no' 'yes']\n"
     ]
    }
   ],
   "source": [
    "#showing the label i.e the attribute that is the target \n",
    "label=np.array(arr)[:,-1]\n",
    "print(label)"
   ]
  },
  {
   "cell_type": "code",
   "execution_count": 8,
   "id": "01f6e3f4",
   "metadata": {},
   "outputs": [],
   "source": [
    "def findS(row,label):\n",
    "    for i, value in enumerate(label):\n",
    "        if value==\"yes\":\n",
    "            sp_hypo=row[i].copy()\n",
    "            break\n",
    "    for i,value in enumerate(row):\n",
    "        if label[i]==\"yes\":\n",
    "            for x in range(len(sp_hypo)):\n",
    "                if value[x]!=sp_hypo[x]:\n",
    "                    sp_hypo[x]='?'\n",
    "                else:\n",
    "                    pass\n",
    "    return sp_hypo"
   ]
  },
  {
   "cell_type": "code",
   "execution_count": 9,
   "id": "6e075c5b",
   "metadata": {},
   "outputs": [
    {
     "name": "stdout",
     "output_type": "stream",
     "text": [
      "['Sunny' 'Warm' '?' 'Strong' '?' '?' 'yes']\n"
     ]
    }
   ],
   "source": [
    "print(findS(arr,label))"
   ]
  },
  {
   "cell_type": "markdown",
   "id": "94413214",
   "metadata": {},
   "source": [
    "Candidate Elimination Algorithm ['Sunny' 'Warm' '?' 'Strong' '?' '?' 'yes']"
   ]
  },
  {
   "cell_type": "code",
   "execution_count": 26,
   "id": "9e15ba50",
   "metadata": {},
   "outputs": [],
   "source": [
    "#Importing the data from csv file\n",
    "df=pd.read_csv(\"Smile_Data.csv\")"
   ]
  },
  {
   "cell_type": "code",
   "execution_count": 27,
   "id": "d69ef68b",
   "metadata": {},
   "outputs": [
    {
     "data": {
      "text/html": [
       "<div>\n",
       "<style scoped>\n",
       "    .dataframe tbody tr th:only-of-type {\n",
       "        vertical-align: middle;\n",
       "    }\n",
       "\n",
       "    .dataframe tbody tr th {\n",
       "        vertical-align: top;\n",
       "    }\n",
       "\n",
       "    .dataframe thead th {\n",
       "        text-align: right;\n",
       "    }\n",
       "</style>\n",
       "<table border=\"1\" class=\"dataframe\">\n",
       "  <thead>\n",
       "    <tr style=\"text-align: right;\">\n",
       "      <th></th>\n",
       "      <th>Eyes</th>\n",
       "      <th>Nose</th>\n",
       "      <th>Head</th>\n",
       "      <th>Fcolor</th>\n",
       "      <th>Hair</th>\n",
       "      <th>Smile</th>\n",
       "    </tr>\n",
       "  </thead>\n",
       "  <tbody>\n",
       "    <tr>\n",
       "      <th>0</th>\n",
       "      <td>Round</td>\n",
       "      <td>Triangle</td>\n",
       "      <td>Round</td>\n",
       "      <td>Purple</td>\n",
       "      <td>Yes</td>\n",
       "      <td>Yes</td>\n",
       "    </tr>\n",
       "    <tr>\n",
       "      <th>1</th>\n",
       "      <td>Square</td>\n",
       "      <td>Square</td>\n",
       "      <td>Square</td>\n",
       "      <td>Green</td>\n",
       "      <td>Yes</td>\n",
       "      <td>No</td>\n",
       "    </tr>\n",
       "    <tr>\n",
       "      <th>2</th>\n",
       "      <td>Square</td>\n",
       "      <td>Triangle</td>\n",
       "      <td>Round</td>\n",
       "      <td>Yellow</td>\n",
       "      <td>Yes</td>\n",
       "      <td>Yes</td>\n",
       "    </tr>\n",
       "    <tr>\n",
       "      <th>3</th>\n",
       "      <td>Round</td>\n",
       "      <td>Triangle</td>\n",
       "      <td>Round</td>\n",
       "      <td>Green</td>\n",
       "      <td>No</td>\n",
       "      <td>No</td>\n",
       "    </tr>\n",
       "    <tr>\n",
       "      <th>4</th>\n",
       "      <td>Square</td>\n",
       "      <td>Square</td>\n",
       "      <td>Round</td>\n",
       "      <td>Yellow</td>\n",
       "      <td>Yes</td>\n",
       "      <td>Yes</td>\n",
       "    </tr>\n",
       "  </tbody>\n",
       "</table>\n",
       "</div>"
      ],
      "text/plain": [
       "     Eyes      Nose    Head  Fcolor Hair Smile\n",
       "0   Round  Triangle   Round  Purple  Yes   Yes\n",
       "1  Square    Square  Square   Green  Yes    No\n",
       "2  Square  Triangle   Round  Yellow  Yes   Yes\n",
       "3   Round  Triangle   Round   Green   No    No\n",
       "4  Square    Square   Round  Yellow  Yes   Yes"
      ]
     },
     "execution_count": 27,
     "metadata": {},
     "output_type": "execute_result"
    }
   ],
   "source": [
    "df.head()"
   ]
  },
  {
   "cell_type": "code",
   "execution_count": 29,
   "id": "e3bea848",
   "metadata": {},
   "outputs": [
    {
     "data": {
      "text/plain": [
       "array([['Round', 'Triangle', 'Round', 'Purple', 'Yes'],\n",
       "       ['Square', 'Square', 'Square', 'Green', 'Yes'],\n",
       "       ['Square', 'Triangle', 'Round', 'Yellow', 'Yes'],\n",
       "       ['Round', 'Triangle', 'Round', 'Green', 'No'],\n",
       "       ['Square', 'Square', 'Round', 'Yellow', 'Yes']], dtype=object)"
      ]
     },
     "execution_count": 29,
     "metadata": {},
     "output_type": "execute_result"
    }
   ],
   "source": [
    "#extracting rows from dataframe in a NumPy array\n",
    "arr=np.array(df.iloc[:,0:-1])\n",
    "arr"
   ]
  },
  {
   "cell_type": "code",
   "execution_count": 30,
   "id": "844db6a6",
   "metadata": {},
   "outputs": [
    {
     "name": "stdout",
     "output_type": "stream",
     "text": [
      "['Yes' 'Yes' 'Yes' 'No' 'Yes']\n"
     ]
    }
   ],
   "source": [
    "#showing the label i.e the attribute that is the target \n",
    "label=np.array(arr)[:,-1]\n",
    "print(label)"
   ]
  },
  {
   "cell_type": "code",
   "execution_count": 38,
   "id": "434b3e86",
   "metadata": {},
   "outputs": [],
   "source": [
    "def candidate_elimination(arr,label):\n",
    "    sp_hypo = arr[0].copy()\n",
    "    #print(\"Initialization of Specific and General Hypothesis\")\n",
    "    print(\"Initial Specific Hypothesis: \",sp_hypo)\n",
    "    gen_hypo = [[\"?\" for i in range(len(sp_hypo))] for i in range(len(sp_hypo))]\n",
    "    print(\"Initial General Hypothesis: \",gen_hypo)\n",
    "    print(\"\\n Starting Algorithm: \")\n",
    "    for i, h in enumerate(arr):\n",
    "        if label[i] == \"Yes\":\n",
    "            for x in range(len(sp_hypo)):\n",
    "                print(\"h[x]\",h[x])\n",
    "                if h[x] != sp_hypo[x]:\n",
    "                    sp_hypo[x] = '?'\n",
    "                    gen_hypo[x][x] = '?'\n",
    "\n",
    "        if label[i] == \"No\":\n",
    "            for x in range(len(sp_hypo)):\n",
    "                if h[x] != sp_hypo[x]:\n",
    "                    gen_hypo[x][x] = sp_hypo[x]\n",
    "                else:\n",
    "                    gen_hypo[x][x] = '?'\n",
    "\n",
    "        print(\"\\nIteration: \",i+1)\n",
    "        print(\"Specific Hypothesis: \",i+1)\n",
    "        print(sp_hypo,\"\\n\")\n",
    "        print(\"General Hypothesis:\", i+1)\n",
    "        print(gen_hypo)\n",
    "\n",
    "    indices = [i for i, val in enumerate(gen_hypo) if val == ['?', '?', '?', '?', '?', '?']]\n",
    "    print(\"\\nIndices\",indices)\n",
    "\n",
    "    for i in indices:\n",
    "        gen_hypo.remove(['?', '?', '?', '?', '?', '?'])\n",
    "\n",
    "    return sp_hypo, gen_hypo"
   ]
  },
  {
   "cell_type": "code",
   "execution_count": 39,
   "id": "a24b3dbb",
   "metadata": {},
   "outputs": [
    {
     "name": "stdout",
     "output_type": "stream",
     "text": [
      "Initial Specific Hypothesis:  ['Round' 'Triangle' 'Round' 'Purple' 'Yes']\n",
      "Initial General Hypothesis:  [['?', '?', '?', '?', '?'], ['?', '?', '?', '?', '?'], ['?', '?', '?', '?', '?'], ['?', '?', '?', '?', '?'], ['?', '?', '?', '?', '?']]\n",
      "\n",
      " Starting Algorithm: \n",
      "h[x] Round\n",
      "h[x] Triangle\n",
      "h[x] Round\n",
      "h[x] Purple\n",
      "h[x] Yes\n",
      "\n",
      "Iteration:  1\n",
      "Specific Hypothesis:  1\n",
      "['Round' 'Triangle' 'Round' 'Purple' 'Yes'] \n",
      "\n",
      "General Hypothesis: 1\n",
      "[['?', '?', '?', '?', '?'], ['?', '?', '?', '?', '?'], ['?', '?', '?', '?', '?'], ['?', '?', '?', '?', '?'], ['?', '?', '?', '?', '?']]\n",
      "h[x] Square\n",
      "h[x] Square\n",
      "h[x] Square\n",
      "h[x] Green\n",
      "h[x] Yes\n",
      "\n",
      "Iteration:  2\n",
      "Specific Hypothesis:  2\n",
      "['?' '?' '?' '?' 'Yes'] \n",
      "\n",
      "General Hypothesis: 2\n",
      "[['?', '?', '?', '?', '?'], ['?', '?', '?', '?', '?'], ['?', '?', '?', '?', '?'], ['?', '?', '?', '?', '?'], ['?', '?', '?', '?', '?']]\n",
      "h[x] Square\n",
      "h[x] Triangle\n",
      "h[x] Round\n",
      "h[x] Yellow\n",
      "h[x] Yes\n",
      "\n",
      "Iteration:  3\n",
      "Specific Hypothesis:  3\n",
      "['?' '?' '?' '?' 'Yes'] \n",
      "\n",
      "General Hypothesis: 3\n",
      "[['?', '?', '?', '?', '?'], ['?', '?', '?', '?', '?'], ['?', '?', '?', '?', '?'], ['?', '?', '?', '?', '?'], ['?', '?', '?', '?', '?']]\n",
      "\n",
      "Iteration:  4\n",
      "Specific Hypothesis:  4\n",
      "['?' '?' '?' '?' 'Yes'] \n",
      "\n",
      "General Hypothesis: 4\n",
      "[['?', '?', '?', '?', '?'], ['?', '?', '?', '?', '?'], ['?', '?', '?', '?', '?'], ['?', '?', '?', '?', '?'], ['?', '?', '?', '?', 'Yes']]\n",
      "h[x] Square\n",
      "h[x] Square\n",
      "h[x] Round\n",
      "h[x] Yellow\n",
      "h[x] Yes\n",
      "\n",
      "Iteration:  5\n",
      "Specific Hypothesis:  5\n",
      "['?' '?' '?' '?' 'Yes'] \n",
      "\n",
      "General Hypothesis: 5\n",
      "[['?', '?', '?', '?', '?'], ['?', '?', '?', '?', '?'], ['?', '?', '?', '?', '?'], ['?', '?', '?', '?', '?'], ['?', '?', '?', '?', 'Yes']]\n",
      "\n",
      "Indices []\n"
     ]
    }
   ],
   "source": [
    "s,g=candidate_elimination(arr,label)"
   ]
  },
  {
   "cell_type": "code",
   "execution_count": 44,
   "id": "eda78eb2",
   "metadata": {},
   "outputs": [
    {
     "name": "stdout",
     "output_type": "stream",
     "text": [
      "Specific Hypothesis:  ['?' '?' '?' '?' 'Yes']\n",
      "General Hypothesis:  [['?', '?', '?', '?', '?'], ['?', '?', '?', '?', '?'], ['?', '?', '?', '?', '?'], ['?', '?', '?', '?', '?'], ['?', '?', '?', '?', 'Yes']]\n"
     ]
    }
   ],
   "source": [
    "print(\"Specific Hypothesis: \",s)\n",
    "print(\"General Hypothesis: \",g)"
   ]
  },
  {
   "cell_type": "markdown",
   "id": "6bb5a610",
   "metadata": {},
   "source": [
    "ID3 Algorithm"
   ]
  },
  {
   "cell_type": "code",
   "execution_count": 76,
   "id": "adbf6f30",
   "metadata": {},
   "outputs": [],
   "source": [
    "from sklearn.datasets import load_iris\n",
    "from sklearn import tree\n",
    "from sklearn.tree import DecisionTreeClassifier\n",
    "from sklearn.metrics import accuracy_score\n",
    "from sklearn.model_selection import train_test_split\n",
    "from sklearn.metrics import confusion_matrix\n",
    "from sklearn.metrics import classification_report"
   ]
  },
  {
   "cell_type": "code",
   "execution_count": 77,
   "id": "f519a73a",
   "metadata": {},
   "outputs": [
    {
     "data": {
      "text/plain": [
       "{'data': array([[5.1, 3.5, 1.4, 0.2],\n",
       "        [4.9, 3. , 1.4, 0.2],\n",
       "        [4.7, 3.2, 1.3, 0.2],\n",
       "        [4.6, 3.1, 1.5, 0.2],\n",
       "        [5. , 3.6, 1.4, 0.2],\n",
       "        [5.4, 3.9, 1.7, 0.4],\n",
       "        [4.6, 3.4, 1.4, 0.3],\n",
       "        [5. , 3.4, 1.5, 0.2],\n",
       "        [4.4, 2.9, 1.4, 0.2],\n",
       "        [4.9, 3.1, 1.5, 0.1],\n",
       "        [5.4, 3.7, 1.5, 0.2],\n",
       "        [4.8, 3.4, 1.6, 0.2],\n",
       "        [4.8, 3. , 1.4, 0.1],\n",
       "        [4.3, 3. , 1.1, 0.1],\n",
       "        [5.8, 4. , 1.2, 0.2],\n",
       "        [5.7, 4.4, 1.5, 0.4],\n",
       "        [5.4, 3.9, 1.3, 0.4],\n",
       "        [5.1, 3.5, 1.4, 0.3],\n",
       "        [5.7, 3.8, 1.7, 0.3],\n",
       "        [5.1, 3.8, 1.5, 0.3],\n",
       "        [5.4, 3.4, 1.7, 0.2],\n",
       "        [5.1, 3.7, 1.5, 0.4],\n",
       "        [4.6, 3.6, 1. , 0.2],\n",
       "        [5.1, 3.3, 1.7, 0.5],\n",
       "        [4.8, 3.4, 1.9, 0.2],\n",
       "        [5. , 3. , 1.6, 0.2],\n",
       "        [5. , 3.4, 1.6, 0.4],\n",
       "        [5.2, 3.5, 1.5, 0.2],\n",
       "        [5.2, 3.4, 1.4, 0.2],\n",
       "        [4.7, 3.2, 1.6, 0.2],\n",
       "        [4.8, 3.1, 1.6, 0.2],\n",
       "        [5.4, 3.4, 1.5, 0.4],\n",
       "        [5.2, 4.1, 1.5, 0.1],\n",
       "        [5.5, 4.2, 1.4, 0.2],\n",
       "        [4.9, 3.1, 1.5, 0.2],\n",
       "        [5. , 3.2, 1.2, 0.2],\n",
       "        [5.5, 3.5, 1.3, 0.2],\n",
       "        [4.9, 3.6, 1.4, 0.1],\n",
       "        [4.4, 3. , 1.3, 0.2],\n",
       "        [5.1, 3.4, 1.5, 0.2],\n",
       "        [5. , 3.5, 1.3, 0.3],\n",
       "        [4.5, 2.3, 1.3, 0.3],\n",
       "        [4.4, 3.2, 1.3, 0.2],\n",
       "        [5. , 3.5, 1.6, 0.6],\n",
       "        [5.1, 3.8, 1.9, 0.4],\n",
       "        [4.8, 3. , 1.4, 0.3],\n",
       "        [5.1, 3.8, 1.6, 0.2],\n",
       "        [4.6, 3.2, 1.4, 0.2],\n",
       "        [5.3, 3.7, 1.5, 0.2],\n",
       "        [5. , 3.3, 1.4, 0.2],\n",
       "        [7. , 3.2, 4.7, 1.4],\n",
       "        [6.4, 3.2, 4.5, 1.5],\n",
       "        [6.9, 3.1, 4.9, 1.5],\n",
       "        [5.5, 2.3, 4. , 1.3],\n",
       "        [6.5, 2.8, 4.6, 1.5],\n",
       "        [5.7, 2.8, 4.5, 1.3],\n",
       "        [6.3, 3.3, 4.7, 1.6],\n",
       "        [4.9, 2.4, 3.3, 1. ],\n",
       "        [6.6, 2.9, 4.6, 1.3],\n",
       "        [5.2, 2.7, 3.9, 1.4],\n",
       "        [5. , 2. , 3.5, 1. ],\n",
       "        [5.9, 3. , 4.2, 1.5],\n",
       "        [6. , 2.2, 4. , 1. ],\n",
       "        [6.1, 2.9, 4.7, 1.4],\n",
       "        [5.6, 2.9, 3.6, 1.3],\n",
       "        [6.7, 3.1, 4.4, 1.4],\n",
       "        [5.6, 3. , 4.5, 1.5],\n",
       "        [5.8, 2.7, 4.1, 1. ],\n",
       "        [6.2, 2.2, 4.5, 1.5],\n",
       "        [5.6, 2.5, 3.9, 1.1],\n",
       "        [5.9, 3.2, 4.8, 1.8],\n",
       "        [6.1, 2.8, 4. , 1.3],\n",
       "        [6.3, 2.5, 4.9, 1.5],\n",
       "        [6.1, 2.8, 4.7, 1.2],\n",
       "        [6.4, 2.9, 4.3, 1.3],\n",
       "        [6.6, 3. , 4.4, 1.4],\n",
       "        [6.8, 2.8, 4.8, 1.4],\n",
       "        [6.7, 3. , 5. , 1.7],\n",
       "        [6. , 2.9, 4.5, 1.5],\n",
       "        [5.7, 2.6, 3.5, 1. ],\n",
       "        [5.5, 2.4, 3.8, 1.1],\n",
       "        [5.5, 2.4, 3.7, 1. ],\n",
       "        [5.8, 2.7, 3.9, 1.2],\n",
       "        [6. , 2.7, 5.1, 1.6],\n",
       "        [5.4, 3. , 4.5, 1.5],\n",
       "        [6. , 3.4, 4.5, 1.6],\n",
       "        [6.7, 3.1, 4.7, 1.5],\n",
       "        [6.3, 2.3, 4.4, 1.3],\n",
       "        [5.6, 3. , 4.1, 1.3],\n",
       "        [5.5, 2.5, 4. , 1.3],\n",
       "        [5.5, 2.6, 4.4, 1.2],\n",
       "        [6.1, 3. , 4.6, 1.4],\n",
       "        [5.8, 2.6, 4. , 1.2],\n",
       "        [5. , 2.3, 3.3, 1. ],\n",
       "        [5.6, 2.7, 4.2, 1.3],\n",
       "        [5.7, 3. , 4.2, 1.2],\n",
       "        [5.7, 2.9, 4.2, 1.3],\n",
       "        [6.2, 2.9, 4.3, 1.3],\n",
       "        [5.1, 2.5, 3. , 1.1],\n",
       "        [5.7, 2.8, 4.1, 1.3],\n",
       "        [6.3, 3.3, 6. , 2.5],\n",
       "        [5.8, 2.7, 5.1, 1.9],\n",
       "        [7.1, 3. , 5.9, 2.1],\n",
       "        [6.3, 2.9, 5.6, 1.8],\n",
       "        [6.5, 3. , 5.8, 2.2],\n",
       "        [7.6, 3. , 6.6, 2.1],\n",
       "        [4.9, 2.5, 4.5, 1.7],\n",
       "        [7.3, 2.9, 6.3, 1.8],\n",
       "        [6.7, 2.5, 5.8, 1.8],\n",
       "        [7.2, 3.6, 6.1, 2.5],\n",
       "        [6.5, 3.2, 5.1, 2. ],\n",
       "        [6.4, 2.7, 5.3, 1.9],\n",
       "        [6.8, 3. , 5.5, 2.1],\n",
       "        [5.7, 2.5, 5. , 2. ],\n",
       "        [5.8, 2.8, 5.1, 2.4],\n",
       "        [6.4, 3.2, 5.3, 2.3],\n",
       "        [6.5, 3. , 5.5, 1.8],\n",
       "        [7.7, 3.8, 6.7, 2.2],\n",
       "        [7.7, 2.6, 6.9, 2.3],\n",
       "        [6. , 2.2, 5. , 1.5],\n",
       "        [6.9, 3.2, 5.7, 2.3],\n",
       "        [5.6, 2.8, 4.9, 2. ],\n",
       "        [7.7, 2.8, 6.7, 2. ],\n",
       "        [6.3, 2.7, 4.9, 1.8],\n",
       "        [6.7, 3.3, 5.7, 2.1],\n",
       "        [7.2, 3.2, 6. , 1.8],\n",
       "        [6.2, 2.8, 4.8, 1.8],\n",
       "        [6.1, 3. , 4.9, 1.8],\n",
       "        [6.4, 2.8, 5.6, 2.1],\n",
       "        [7.2, 3. , 5.8, 1.6],\n",
       "        [7.4, 2.8, 6.1, 1.9],\n",
       "        [7.9, 3.8, 6.4, 2. ],\n",
       "        [6.4, 2.8, 5.6, 2.2],\n",
       "        [6.3, 2.8, 5.1, 1.5],\n",
       "        [6.1, 2.6, 5.6, 1.4],\n",
       "        [7.7, 3. , 6.1, 2.3],\n",
       "        [6.3, 3.4, 5.6, 2.4],\n",
       "        [6.4, 3.1, 5.5, 1.8],\n",
       "        [6. , 3. , 4.8, 1.8],\n",
       "        [6.9, 3.1, 5.4, 2.1],\n",
       "        [6.7, 3.1, 5.6, 2.4],\n",
       "        [6.9, 3.1, 5.1, 2.3],\n",
       "        [5.8, 2.7, 5.1, 1.9],\n",
       "        [6.8, 3.2, 5.9, 2.3],\n",
       "        [6.7, 3.3, 5.7, 2.5],\n",
       "        [6.7, 3. , 5.2, 2.3],\n",
       "        [6.3, 2.5, 5. , 1.9],\n",
       "        [6.5, 3. , 5.2, 2. ],\n",
       "        [6.2, 3.4, 5.4, 2.3],\n",
       "        [5.9, 3. , 5.1, 1.8]]),\n",
       " 'target': array([0, 0, 0, 0, 0, 0, 0, 0, 0, 0, 0, 0, 0, 0, 0, 0, 0, 0, 0, 0, 0, 0,\n",
       "        0, 0, 0, 0, 0, 0, 0, 0, 0, 0, 0, 0, 0, 0, 0, 0, 0, 0, 0, 0, 0, 0,\n",
       "        0, 0, 0, 0, 0, 0, 1, 1, 1, 1, 1, 1, 1, 1, 1, 1, 1, 1, 1, 1, 1, 1,\n",
       "        1, 1, 1, 1, 1, 1, 1, 1, 1, 1, 1, 1, 1, 1, 1, 1, 1, 1, 1, 1, 1, 1,\n",
       "        1, 1, 1, 1, 1, 1, 1, 1, 1, 1, 1, 1, 2, 2, 2, 2, 2, 2, 2, 2, 2, 2,\n",
       "        2, 2, 2, 2, 2, 2, 2, 2, 2, 2, 2, 2, 2, 2, 2, 2, 2, 2, 2, 2, 2, 2,\n",
       "        2, 2, 2, 2, 2, 2, 2, 2, 2, 2, 2, 2, 2, 2, 2, 2, 2, 2]),\n",
       " 'frame': None,\n",
       " 'target_names': array(['setosa', 'versicolor', 'virginica'], dtype='<U10'),\n",
       " 'DESCR': '.. _iris_dataset:\\n\\nIris plants dataset\\n--------------------\\n\\n**Data Set Characteristics:**\\n\\n    :Number of Instances: 150 (50 in each of three classes)\\n    :Number of Attributes: 4 numeric, predictive attributes and the class\\n    :Attribute Information:\\n        - sepal length in cm\\n        - sepal width in cm\\n        - petal length in cm\\n        - petal width in cm\\n        - class:\\n                - Iris-Setosa\\n                - Iris-Versicolour\\n                - Iris-Virginica\\n                \\n    :Summary Statistics:\\n\\n    ============== ==== ==== ======= ===== ====================\\n                    Min  Max   Mean    SD   Class Correlation\\n    ============== ==== ==== ======= ===== ====================\\n    sepal length:   4.3  7.9   5.84   0.83    0.7826\\n    sepal width:    2.0  4.4   3.05   0.43   -0.4194\\n    petal length:   1.0  6.9   3.76   1.76    0.9490  (high!)\\n    petal width:    0.1  2.5   1.20   0.76    0.9565  (high!)\\n    ============== ==== ==== ======= ===== ====================\\n\\n    :Missing Attribute Values: None\\n    :Class Distribution: 33.3% for each of 3 classes.\\n    :Creator: R.A. Fisher\\n    :Donor: Michael Marshall (MARSHALL%PLU@io.arc.nasa.gov)\\n    :Date: July, 1988\\n\\nThe famous Iris database, first used by Sir R.A. Fisher. The dataset is taken\\nfrom Fisher\\'s paper. Note that it\\'s the same as in R, but not as in the UCI\\nMachine Learning Repository, which has two wrong data points.\\n\\nThis is perhaps the best known database to be found in the\\npattern recognition literature.  Fisher\\'s paper is a classic in the field and\\nis referenced frequently to this day.  (See Duda & Hart, for example.)  The\\ndata set contains 3 classes of 50 instances each, where each class refers to a\\ntype of iris plant.  One class is linearly separable from the other 2; the\\nlatter are NOT linearly separable from each other.\\n\\n.. topic:: References\\n\\n   - Fisher, R.A. \"The use of multiple measurements in taxonomic problems\"\\n     Annual Eugenics, 7, Part II, 179-188 (1936); also in \"Contributions to\\n     Mathematical Statistics\" (John Wiley, NY, 1950).\\n   - Duda, R.O., & Hart, P.E. (1973) Pattern Classification and Scene Analysis.\\n     (Q327.D83) John Wiley & Sons.  ISBN 0-471-22361-1.  See page 218.\\n   - Dasarathy, B.V. (1980) \"Nosing Around the Neighborhood: A New System\\n     Structure and Classification Rule for Recognition in Partially Exposed\\n     Environments\".  IEEE Transactions on Pattern Analysis and Machine\\n     Intelligence, Vol. PAMI-2, No. 1, 67-71.\\n   - Gates, G.W. (1972) \"The Reduced Nearest Neighbor Rule\".  IEEE Transactions\\n     on Information Theory, May 1972, 431-433.\\n   - See also: 1988 MLC Proceedings, 54-64.  Cheeseman et al\"s AUTOCLASS II\\n     conceptual clustering system finds 3 classes in the data.\\n   - Many, many more ...',\n",
       " 'feature_names': ['sepal length (cm)',\n",
       "  'sepal width (cm)',\n",
       "  'petal length (cm)',\n",
       "  'petal width (cm)'],\n",
       " 'filename': 'iris.csv',\n",
       " 'data_module': 'sklearn.datasets.data'}"
      ]
     },
     "execution_count": 77,
     "metadata": {},
     "output_type": "execute_result"
    }
   ],
   "source": [
    "df=load_iris()\n",
    "df"
   ]
  },
  {
   "cell_type": "code",
   "execution_count": 78,
   "id": "1c7beac0",
   "metadata": {},
   "outputs": [
    {
     "name": "stdout",
     "output_type": "stream",
     "text": [
      "['setosa' 'versicolor' 'virginica']\n"
     ]
    }
   ],
   "source": [
    "print(df.target_names)"
   ]
  },
  {
   "cell_type": "code",
   "execution_count": 79,
   "id": "ffff1ec4",
   "metadata": {},
   "outputs": [
    {
     "name": "stdout",
     "output_type": "stream",
     "text": [
      ".. _iris_dataset:\n",
      "\n",
      "Iris plants dataset\n",
      "--------------------\n",
      "\n",
      "**Data Set Characteristics:**\n",
      "\n",
      "    :Number of Instances: 150 (50 in each of three classes)\n",
      "    :Number of Attributes: 4 numeric, predictive attributes and the class\n",
      "    :Attribute Information:\n",
      "        - sepal length in cm\n",
      "        - sepal width in cm\n",
      "        - petal length in cm\n",
      "        - petal width in cm\n",
      "        - class:\n",
      "                - Iris-Setosa\n",
      "                - Iris-Versicolour\n",
      "                - Iris-Virginica\n",
      "                \n",
      "    :Summary Statistics:\n",
      "\n",
      "    ============== ==== ==== ======= ===== ====================\n",
      "                    Min  Max   Mean    SD   Class Correlation\n",
      "    ============== ==== ==== ======= ===== ====================\n",
      "    sepal length:   4.3  7.9   5.84   0.83    0.7826\n",
      "    sepal width:    2.0  4.4   3.05   0.43   -0.4194\n",
      "    petal length:   1.0  6.9   3.76   1.76    0.9490  (high!)\n",
      "    petal width:    0.1  2.5   1.20   0.76    0.9565  (high!)\n",
      "    ============== ==== ==== ======= ===== ====================\n",
      "\n",
      "    :Missing Attribute Values: None\n",
      "    :Class Distribution: 33.3% for each of 3 classes.\n",
      "    :Creator: R.A. Fisher\n",
      "    :Donor: Michael Marshall (MARSHALL%PLU@io.arc.nasa.gov)\n",
      "    :Date: July, 1988\n",
      "\n",
      "The famous Iris database, first used by Sir R.A. Fisher. The dataset is taken\n",
      "from Fisher's paper. Note that it's the same as in R, but not as in the UCI\n",
      "Machine Learning Repository, which has two wrong data points.\n",
      "\n",
      "This is perhaps the best known database to be found in the\n",
      "pattern recognition literature.  Fisher's paper is a classic in the field and\n",
      "is referenced frequently to this day.  (See Duda & Hart, for example.)  The\n",
      "data set contains 3 classes of 50 instances each, where each class refers to a\n",
      "type of iris plant.  One class is linearly separable from the other 2; the\n",
      "latter are NOT linearly separable from each other.\n",
      "\n",
      ".. topic:: References\n",
      "\n",
      "   - Fisher, R.A. \"The use of multiple measurements in taxonomic problems\"\n",
      "     Annual Eugenics, 7, Part II, 179-188 (1936); also in \"Contributions to\n",
      "     Mathematical Statistics\" (John Wiley, NY, 1950).\n",
      "   - Duda, R.O., & Hart, P.E. (1973) Pattern Classification and Scene Analysis.\n",
      "     (Q327.D83) John Wiley & Sons.  ISBN 0-471-22361-1.  See page 218.\n",
      "   - Dasarathy, B.V. (1980) \"Nosing Around the Neighborhood: A New System\n",
      "     Structure and Classification Rule for Recognition in Partially Exposed\n",
      "     Environments\".  IEEE Transactions on Pattern Analysis and Machine\n",
      "     Intelligence, Vol. PAMI-2, No. 1, 67-71.\n",
      "   - Gates, G.W. (1972) \"The Reduced Nearest Neighbor Rule\".  IEEE Transactions\n",
      "     on Information Theory, May 1972, 431-433.\n",
      "   - See also: 1988 MLC Proceedings, 54-64.  Cheeseman et al\"s AUTOCLASS II\n",
      "     conceptual clustering system finds 3 classes in the data.\n",
      "   - Many, many more ...\n"
     ]
    }
   ],
   "source": [
    "print(df.DESCR)"
   ]
  },
  {
   "cell_type": "code",
   "execution_count": 80,
   "id": "95e51ac7",
   "metadata": {},
   "outputs": [],
   "source": [
    "data,label=df.data,df.target"
   ]
  },
  {
   "cell_type": "code",
   "execution_count": 81,
   "id": "1ab720d8",
   "metadata": {},
   "outputs": [],
   "source": [
    "#Splitting the data into train and test\n",
    "data_train, data_test, label_train, label_test = train_test_split(data, label, test_size = 0.33, random_state = 42)"
   ]
  },
  {
   "cell_type": "code",
   "execution_count": 82,
   "id": "8a33cc34",
   "metadata": {},
   "outputs": [
    {
     "data": {
      "text/plain": [
       "DecisionTreeClassifier(criterion='entropy', random_state=0)"
      ]
     },
     "execution_count": 82,
     "metadata": {},
     "output_type": "execute_result"
    }
   ],
   "source": [
    "#Building the classifier\n",
    "classifier = DecisionTreeClassifier(criterion='entropy',random_state=0)\n",
    "classifier.fit(data_train,label_train)"
   ]
  },
  {
   "cell_type": "code",
   "execution_count": 83,
   "id": "bf9a224f",
   "metadata": {},
   "outputs": [],
   "source": [
    "#Using built classifier to predict on our test data\n",
    "Prediction=classifier.predict(data_test)"
   ]
  },
  {
   "cell_type": "code",
   "execution_count": 84,
   "id": "1385740a",
   "metadata": {},
   "outputs": [
    {
     "name": "stdout",
     "output_type": "stream",
     "text": [
      "Model accuracy score (by using gini index): 0.980000\n"
     ]
    }
   ],
   "source": [
    "#Seeing how accurately our classifier worked\n",
    "print('Model accuracy score (by using gini index): {0:0.6f}'. format(accuracy_score(label_test,Prediction)))"
   ]
  },
  {
   "cell_type": "code",
   "execution_count": 85,
   "id": "d7a983d7",
   "metadata": {},
   "outputs": [
    {
     "data": {
      "text/plain": [
       "[Text(0.4444444444444444, 0.9285714285714286, 'X[3] <= 0.8\\nentropy = 1.583\\nsamples = 100\\nvalue = [31, 35, 34]'),\n",
       " Text(0.3333333333333333, 0.7857142857142857, 'entropy = 0.0\\nsamples = 31\\nvalue = [31, 0, 0]'),\n",
       " Text(0.5555555555555556, 0.7857142857142857, 'X[3] <= 1.75\\nentropy = 1.0\\nsamples = 69\\nvalue = [0, 35, 34]'),\n",
       " Text(0.3333333333333333, 0.6428571428571429, 'X[2] <= 5.35\\nentropy = 0.485\\nsamples = 38\\nvalue = [0, 34, 4]'),\n",
       " Text(0.2222222222222222, 0.5, 'X[3] <= 1.45\\nentropy = 0.31\\nsamples = 36\\nvalue = [0, 34, 2]'),\n",
       " Text(0.1111111111111111, 0.35714285714285715, 'entropy = 0.0\\nsamples = 26\\nvalue = [0, 26, 0]'),\n",
       " Text(0.3333333333333333, 0.35714285714285715, 'X[1] <= 2.6\\nentropy = 0.722\\nsamples = 10\\nvalue = [0, 8, 2]'),\n",
       " Text(0.2222222222222222, 0.21428571428571427, 'X[0] <= 6.15\\nentropy = 0.918\\nsamples = 3\\nvalue = [0, 1, 2]'),\n",
       " Text(0.1111111111111111, 0.07142857142857142, 'entropy = 0.0\\nsamples = 2\\nvalue = [0, 0, 2]'),\n",
       " Text(0.3333333333333333, 0.07142857142857142, 'entropy = 0.0\\nsamples = 1\\nvalue = [0, 1, 0]'),\n",
       " Text(0.4444444444444444, 0.21428571428571427, 'entropy = 0.0\\nsamples = 7\\nvalue = [0, 7, 0]'),\n",
       " Text(0.4444444444444444, 0.5, 'entropy = 0.0\\nsamples = 2\\nvalue = [0, 0, 2]'),\n",
       " Text(0.7777777777777778, 0.6428571428571429, 'X[2] <= 4.85\\nentropy = 0.206\\nsamples = 31\\nvalue = [0, 1, 30]'),\n",
       " Text(0.6666666666666666, 0.5, 'X[1] <= 3.1\\nentropy = 0.918\\nsamples = 3\\nvalue = [0, 1, 2]'),\n",
       " Text(0.5555555555555556, 0.35714285714285715, 'entropy = 0.0\\nsamples = 2\\nvalue = [0, 0, 2]'),\n",
       " Text(0.7777777777777778, 0.35714285714285715, 'entropy = 0.0\\nsamples = 1\\nvalue = [0, 1, 0]'),\n",
       " Text(0.8888888888888888, 0.5, 'entropy = 0.0\\nsamples = 28\\nvalue = [0, 0, 28]')]"
      ]
     },
     "execution_count": 85,
     "metadata": {},
     "output_type": "execute_result"
    },
    {
     "data": {
      "image/png": "[encoded data removed]",
      "text/plain": [
       "<Figure size 432x288 with 1 Axes>"
      ]
     },
     "metadata": {
      "needs_background": "light"
     },
     "output_type": "display_data"
    }
   ],
   "source": [
    "tree.plot_tree(classifier)"
   ]
  },
  {
   "cell_type": "code",
   "execution_count": 86,
   "id": "35eff9dd",
   "metadata": {},
   "outputs": [
    {
     "data": {
      "text/plain": [
       "array([[19,  0,  0],\n",
       "       [ 0, 15,  0],\n",
       "       [ 0,  1, 15]], dtype=int64)"
      ]
     },
     "execution_count": 86,
     "metadata": {},
     "output_type": "execute_result"
    }
   ],
   "source": [
    "#Confusion Matrix\n",
    "Confusion_mat = confusion_matrix(label_test,Prediction)\n",
    "Confusion_mat"
   ]
  },
  {
   "cell_type": "code",
   "execution_count": 87,
   "id": "6b6f2f6e",
   "metadata": {},
   "outputs": [
    {
     "name": "stdout",
     "output_type": "stream",
     "text": [
      "              precision    recall  f1-score   support\n",
      "\n",
      "           0       1.00      1.00      1.00        19\n",
      "           1       0.94      1.00      0.97        15\n",
      "           2       1.00      0.94      0.97        16\n",
      "\n",
      "    accuracy                           0.98        50\n",
      "   macro avg       0.98      0.98      0.98        50\n",
      "weighted avg       0.98      0.98      0.98        50\n",
      "\n"
     ]
    }
   ],
   "source": [
    "print(classification_report(label_test,Prediction))"
   ]
  },
  {
   "cell_type": "markdown",
   "id": "4272b615",
   "metadata": {},
   "source": [
    "CART Decision TREE"
   ]
  },
  {
   "cell_type": "code",
   "execution_count": 105,
   "id": "f2640060",
   "metadata": {},
   "outputs": [],
   "source": [
    "from sklearn.datasets import load_diabetes\n",
    "import matplotlib.pyplot as plt\n",
    "from sklearn import metrics"
   ]
  },
  {
   "cell_type": "code",
   "execution_count": 106,
   "id": "09284f1a",
   "metadata": {},
   "outputs": [
    {
     "data": {
      "text/plain": [
       "{'data': array([[ 0.03807591,  0.05068012,  0.06169621, ..., -0.00259226,\n",
       "          0.01990842, -0.01764613],\n",
       "        [-0.00188202, -0.04464164, -0.05147406, ..., -0.03949338,\n",
       "         -0.06832974, -0.09220405],\n",
       "        [ 0.08529891,  0.05068012,  0.04445121, ..., -0.00259226,\n",
       "          0.00286377, -0.02593034],\n",
       "        ...,\n",
       "        [ 0.04170844,  0.05068012, -0.01590626, ..., -0.01107952,\n",
       "         -0.04687948,  0.01549073],\n",
       "        [-0.04547248, -0.04464164,  0.03906215, ...,  0.02655962,\n",
       "          0.04452837, -0.02593034],\n",
       "        [-0.04547248, -0.04464164, -0.0730303 , ..., -0.03949338,\n",
       "         -0.00421986,  0.00306441]]),\n",
       " 'target': array([151.,  75., 141., 206., 135.,  97., 138.,  63., 110., 310., 101.,\n",
       "         69., 179., 185., 118., 171., 166., 144.,  97., 168.,  68.,  49.,\n",
       "         68., 245., 184., 202., 137.,  85., 131., 283., 129.,  59., 341.,\n",
       "         87.,  65., 102., 265., 276., 252.,  90., 100.,  55.,  61.,  92.,\n",
       "        259.,  53., 190., 142.,  75., 142., 155., 225.,  59., 104., 182.,\n",
       "        128.,  52.,  37., 170., 170.,  61., 144.,  52., 128.,  71., 163.,\n",
       "        150.,  97., 160., 178.,  48., 270., 202., 111.,  85.,  42., 170.,\n",
       "        200., 252., 113., 143.,  51.,  52., 210.,  65., 141.,  55., 134.,\n",
       "         42., 111.,  98., 164.,  48.,  96.,  90., 162., 150., 279.,  92.,\n",
       "         83., 128., 102., 302., 198.,  95.,  53., 134., 144., 232.,  81.,\n",
       "        104.,  59., 246., 297., 258., 229., 275., 281., 179., 200., 200.,\n",
       "        173., 180.,  84., 121., 161.,  99., 109., 115., 268., 274., 158.,\n",
       "        107.,  83., 103., 272.,  85., 280., 336., 281., 118., 317., 235.,\n",
       "         60., 174., 259., 178., 128.,  96., 126., 288.,  88., 292.,  71.,\n",
       "        197., 186.,  25.,  84.,  96., 195.,  53., 217., 172., 131., 214.,\n",
       "         59.,  70., 220., 268., 152.,  47.,  74., 295., 101., 151., 127.,\n",
       "        237., 225.,  81., 151., 107.,  64., 138., 185., 265., 101., 137.,\n",
       "        143., 141.,  79., 292., 178.,  91., 116.,  86., 122.,  72., 129.,\n",
       "        142.,  90., 158.,  39., 196., 222., 277.,  99., 196., 202., 155.,\n",
       "         77., 191.,  70.,  73.,  49.,  65., 263., 248., 296., 214., 185.,\n",
       "         78.,  93., 252., 150.,  77., 208.,  77., 108., 160.,  53., 220.,\n",
       "        154., 259.,  90., 246., 124.,  67.,  72., 257., 262., 275., 177.,\n",
       "         71.,  47., 187., 125.,  78.,  51., 258., 215., 303., 243.,  91.,\n",
       "        150., 310., 153., 346.,  63.,  89.,  50.,  39., 103., 308., 116.,\n",
       "        145.,  74.,  45., 115., 264.,  87., 202., 127., 182., 241.,  66.,\n",
       "         94., 283.,  64., 102., 200., 265.,  94., 230., 181., 156., 233.,\n",
       "         60., 219.,  80.,  68., 332., 248.,  84., 200.,  55.,  85.,  89.,\n",
       "         31., 129.,  83., 275.,  65., 198., 236., 253., 124.,  44., 172.,\n",
       "        114., 142., 109., 180., 144., 163., 147.,  97., 220., 190., 109.,\n",
       "        191., 122., 230., 242., 248., 249., 192., 131., 237.,  78., 135.,\n",
       "        244., 199., 270., 164.,  72.,  96., 306.,  91., 214.,  95., 216.,\n",
       "        263., 178., 113., 200., 139., 139.,  88., 148.,  88., 243.,  71.,\n",
       "         77., 109., 272.,  60.,  54., 221.,  90., 311., 281., 182., 321.,\n",
       "         58., 262., 206., 233., 242., 123., 167.,  63., 197.,  71., 168.,\n",
       "        140., 217., 121., 235., 245.,  40.,  52., 104., 132.,  88.,  69.,\n",
       "        219.,  72., 201., 110.,  51., 277.,  63., 118.,  69., 273., 258.,\n",
       "         43., 198., 242., 232., 175.,  93., 168., 275., 293., 281.,  72.,\n",
       "        140., 189., 181., 209., 136., 261., 113., 131., 174., 257.,  55.,\n",
       "         84.,  42., 146., 212., 233.,  91., 111., 152., 120.,  67., 310.,\n",
       "         94., 183.,  66., 173.,  72.,  49.,  64.,  48., 178., 104., 132.,\n",
       "        220.,  57.]),\n",
       " 'frame': None,\n",
       " 'DESCR': '.. _diabetes_dataset:\\n\\nDiabetes dataset\\n----------------\\n\\nTen baseline variables, age, sex, body mass index, average blood\\npressure, and six blood serum measurements were obtained for each of n =\\n442 diabetes patients, as well as the response of interest, a\\nquantitative measure of disease progression one year after baseline.\\n\\n**Data Set Characteristics:**\\n\\n  :Number of Instances: 442\\n\\n  :Number of Attributes: First 10 columns are numeric predictive values\\n\\n  :Target: Column 11 is a quantitative measure of disease progression one year after baseline\\n\\n  :Attribute Information:\\n      - age     age in years\\n      - sex\\n      - bmi     body mass index\\n      - bp      average blood pressure\\n      - s1      tc, total serum cholesterol\\n      - s2      ldl, low-density lipoproteins\\n      - s3      hdl, high-density lipoproteins\\n      - s4      tch, total cholesterol / HDL\\n      - s5      ltg, possibly log of serum triglycerides level\\n      - s6      glu, blood sugar level\\n\\nNote: Each of these 10 feature variables have been mean centered and scaled by the standard deviation times `n_samples` (i.e. the sum of squares of each column totals 1).\\n\\nSource URL:\\nhttps://www4.stat.ncsu.edu/~boos/var.select/diabetes.html\\n\\nFor more information see:\\nBradley Efron, Trevor Hastie, Iain Johnstone and Robert Tibshirani (2004) \"Least Angle Regression,\" Annals of Statistics (with discussion), 407-499.\\n(https://web.stanford.edu/~hastie/Papers/LARS/LeastAngle_2002.pdf)',\n",
       " 'feature_names': ['age',\n",
       "  'sex',\n",
       "  'bmi',\n",
       "  'bp',\n",
       "  's1',\n",
       "  's2',\n",
       "  's3',\n",
       "  's4',\n",
       "  's5',\n",
       "  's6'],\n",
       " 'data_filename': 'diabetes_data.csv.gz',\n",
       " 'target_filename': 'diabetes_target.csv.gz',\n",
       " 'data_module': 'sklearn.datasets.data'}"
      ]
     },
     "execution_count": 106,
     "metadata": {},
     "output_type": "execute_result"
    }
   ],
   "source": [
    "df=load_diabetes()\n",
    "df"
   ]
  },
  {
   "cell_type": "code",
   "execution_count": 107,
   "id": "ad13d9d8",
   "metadata": {},
   "outputs": [
    {
     "name": "stdout",
     "output_type": "stream",
     "text": [
      ".. _diabetes_dataset:\n",
      "\n",
      "Diabetes dataset\n",
      "----------------\n",
      "\n",
      "Ten baseline variables, age, sex, body mass index, average blood\n",
      "pressure, and six blood serum measurements were obtained for each of n =\n",
      "442 diabetes patients, as well as the response of interest, a\n",
      "quantitative measure of disease progression one year after baseline.\n",
      "\n",
      "**Data Set Characteristics:**\n",
      "\n",
      "  :Number of Instances: 442\n",
      "\n",
      "  :Number of Attributes: First 10 columns are numeric predictive values\n",
      "\n",
      "  :Target: Column 11 is a quantitative measure of disease progression one year after baseline\n",
      "\n",
      "  :Attribute Information:\n",
      "      - age     age in years\n",
      "      - sex\n",
      "      - bmi     body mass index\n",
      "      - bp      average blood pressure\n",
      "      - s1      tc, total serum cholesterol\n",
      "      - s2      ldl, low-density lipoproteins\n",
      "      - s3      hdl, high-density lipoproteins\n",
      "      - s4      tch, total cholesterol / HDL\n",
      "      - s5      ltg, possibly log of serum triglycerides level\n",
      "      - s6      glu, blood sugar level\n",
      "\n",
      "Note: Each of these 10 feature variables have been mean centered and scaled by the standard deviation times `n_samples` (i.e. the sum of squares of each column totals 1).\n",
      "\n",
      "Source URL:\n",
      "https://www4.stat.ncsu.edu/~boos/var.select/diabetes.html\n",
      "\n",
      "For more information see:\n",
      "Bradley Efron, Trevor Hastie, Iain Johnstone and Robert Tibshirani (2004) \"Least Angle Regression,\" Annals of Statistics (with discussion), 407-499.\n",
      "(https://web.stanford.edu/~hastie/Papers/LARS/LeastAngle_2002.pdf)\n"
     ]
    }
   ],
   "source": [
    "print(df.DESCR)"
   ]
  },
  {
   "cell_type": "code",
   "execution_count": 108,
   "id": "77258cae",
   "metadata": {},
   "outputs": [],
   "source": [
    "data,label=df.data,df.target"
   ]
  },
  {
   "cell_type": "code",
   "execution_count": 109,
   "id": "2895ddc0",
   "metadata": {},
   "outputs": [],
   "source": [
    "#Splitting the data into train and test\n",
    "data_train, data_test, label_train, label_test = train_test_split(data, label, test_size = 0.33, random_state = 42)"
   ]
  },
  {
   "cell_type": "code",
   "execution_count": 110,
   "id": "26d7e8a2",
   "metadata": {},
   "outputs": [
    {
     "data": {
      "text/plain": [
       "DecisionTreeRegressor()"
      ]
     },
     "execution_count": 110,
     "metadata": {},
     "output_type": "execute_result"
    }
   ],
   "source": [
    "#Building the classifier\n",
    "classifier = tree.DecisionTreeRegressor()\n",
    "classifier.fit(data_train,label_train)"
   ]
  },
  {
   "cell_type": "code",
   "execution_count": 111,
   "id": "f628317f",
   "metadata": {},
   "outputs": [],
   "source": [
    "#Using built classifier to predict on our test data\n",
    "Prediction=classifier.predict(data_test)"
   ]
  },
  {
   "cell_type": "code",
   "execution_count": 113,
   "id": "a4c80fd5",
   "metadata": {},
   "outputs": [
    {
     "data": {
      "text/plain": [
       "[Text(0.5736571082390953, 0.9705882352941176, 'X[2] <= 0.009\\nsquared_error = 6015.949\\nsamples = 296\\nvalue = 151.983'),\n",
       " Text(0.31267669628432954, 0.9117647058823529, 'X[8] <= -0.003\\nsquared_error = 3767.542\\nsamples = 187\\nvalue = 119.941'),\n",
       " Text(0.15839559773828757, 0.8529411764705882, 'X[5] <= 0.091\\nsquared_error = 2611.689\\nsamples = 116\\nvalue = 99.836'),\n",
       " Text(0.1255553311793215, 0.7941176470588235, 'X[8] <= -0.043\\nsquared_error = 2296.93\\nsamples = 114\\nvalue = 97.351'),\n",
       " Text(0.06956785137318255, 0.7352941176470589, 'X[4] <= -0.039\\nsquared_error = 1554.954\\nsamples = 41\\nvalue = 79.146'),\n",
       " Text(0.047051696284329564, 0.6764705882352942, 'X[4] <= -0.046\\nsquared_error = 1904.926\\nsamples = 23\\nvalue = 95.826'),\n",
       " Text(0.0327140549273021, 0.6176470588235294, 'X[0] <= -0.0\\nsquared_error = 1187.507\\nsamples = 19\\nvalue = 82.579'),\n",
       " Text(0.023424878836833602, 0.5588235294117647, 'X[6] <= 0.036\\nsquared_error = 809.571\\nsamples = 14\\nvalue = 75.0'),\n",
       " Text(0.014539579967689823, 0.5, 'X[2] <= -0.076\\nsquared_error = 508.583\\nsamples = 12\\nvalue = 68.5'),\n",
       " Text(0.006462035541195477, 0.4411764705882353, 'X[5] <= -0.062\\nsquared_error = 56.25\\nsamples = 2\\nvalue = 108.5'),\n",
       " Text(0.0032310177705977385, 0.38235294117647056, 'squared_error = 0.0\\nsamples = 1\\nvalue = 101.0'),\n",
       " Text(0.009693053311793215, 0.38235294117647056, 'squared_error = 0.0\\nsamples = 1\\nvalue = 116.0'),\n",
       " Text(0.022617124394184167, 0.4411764705882353, 'X[6] <= 0.004\\nsquared_error = 215.05\\nsamples = 10\\nvalue = 60.5'),\n",
       " Text(0.01615508885298869, 0.38235294117647056, 'X[6] <= -0.029\\nsquared_error = 68.472\\nsamples = 6\\nvalue = 70.833'),\n",
       " Text(0.012924071082390954, 0.3235294117647059, 'squared_error = 0.0\\nsamples = 1\\nvalue = 55.0'),\n",
       " Text(0.01938610662358643, 0.3235294117647059, 'X[6] <= -0.005\\nsquared_error = 22.0\\nsamples = 5\\nvalue = 74.0'),\n",
       " Text(0.01615508885298869, 0.2647058823529412, 'X[1] <= 0.003\\nsquared_error = 2.188\\nsamples = 4\\nvalue = 71.75'),\n",
       " Text(0.012924071082390954, 0.20588235294117646, 'squared_error = 0.0\\nsamples = 1\\nvalue = 74.0'),\n",
       " Text(0.01938610662358643, 0.20588235294117646, 'X[3] <= -0.03\\nsquared_error = 0.667\\nsamples = 3\\nvalue = 71.0'),\n",
       " Text(0.01615508885298869, 0.14705882352941177, 'squared_error = 0.0\\nsamples = 1\\nvalue = 70.0'),\n",
       " Text(0.022617124394184167, 0.14705882352941177, 'X[6] <= -0.012\\nsquared_error = 0.25\\nsamples = 2\\nvalue = 71.5'),\n",
       " Text(0.01938610662358643, 0.08823529411764706, 'squared_error = 0.0\\nsamples = 1\\nvalue = 71.0'),\n",
       " Text(0.025848142164781908, 0.08823529411764706, 'squared_error = 0.0\\nsamples = 1\\nvalue = 72.0'),\n",
       " Text(0.022617124394184167, 0.2647058823529412, 'squared_error = 0.0\\nsamples = 1\\nvalue = 83.0'),\n",
       " Text(0.029079159935379646, 0.38235294117647056, 'X[2] <= -0.061\\nsquared_error = 34.5\\nsamples = 4\\nvalue = 45.0'),\n",
       " Text(0.025848142164781908, 0.3235294117647059, 'squared_error = 0.0\\nsamples = 1\\nvalue = 55.0'),\n",
       " Text(0.03231017770597738, 0.3235294117647059, 'X[4] <= -0.088\\nsquared_error = 1.556\\nsamples = 3\\nvalue = 41.667'),\n",
       " Text(0.029079159935379646, 0.2647058823529412, 'squared_error = 0.0\\nsamples = 1\\nvalue = 40.0'),\n",
       " Text(0.035541195476575124, 0.2647058823529412, 'X[6] <= 0.016\\nsquared_error = 0.25\\nsamples = 2\\nvalue = 42.5'),\n",
       " Text(0.03231017770597738, 0.20588235294117646, 'squared_error = 0.0\\nsamples = 1\\nvalue = 42.0'),\n",
       " Text(0.03877221324717286, 0.20588235294117646, 'squared_error = 0.0\\nsamples = 1\\nvalue = 43.0'),\n",
       " Text(0.03231017770597738, 0.5, 'X[3] <= -0.042\\nsquared_error = 841.0\\nsamples = 2\\nvalue = 114.0'),\n",
       " Text(0.029079159935379646, 0.4411764705882353, 'squared_error = 0.0\\nsamples = 1\\nvalue = 85.0'),\n",
       " Text(0.035541195476575124, 0.4411764705882353, 'squared_error = 0.0\\nsamples = 1\\nvalue = 143.0'),\n",
       " Text(0.0420032310177706, 0.5588235294117647, 'X[4] <= -0.074\\nsquared_error = 1634.56\\nsamples = 5\\nvalue = 103.8'),\n",
       " Text(0.03877221324717286, 0.5, 'squared_error = 0.0\\nsamples = 1\\nvalue = 178.0'),\n",
       " Text(0.045234248788368334, 0.5, 'X[5] <= -0.075\\nsquared_error = 322.688\\nsamples = 4\\nvalue = 85.25'),\n",
       " Text(0.0420032310177706, 0.4411764705882353, 'squared_error = 0.0\\nsamples = 1\\nvalue = 114.0'),\n",
       " Text(0.048465266558966075, 0.4411764705882353, 'X[8] <= -0.061\\nsquared_error = 62.889\\nsamples = 3\\nvalue = 75.667'),\n",
       " Text(0.045234248788368334, 0.38235294117647056, 'X[2] <= -0.031\\nsquared_error = 9.0\\nsamples = 2\\nvalue = 81.0'),\n",
       " Text(0.0420032310177706, 0.3235294117647059, 'squared_error = 0.0\\nsamples = 1\\nvalue = 78.0'),\n",
       " Text(0.048465266558966075, 0.3235294117647059, 'squared_error = 0.0\\nsamples = 1\\nvalue = 84.0'),\n",
       " Text(0.051696284329563816, 0.38235294117647056, 'squared_error = 0.0\\nsamples = 1\\nvalue = 65.0'),\n",
       " Text(0.061389337641357025, 0.6176470588235294, 'X[9] <= -0.034\\nsquared_error = 519.688\\nsamples = 4\\nvalue = 158.75'),\n",
       " Text(0.05492730210016155, 0.5588235294117647, 'X[2] <= -0.062\\nsquared_error = 4.0\\nsamples = 2\\nvalue = 136.0'),\n",
       " Text(0.051696284329563816, 0.5, 'squared_error = 0.0\\nsamples = 1\\nvalue = 134.0'),\n",
       " Text(0.05815831987075929, 0.5, 'squared_error = 0.0\\nsamples = 1\\nvalue = 138.0'),\n",
       " Text(0.06785137318255251, 0.5588235294117647, 'X[4] <= -0.044\\nsquared_error = 0.25\\nsamples = 2\\nvalue = 181.5'),\n",
       " Text(0.06462035541195477, 0.5, 'squared_error = 0.0\\nsamples = 1\\nvalue = 181.0'),\n",
       " Text(0.07108239095315025, 0.5, 'squared_error = 0.0\\nsamples = 1\\nvalue = 182.0'),\n",
       " Text(0.09208400646203554, 0.6764705882352942, 'X[9] <= -0.057\\nsquared_error = 298.028\\nsamples = 18\\nvalue = 57.833'),\n",
       " Text(0.0840064620355412, 0.6176470588235294, 'X[9] <= -0.076\\nsquared_error = 114.0\\nsamples = 3\\nvalue = 81.0'),\n",
       " Text(0.08077544426494346, 0.5588235294117647, 'X[4] <= -0.023\\nsquared_error = 2.25\\nsamples = 2\\nvalue = 73.5'),\n",
       " Text(0.07754442649434572, 0.5, 'squared_error = 0.0\\nsamples = 1\\nvalue = 72.0'),\n",
       " Text(0.0840064620355412, 0.5, 'squared_error = 0.0\\nsamples = 1\\nvalue = 75.0'),\n",
       " Text(0.08723747980613894, 0.5588235294117647, 'squared_error = 0.0\\nsamples = 1\\nvalue = 96.0'),\n",
       " Text(0.10016155088852989, 0.6176470588235294, 'X[4] <= 0.016\\nsquared_error = 206.027\\nsamples = 15\\nvalue = 53.2'),\n",
       " Text(0.09369951534733441, 0.5588235294117647, 'X[0] <= 0.054\\nsquared_error = 105.385\\nsamples = 13\\nvalue = 49.0'),\n",
       " Text(0.09046849757673667, 0.5, 'X[3] <= -0.052\\nsquared_error = 53.139\\nsamples = 12\\nvalue = 46.833'),\n",
       " Text(0.0840064620355412, 0.4411764705882353, 'X[0] <= 0.022\\nsquared_error = 16.0\\nsamples = 2\\nvalue = 35.0'),\n",
       " Text(0.08077544426494346, 0.38235294117647056, 'squared_error = 0.0\\nsamples = 1\\nvalue = 31.0'),\n",
       " Text(0.08723747980613894, 0.38235294117647056, 'squared_error = 0.0\\nsamples = 1\\nvalue = 39.0'),\n",
       " Text(0.09693053311793215, 0.4411764705882353, 'X[5] <= -0.04\\nsquared_error = 26.96\\nsamples = 10\\nvalue = 49.2'),\n",
       " Text(0.09369951534733441, 0.38235294117647056, 'squared_error = 0.0\\nsamples = 1\\nvalue = 59.0'),\n",
       " Text(0.10016155088852989, 0.38235294117647056, 'X[2] <= -0.051\\nsquared_error = 18.099\\nsamples = 9\\nvalue = 48.111'),\n",
       " Text(0.09369951534733441, 0.3235294117647059, 'X[6] <= 0.08\\nsquared_error = 9.0\\nsamples = 2\\nvalue = 42.0'),\n",
       " Text(0.09046849757673667, 0.2647058823529412, 'squared_error = 0.0\\nsamples = 1\\nvalue = 39.0'),\n",
       " Text(0.09693053311793215, 0.2647058823529412, 'squared_error = 0.0\\nsamples = 1\\nvalue = 45.0'),\n",
       " Text(0.10662358642972536, 0.3235294117647059, 'X[6] <= -0.03\\nsquared_error = 6.98\\nsamples = 7\\nvalue = 49.857'),\n",
       " Text(0.10339256865912763, 0.2647058823529412, 'squared_error = 0.0\\nsamples = 1\\nvalue = 55.0'),\n",
       " Text(0.1098546042003231, 0.2647058823529412, 'X[3] <= -0.038\\nsquared_error = 3.0\\nsamples = 6\\nvalue = 49.0'),\n",
       " Text(0.10662358642972536, 0.20588235294117646, 'squared_error = 0.0\\nsamples = 1\\nvalue = 52.0'),\n",
       " Text(0.11308562197092084, 0.20588235294117646, 'X[9] <= -0.005\\nsquared_error = 1.44\\nsamples = 5\\nvalue = 48.4'),\n",
       " Text(0.10662358642972536, 0.14705882352941177, 'X[4] <= -0.035\\nsquared_error = 0.889\\nsamples = 3\\nvalue = 47.667'),\n",
       " Text(0.10339256865912763, 0.08823529411764706, 'squared_error = 0.0\\nsamples = 1\\nvalue = 49.0'),\n",
       " Text(0.1098546042003231, 0.08823529411764706, 'squared_error = 0.0\\nsamples = 2\\nvalue = 47.0'),\n",
       " Text(0.11954765751211632, 0.14705882352941177, 'X[2] <= -0.018\\nsquared_error = 0.25\\nsamples = 2\\nvalue = 49.5'),\n",
       " Text(0.11631663974151858, 0.08823529411764706, 'squared_error = 0.0\\nsamples = 1\\nvalue = 50.0'),\n",
       " Text(0.12277867528271405, 0.08823529411764706, 'squared_error = 0.0\\nsamples = 1\\nvalue = 49.0'),\n",
       " Text(0.09693053311793215, 0.5, 'squared_error = 0.0\\nsamples = 1\\nvalue = 75.0'),\n",
       " Text(0.10662358642972536, 0.5588235294117647, 'X[1] <= 0.003\\nsquared_error = 0.25\\nsamples = 2\\nvalue = 80.5'),\n",
       " Text(0.10339256865912763, 0.5, 'squared_error = 0.0\\nsamples = 1\\nvalue = 81.0'),\n",
       " Text(0.1098546042003231, 0.5, 'squared_error = 0.0\\nsamples = 1\\nvalue = 80.0'),\n",
       " Text(0.1815428109854604, 0.7352941176470589, 'X[4] <= -0.056\\nsquared_error = 2422.984\\nsamples = 73\\nvalue = 107.575'),\n",
       " Text(0.13408723747980614, 0.6764705882352942, 'X[9] <= 0.005\\nsquared_error = 1681.556\\nsamples = 9\\nvalue = 156.333'),\n",
       " Text(0.1260096930533118, 0.6176470588235294, 'X[0] <= -0.031\\nsquared_error = 689.837\\nsamples = 7\\nvalue = 173.143'),\n",
       " Text(0.11954765751211632, 0.5588235294117647, 'X[9] <= -0.026\\nsquared_error = 89.0\\nsamples = 4\\nvalue = 153.0'),\n",
       " Text(0.11631663974151858, 0.5, 'X[9] <= -0.067\\nsquared_error = 18.667\\nsamples = 3\\nvalue = 148.0'),\n",
       " Text(0.11308562197092084, 0.4411764705882353, 'squared_error = 0.0\\nsamples = 1\\nvalue = 142.0'),\n",
       " Text(0.11954765751211632, 0.4411764705882353, 'X[4] <= -0.079\\nsquared_error = 1.0\\nsamples = 2\\nvalue = 151.0'),\n",
       " Text(0.11631663974151858, 0.38235294117647056, 'squared_error = 0.0\\nsamples = 1\\nvalue = 152.0'),\n",
       " Text(0.12277867528271405, 0.38235294117647056, 'squared_error = 0.0\\nsamples = 1\\nvalue = 150.0'),\n",
       " Text(0.12277867528271405, 0.5, 'squared_error = 0.0\\nsamples = 1\\nvalue = 168.0'),\n",
       " Text(0.13247172859450726, 0.5588235294117647, 'X[4] <= -0.067\\nsquared_error = 228.667\\nsamples = 3\\nvalue = 200.0'),\n",
       " Text(0.12924071082390953, 0.5, 'X[9] <= -0.049\\nsquared_error = 72.25\\nsamples = 2\\nvalue = 190.5'),\n",
       " Text(0.1260096930533118, 0.4411764705882353, 'squared_error = 0.0\\nsamples = 1\\nvalue = 182.0'),\n",
       " Text(0.13247172859450726, 0.4411764705882353, 'squared_error = 0.0\\nsamples = 1\\nvalue = 199.0'),\n",
       " Text(0.13570274636510501, 0.5, 'squared_error = 0.0\\nsamples = 1\\nvalue = 219.0'),\n",
       " Text(0.1421647819063005, 0.6176470588235294, 'X[9] <= 0.03\\nsquared_error = 702.25\\nsamples = 2\\nvalue = 97.5'),\n",
       " Text(0.13893376413570274, 0.5588235294117647, 'squared_error = 0.0\\nsamples = 1\\nvalue = 71.0'),\n",
       " Text(0.14539579967689822, 0.5588235294117647, 'squared_error = 0.0\\nsamples = 1\\nvalue = 124.0'),\n",
       " Text(0.2289983844911147, 0.6764705882352942, 'X[3] <= 0.118\\nsquared_error = 2145.921\\nsamples = 64\\nvalue = 100.719'),\n",
       " Text(0.22576736672051698, 0.6176470588235294, 'X[0] <= 0.014\\nsquared_error = 1965.686\\nsamples = 63\\nvalue = 98.889'),\n",
       " Text(0.16882067851373184, 0.5588235294117647, 'X[6] <= -0.023\\nsquared_error = 1793.703\\nsamples = 41\\nvalue = 89.171'),\n",
       " Text(0.1421647819063005, 0.5, 'X[1] <= 0.003\\nsquared_error = 2352.688\\nsamples = 4\\nvalue = 151.25'),\n",
       " Text(0.13893376413570274, 0.4411764705882353, 'X[8] <= -0.016\\nsquared_error = 240.25\\nsamples = 2\\nvalue = 198.5'),\n",
       " Text(0.13570274636510501, 0.38235294117647056, 'squared_error = 0.0\\nsamples = 1\\nvalue = 214.0'),\n",
       " Text(0.1421647819063005, 0.38235294117647056, 'squared_error = 0.0\\nsamples = 1\\nvalue = 183.0'),\n",
       " Text(0.14539579967689822, 0.4411764705882353, 'squared_error = 0.0\\nsamples = 2\\nvalue = 104.0'),\n",
       " Text(0.19547657512116318, 0.5, 'X[8] <= -0.024\\nsquared_error = 1271.6\\nsamples = 37\\nvalue = 82.459'),\n",
       " Text(0.16558966074313408, 0.4411764705882353, 'X[0] <= -0.036\\nsquared_error = 1797.25\\nsamples = 18\\nvalue = 98.167'),\n",
       " Text(0.14862681744749595, 0.38235294117647056, 'X[5] <= -0.022\\nsquared_error = 1852.0\\nsamples = 9\\nvalue = 120.0'),\n",
       " Text(0.1421647819063005, 0.3235294117647059, 'X[6] <= 0.034\\nsquared_error = 306.25\\nsamples = 2\\nvalue = 59.5'),\n",
       " Text(0.13893376413570274, 0.2647058823529412, 'squared_error = 0.0\\nsamples = 1\\nvalue = 77.0'),\n",
       " Text(0.14539579967689822, 0.2647058823529412, 'squared_error = 0.0\\nsamples = 1\\nvalue = 42.0'),\n",
       " Text(0.15508885298869143, 0.3235294117647059, 'X[3] <= 0.005\\nsquared_error = 949.061\\nsamples = 7\\nvalue = 137.286'),\n",
       " Text(0.1518578352180937, 0.2647058823529412, 'X[3] <= -0.044\\nsquared_error = 342.472\\nsamples = 6\\nvalue = 126.833'),\n",
       " Text(0.14862681744749595, 0.20588235294117646, 'squared_error = 0.0\\nsamples = 1\\nvalue = 160.0'),\n",
       " Text(0.15508885298869143, 0.20588235294117646, 'X[0] <= -0.064\\nsquared_error = 146.96\\nsamples = 5\\nvalue = 120.2'),\n",
       " Text(0.1518578352180937, 0.14705882352941177, 'squared_error = 0.0\\nsamples = 1\\nvalue = 144.0'),\n",
       " Text(0.1583198707592892, 0.14705882352941177, 'X[6] <= 0.039\\nsquared_error = 6.688\\nsamples = 4\\nvalue = 114.25'),\n",
       " Text(0.1518578352180937, 0.08823529411764706, 'X[6] <= 0.021\\nsquared_error = 2.25\\nsamples = 2\\nvalue = 116.5'),\n",
       " Text(0.14862681744749595, 0.029411764705882353, 'squared_error = 0.0\\nsamples = 1\\nvalue = 118.0'),\n",
       " Text(0.15508885298869143, 0.029411764705882353, 'squared_error = 0.0\\nsamples = 1\\nvalue = 115.0'),\n",
       " Text(0.16478190630048464, 0.08823529411764706, 'X[0] <= -0.049\\nsquared_error = 1.0\\nsamples = 2\\nvalue = 112.0'),\n",
       " Text(0.16155088852988692, 0.029411764705882353, 'squared_error = 0.0\\nsamples = 1\\nvalue = 113.0'),\n",
       " Text(0.1680129240710824, 0.029411764705882353, 'squared_error = 0.0\\nsamples = 1\\nvalue = 111.0'),\n",
       " Text(0.1583198707592892, 0.2647058823529412, 'squared_error = 0.0\\nsamples = 1\\nvalue = 200.0'),\n",
       " Text(0.1825525040387722, 0.38235294117647056, 'X[5] <= 0.011\\nsquared_error = 789.111\\nsamples = 9\\nvalue = 76.333'),\n",
       " Text(0.17124394184168013, 0.3235294117647059, 'X[0] <= -0.011\\nsquared_error = 121.84\\nsamples = 5\\nvalue = 59.6'),\n",
       " Text(0.16478190630048464, 0.2647058823529412, 'X[4] <= -0.033\\nsquared_error = 52.667\\nsamples = 3\\nvalue = 67.0'),\n",
       " Text(0.16155088852988692, 0.20588235294117646, 'squared_error = 0.0\\nsamples = 1\\nvalue = 77.0'),\n",
       " Text(0.1680129240710824, 0.20588235294117646, 'X[5] <= 0.006\\nsquared_error = 4.0\\nsamples = 2\\nvalue = 62.0'),\n",
       " Text(0.16478190630048464, 0.14705882352941177, 'squared_error = 0.0\\nsamples = 1\\nvalue = 64.0'),\n",
       " Text(0.17124394184168013, 0.14705882352941177, 'squared_error = 0.0\\nsamples = 1\\nvalue = 60.0'),\n",
       " Text(0.1777059773828756, 0.2647058823529412, 'X[0] <= -0.0\\nsquared_error = 20.25\\nsamples = 2\\nvalue = 48.5'),\n",
       " Text(0.17447495961227788, 0.20588235294117646, 'squared_error = 0.0\\nsamples = 1\\nvalue = 53.0'),\n",
       " Text(0.18093699515347333, 0.20588235294117646, 'squared_error = 0.0\\nsamples = 1\\nvalue = 44.0'),\n",
       " Text(0.1938610662358643, 0.3235294117647059, 'X[8] <= -0.03\\nsquared_error = 835.688\\nsamples = 4\\nvalue = 97.25'),\n",
       " Text(0.19063004846526657, 0.2647058823529412, 'X[0] <= -0.002\\nsquared_error = 282.889\\nsamples = 3\\nvalue = 111.667'),\n",
       " Text(0.18739903069466882, 0.20588235294117646, 'X[7] <= -0.005\\nsquared_error = 16.0\\nsamples = 2\\nvalue = 100.0'),\n",
       " Text(0.1841680129240711, 0.14705882352941177, 'squared_error = 0.0\\nsamples = 1\\nvalue = 96.0'),\n",
       " Text(0.19063004846526657, 0.14705882352941177, 'squared_error = 0.0\\nsamples = 1\\nvalue = 104.0'),\n",
       " Text(0.1938610662358643, 0.20588235294117646, 'squared_error = 0.0\\nsamples = 1\\nvalue = 135.0'),\n",
       " Text(0.19709208400646203, 0.2647058823529412, 'squared_error = 0.0\\nsamples = 1\\nvalue = 54.0'),\n",
       " Text(0.22536348949919224, 0.4411764705882353, 'X[0] <= -0.009\\nsquared_error = 318.454\\nsamples = 19\\nvalue = 67.579'),\n",
       " Text(0.2148626817447496, 0.38235294117647056, 'X[0] <= -0.022\\nsquared_error = 164.617\\nsamples = 9\\nvalue = 56.778'),\n",
       " Text(0.21163166397415187, 0.3235294117647059, 'X[6] <= 0.034\\nsquared_error = 43.188\\nsamples = 8\\nvalue = 60.75'),\n",
       " Text(0.2035541195476575, 0.2647058823529412, 'X[3] <= -0.011\\nsquared_error = 26.0\\nsamples = 3\\nvalue = 66.0'),\n",
       " Text(0.20032310177705978, 0.20588235294117646, 'X[6] <= 0.014\\nsquared_error = 2.25\\nsamples = 2\\nvalue = 69.5'),\n",
       " Text(0.19709208400646203, 0.14705882352941177, 'squared_error = 0.0\\nsamples = 1\\nvalue = 68.0'),\n",
       " Text(0.2035541195476575, 0.14705882352941177, 'squared_error = 0.0\\nsamples = 1\\nvalue = 71.0'),\n",
       " Text(0.20678513731825526, 0.20588235294117646, 'squared_error = 0.0\\nsamples = 1\\nvalue = 59.0'),\n",
       " Text(0.2197092084006462, 0.2647058823529412, 'X[4] <= -0.002\\nsquared_error = 27.04\\nsamples = 5\\nvalue = 57.6'),\n",
       " Text(0.21324717285945072, 0.20588235294117646, 'X[4] <= -0.03\\nsquared_error = 0.25\\nsamples = 2\\nvalue = 63.5'),\n",
       " Text(0.210016155088853, 0.14705882352941177, 'squared_error = 0.0\\nsamples = 1\\nvalue = 64.0'),\n",
       " Text(0.21647819063004847, 0.14705882352941177, 'squared_error = 0.0\\nsamples = 1\\nvalue = 63.0'),\n",
       " Text(0.22617124394184168, 0.20588235294117646, 'X[6] <= 0.122\\nsquared_error = 6.222\\nsamples = 3\\nvalue = 53.667'),\n",
       " Text(0.22294022617124395, 0.14705882352941177, 'X[0] <= -0.055\\nsquared_error = 1.0\\nsamples = 2\\nvalue = 52.0'),\n",
       " Text(0.2197092084006462, 0.08823529411764706, 'squared_error = 0.0\\nsamples = 1\\nvalue = 51.0'),\n",
       " Text(0.22617124394184168, 0.08823529411764706, 'squared_error = 0.0\\nsamples = 1\\nvalue = 53.0'),\n",
       " Text(0.2294022617124394, 0.14705882352941177, 'squared_error = 0.0\\nsamples = 1\\nvalue = 57.0'),\n",
       " Text(0.21809369951534732, 0.3235294117647059, 'squared_error = 0.0\\nsamples = 1\\nvalue = 25.0'),\n",
       " Text(0.2358642972536349, 0.38235294117647056, 'X[8] <= -0.021\\nsquared_error = 257.41\\nsamples = 10\\nvalue = 77.3'),\n",
       " Text(0.2294022617124394, 0.3235294117647059, 'X[8] <= -0.022\\nsquared_error = 64.0\\nsamples = 2\\nvalue = 57.0'),\n",
       " Text(0.22617124394184168, 0.2647058823529412, 'squared_error = 0.0\\nsamples = 1\\nvalue = 49.0'),\n",
       " Text(0.23263327948303716, 0.2647058823529412, 'squared_error = 0.0\\nsamples = 1\\nvalue = 65.0'),\n",
       " Text(0.24232633279483037, 0.3235294117647059, 'X[6] <= -0.007\\nsquared_error = 176.984\\nsamples = 8\\nvalue = 82.375'),\n",
       " Text(0.23909531502423265, 0.2647058823529412, 'squared_error = 0.0\\nsamples = 1\\nvalue = 51.0'),\n",
       " Text(0.2455573505654281, 0.2647058823529412, 'X[2] <= -0.049\\nsquared_error = 41.551\\nsamples = 7\\nvalue = 86.857'),\n",
       " Text(0.23909531502423265, 0.20588235294117646, 'X[5] <= -0.047\\nsquared_error = 1.0\\nsamples = 2\\nvalue = 78.0'),\n",
       " Text(0.2358642972536349, 0.14705882352941177, 'squared_error = 0.0\\nsamples = 1\\nvalue = 77.0'),\n",
       " Text(0.24232633279483037, 0.14705882352941177, 'squared_error = 0.0\\nsamples = 1\\nvalue = 79.0'),\n",
       " Text(0.2520193861066236, 0.20588235294117646, 'X[5] <= 0.005\\nsquared_error = 13.84\\nsamples = 5\\nvalue = 90.4'),\n",
       " Text(0.24878836833602586, 0.14705882352941177, 'X[9] <= -0.053\\nsquared_error = 3.688\\nsamples = 4\\nvalue = 88.75'),\n",
       " Text(0.2455573505654281, 0.08823529411764706, 'squared_error = 0.0\\nsamples = 1\\nvalue = 92.0'),\n",
       " Text(0.2520193861066236, 0.08823529411764706, 'X[4] <= 0.017\\nsquared_error = 0.222\\nsamples = 3\\nvalue = 87.667'),\n",
       " Text(0.24878836833602586, 0.029411764705882353, 'squared_error = 0.0\\nsamples = 2\\nvalue = 88.0'),\n",
       " Text(0.2552504038772213, 0.029411764705882353, 'squared_error = 0.0\\nsamples = 1\\nvalue = 87.0'),\n",
       " Text(0.2552504038772213, 0.14705882352941177, 'squared_error = 0.0\\nsamples = 1\\nvalue = 97.0'),\n",
       " Text(0.2827140549273021, 0.5588235294117647, 'X[3] <= -0.014\\nsquared_error = 1782.182\\nsamples = 22\\nvalue = 117.0'),\n",
       " Text(0.2633279483037157, 0.5, 'X[0] <= 0.034\\nsquared_error = 1033.556\\nsamples = 9\\nvalue = 91.667'),\n",
       " Text(0.2552504038772213, 0.4411764705882353, 'X[6] <= 0.111\\nsquared_error = 222.188\\nsamples = 4\\nvalue = 67.25'),\n",
       " Text(0.2520193861066236, 0.38235294117647056, 'X[8] <= -0.032\\nsquared_error = 24.0\\nsamples = 3\\nvalue = 59.0'),\n",
       " Text(0.24878836833602586, 0.3235294117647059, 'squared_error = 0.0\\nsamples = 1\\nvalue = 65.0'),\n",
       " Text(0.2552504038772213, 0.3235294117647059, 'X[3] <= -0.033\\nsquared_error = 9.0\\nsamples = 2\\nvalue = 56.0'),\n",
       " Text(0.2520193861066236, 0.2647058823529412, 'squared_error = 0.0\\nsamples = 1\\nvalue = 53.0'),\n",
       " Text(0.25848142164781907, 0.2647058823529412, 'squared_error = 0.0\\nsamples = 1\\nvalue = 59.0'),\n",
       " Text(0.25848142164781907, 0.38235294117647056, 'squared_error = 0.0\\nsamples = 1\\nvalue = 92.0'),\n",
       " Text(0.27140549273021003, 0.4411764705882353, 'X[5] <= -0.023\\nsquared_error = 824.16\\nsamples = 5\\nvalue = 111.2'),\n",
       " Text(0.2649434571890145, 0.38235294117647056, 'X[1] <= 0.003\\nsquared_error = 272.25\\nsamples = 2\\nvalue = 143.5'),\n",
       " Text(0.2617124394184168, 0.3235294117647059, 'squared_error = 0.0\\nsamples = 1\\nvalue = 127.0'),\n",
       " Text(0.2681744749596123, 0.3235294117647059, 'squared_error = 0.0\\nsamples = 1\\nvalue = 160.0'),\n",
       " Text(0.2778675282714055, 0.38235294117647056, 'X[8] <= -0.019\\nsquared_error = 32.889\\nsamples = 3\\nvalue = 89.667'),\n",
       " Text(0.27463651050080773, 0.3235294117647059, 'X[0] <= 0.058\\nsquared_error = 9.0\\nsamples = 2\\nvalue = 86.0'),\n",
       " Text(0.27140549273021003, 0.2647058823529412, 'squared_error = 0.0\\nsamples = 1\\nvalue = 83.0'),\n",
       " Text(0.2778675282714055, 0.2647058823529412, 'squared_error = 0.0\\nsamples = 1\\nvalue = 89.0'),\n",
       " Text(0.28109854604200324, 0.3235294117647059, 'squared_error = 0.0\\nsamples = 1\\nvalue = 97.0'),\n",
       " Text(0.30210016155088854, 0.5, 'X[0] <= 0.042\\nsquared_error = 1548.556\\nsamples = 13\\nvalue = 134.538'),\n",
       " Text(0.29079159935379645, 0.4411764705882353, 'X[6] <= -0.049\\nsquared_error = 1172.984\\nsamples = 8\\nvalue = 151.625'),\n",
       " Text(0.2875605815831987, 0.38235294117647056, 'squared_error = 0.0\\nsamples = 1\\nvalue = 81.0'),\n",
       " Text(0.2940226171243942, 0.38235294117647056, 'X[9] <= -0.014\\nsquared_error = 526.204\\nsamples = 7\\nvalue = 161.714'),\n",
       " Text(0.2875605815831987, 0.3235294117647059, 'X[6] <= 0.03\\nsquared_error = 110.25\\nsamples = 2\\nvalue = 189.5'),\n",
       " Text(0.284329563812601, 0.2647058823529412, 'squared_error = 0.0\\nsamples = 1\\nvalue = 200.0'),\n",
       " Text(0.29079159935379645, 0.2647058823529412, 'squared_error = 0.0\\nsamples = 1\\nvalue = 179.0'),\n",
       " Text(0.30048465266558966, 0.3235294117647059, 'X[4] <= 0.008\\nsquared_error = 260.24\\nsamples = 5\\nvalue = 150.6'),\n",
       " Text(0.2972536348949919, 0.2647058823529412, 'X[3] <= 0.029\\nsquared_error = 107.5\\nsamples = 4\\nvalue = 144.0'),\n",
       " Text(0.2940226171243942, 0.20588235294117646, 'X[3] <= 0.008\\nsquared_error = 14.889\\nsamples = 3\\nvalue = 149.667'),\n",
       " Text(0.29079159935379645, 0.14705882352941177, 'X[9] <= 0.03\\nsquared_error = 1.0\\nsamples = 2\\nvalue = 147.0'),\n",
       " Text(0.2875605815831987, 0.08823529411764706, 'squared_error = 0.0\\nsamples = 1\\nvalue = 148.0'),\n",
       " Text(0.2940226171243942, 0.08823529411764706, 'squared_error = 0.0\\nsamples = 1\\nvalue = 146.0'),\n",
       " Text(0.2972536348949919, 0.14705882352941177, 'squared_error = 0.0\\nsamples = 1\\nvalue = 155.0'),\n",
       " Text(0.30048465266558966, 0.20588235294117646, 'squared_error = 0.0\\nsamples = 1\\nvalue = 127.0'),\n",
       " Text(0.3037156704361874, 0.2647058823529412, 'squared_error = 0.0\\nsamples = 1\\nvalue = 177.0'),\n",
       " Text(0.3134087237479806, 0.4411764705882353, 'X[5] <= 0.035\\nsquared_error = 934.96\\nsamples = 5\\nvalue = 107.2'),\n",
       " Text(0.31017770597738287, 0.38235294117647056, 'X[5] <= -0.036\\nsquared_error = 362.25\\nsamples = 4\\nvalue = 94.5'),\n",
       " Text(0.3069466882067851, 0.3235294117647059, 'squared_error = 0.0\\nsamples = 1\\nvalue = 66.0'),\n",
       " Text(0.3134087237479806, 0.3235294117647059, 'X[2] <= -0.028\\nsquared_error = 122.0\\nsamples = 3\\nvalue = 104.0'),\n",
       " Text(0.31017770597738287, 0.2647058823529412, 'X[4] <= 0.027\\nsquared_error = 36.0\\nsamples = 2\\nvalue = 97.0'),\n",
       " Text(0.3069466882067851, 0.20588235294117646, 'squared_error = 0.0\\nsamples = 1\\nvalue = 91.0'),\n",
       " Text(0.3134087237479806, 0.20588235294117646, 'squared_error = 0.0\\nsamples = 1\\nvalue = 103.0'),\n",
       " Text(0.3166397415185784, 0.2647058823529412, 'squared_error = 0.0\\nsamples = 1\\nvalue = 118.0'),\n",
       " Text(0.3166397415185784, 0.38235294117647056, 'squared_error = 0.0\\nsamples = 1\\nvalue = 158.0'),\n",
       " Text(0.23222940226171243, 0.6176470588235294, 'squared_error = 0.0\\nsamples = 1\\nvalue = 216.0'),\n",
       " Text(0.19123586429725364, 0.7941176470588235, 'X[9] <= 0.007\\nsquared_error = 132.25\\nsamples = 2\\nvalue = 241.5'),\n",
       " Text(0.1880048465266559, 0.7352941176470589, 'squared_error = 0.0\\nsamples = 1\\nvalue = 253.0'),\n",
       " Text(0.19446688206785137, 0.7352941176470589, 'squared_error = 0.0\\nsamples = 1\\nvalue = 230.0'),\n",
       " Text(0.4669577948303716, 0.8529411764705882, 'X[7] <= 0.1\\nsquared_error = 3916.617\\nsamples = 71\\nvalue = 152.789'),\n",
       " Text(0.42513126009693053, 0.7941176470588235, 'X[0] <= 0.1\\nsquared_error = 3564.819\\nsamples = 68\\nvalue = 148.221'),\n",
       " Text(0.4219002423263328, 0.7352941176470589, 'X[8] <= 0.022\\nsquared_error = 3366.806\\nsamples = 67\\nvalue = 146.299'),\n",
       " Text(0.3479402261712439, 0.6764705882352942, 'X[4] <= -0.052\\nsquared_error = 3220.619\\nsamples = 34\\nvalue = 130.294'),\n",
       " Text(0.3182552504038772, 0.6176470588235294, 'X[2] <= -0.034\\nsquared_error = 1112.667\\nsamples = 3\\nvalue = 205.0'),\n",
       " Text(0.3150242326332795, 0.5588235294117647, 'X[8] <= 0.006\\nsquared_error = 12.25\\nsamples = 2\\nvalue = 181.5'),\n",
       " Text(0.31179321486268174, 0.5, 'squared_error = 0.0\\nsamples = 1\\nvalue = 185.0'),\n",
       " Text(0.3182552504038772, 0.5, 'squared_error = 0.0\\nsamples = 1\\nvalue = 178.0'),\n",
       " Text(0.32148626817447495, 0.5588235294117647, 'squared_error = 0.0\\nsamples = 1\\nvalue = 252.0'),\n",
       " Text(0.37762520193861066, 0.6176470588235294, 'X[0] <= 0.036\\nsquared_error = 2832.254\\nsamples = 31\\nvalue = 123.065'),\n",
       " Text(0.3392568659127625, 0.5588235294117647, 'X[0] <= -0.069\\nsquared_error = 1478.338\\nsamples = 19\\nvalue = 106.632'),\n",
       " Text(0.3247172859450727, 0.5, 'X[5] <= 0.018\\nsquared_error = 361.0\\nsamples = 2\\nvalue = 181.0'),\n",
       " Text(0.32148626817447495, 0.4411764705882353, 'squared_error = 0.0\\nsamples = 1\\nvalue = 162.0'),\n",
       " Text(0.32794830371567046, 0.4411764705882353, 'squared_error = 0.0\\nsamples = 1\\nvalue = 200.0'),\n",
       " Text(0.35379644588045234, 0.5, 'X[5] <= 0.003\\nsquared_error = 882.574\\nsamples = 17\\nvalue = 97.882'),\n",
       " Text(0.3344103392568659, 0.4411764705882353, 'X[8] <= 0.012\\nsquared_error = 271.551\\nsamples = 7\\nvalue = 74.143'),\n",
       " Text(0.32310177705977383, 0.38235294117647056, 'X[0] <= -0.056\\nsquared_error = 12.667\\nsamples = 3\\nvalue = 91.0'),\n",
       " Text(0.3198707592891761, 0.3235294117647059, 'squared_error = 0.0\\nsamples = 1\\nvalue = 86.0'),\n",
       " Text(0.3263327948303716, 0.3235294117647059, 'X[0] <= -0.025\\nsquared_error = 0.25\\nsamples = 2\\nvalue = 93.5'),\n",
       " Text(0.32310177705977383, 0.2647058823529412, 'squared_error = 0.0\\nsamples = 1\\nvalue = 93.0'),\n",
       " Text(0.3295638126009693, 0.2647058823529412, 'squared_error = 0.0\\nsamples = 1\\nvalue = 94.0'),\n",
       " Text(0.345718901453958, 0.38235294117647056, 'X[9] <= 0.013\\nsquared_error = 92.75\\nsamples = 4\\nvalue = 61.5'),\n",
       " Text(0.3392568659127625, 0.3235294117647059, 'X[7] <= -0.006\\nsquared_error = 25.0\\nsamples = 2\\nvalue = 53.0'),\n",
       " Text(0.3360258481421648, 0.2647058823529412, 'squared_error = 0.0\\nsamples = 1\\nvalue = 48.0'),\n",
       " Text(0.34248788368336025, 0.2647058823529412, 'squared_error = 0.0\\nsamples = 1\\nvalue = 58.0'),\n",
       " Text(0.35218093699515346, 0.3235294117647059, 'X[5] <= -0.003\\nsquared_error = 16.0\\nsamples = 2\\nvalue = 70.0'),\n",
       " Text(0.34894991922455576, 0.2647058823529412, 'squared_error = 0.0\\nsamples = 1\\nvalue = 66.0'),\n",
       " Text(0.3554119547657512, 0.2647058823529412, 'squared_error = 0.0\\nsamples = 1\\nvalue = 74.0'),\n",
       " Text(0.37318255250403876, 0.4411764705882353, 'X[1] <= 0.003\\nsquared_error = 639.65\\nsamples = 10\\nvalue = 114.5'),\n",
       " Text(0.36187399030694667, 0.38235294117647056, 'X[2] <= -0.048\\nsquared_error = 831.688\\nsamples = 4\\nvalue = 132.25'),\n",
       " Text(0.35864297253634897, 0.3235294117647059, 'squared_error = 0.0\\nsamples = 1\\nvalue = 83.0'),\n",
       " Text(0.3651050080775444, 0.3235294117647059, 'X[3] <= 0.036\\nsquared_error = 30.889\\nsamples = 3\\nvalue = 148.667'),\n",
       " Text(0.36187399030694667, 0.2647058823529412, 'X[6] <= -0.019\\nsquared_error = 2.25\\nsamples = 2\\nvalue = 152.5'),\n",
       " Text(0.35864297253634897, 0.20588235294117646, 'squared_error = 0.0\\nsamples = 1\\nvalue = 151.0'),\n",
       " Text(0.3651050080775444, 0.20588235294117646, 'squared_error = 0.0\\nsamples = 1\\nvalue = 154.0'),\n",
       " Text(0.3683360258481422, 0.2647058823529412, 'squared_error = 0.0\\nsamples = 1\\nvalue = 141.0'),\n",
       " Text(0.38449111470113084, 0.38235294117647056, 'X[9] <= 0.001\\nsquared_error = 161.556\\nsamples = 6\\nvalue = 102.667'),\n",
       " Text(0.3780290791599354, 0.3235294117647059, 'X[5] <= 0.015\\nsquared_error = 57.556\\nsamples = 3\\nvalue = 113.333'),\n",
       " Text(0.37479806138933763, 0.2647058823529412, 'X[2] <= 0.001\\nsquared_error = 1.0\\nsamples = 2\\nvalue = 108.0'),\n",
       " Text(0.3715670436187399, 0.20588235294117646, 'squared_error = 0.0\\nsamples = 1\\nvalue = 109.0'),\n",
       " Text(0.3780290791599354, 0.20588235294117646, 'squared_error = 0.0\\nsamples = 1\\nvalue = 107.0'),\n",
       " Text(0.38126009693053314, 0.2647058823529412, 'squared_error = 0.0\\nsamples = 1\\nvalue = 124.0'),\n",
       " Text(0.39095315024232635, 0.3235294117647059, 'X[5] <= 0.045\\nsquared_error = 38.0\\nsamples = 3\\nvalue = 92.0'),\n",
       " Text(0.3877221324717286, 0.2647058823529412, 'X[8] <= 0.005\\nsquared_error = 9.0\\nsamples = 2\\nvalue = 88.0'),\n",
       " Text(0.38449111470113084, 0.20588235294117646, 'squared_error = 0.0\\nsamples = 1\\nvalue = 85.0'),\n",
       " Text(0.39095315024232635, 0.20588235294117646, 'squared_error = 0.0\\nsamples = 1\\nvalue = 91.0'),\n",
       " Text(0.39418416801292405, 0.2647058823529412, 'squared_error = 0.0\\nsamples = 1\\nvalue = 100.0'),\n",
       " Text(0.4159935379644588, 0.5588235294117647, 'X[9] <= 0.059\\nsquared_error = 3871.41\\nsamples = 12\\nvalue = 149.083'),\n",
       " Text(0.41276252019386106, 0.5, 'X[5] <= -0.013\\nsquared_error = 1623.322\\nsamples = 11\\nvalue = 134.364'),\n",
       " Text(0.40387722132471726, 0.4411764705882353, 'X[5] <= -0.026\\nsquared_error = 1149.556\\nsamples = 3\\nvalue = 171.667'),\n",
       " Text(0.40064620355411956, 0.38235294117647056, 'X[5] <= -0.048\\nsquared_error = 380.25\\nsamples = 2\\nvalue = 150.5'),\n",
       " Text(0.3974151857835218, 0.3235294117647059, 'squared_error = 0.0\\nsamples = 1\\nvalue = 170.0'),\n",
       " Text(0.40387722132471726, 0.3235294117647059, 'squared_error = 0.0\\nsamples = 1\\nvalue = 131.0'),\n",
       " Text(0.407108239095315, 0.38235294117647056, 'squared_error = 0.0\\nsamples = 1\\nvalue = 214.0'),\n",
       " Text(0.42164781906300486, 0.4411764705882353, 'X[6] <= -0.003\\nsquared_error = 1083.484\\nsamples = 8\\nvalue = 120.375'),\n",
       " Text(0.4135702746365105, 0.38235294117647056, 'X[9] <= 0.047\\nsquared_error = 477.688\\nsamples = 4\\nvalue = 147.75'),\n",
       " Text(0.41033925686591277, 0.3235294117647059, 'X[4] <= 0.017\\nsquared_error = 20.222\\nsamples = 3\\nvalue = 135.333'),\n",
       " Text(0.407108239095315, 0.2647058823529412, 'squared_error = 0.0\\nsamples = 1\\nvalue = 129.0'),\n",
       " Text(0.4135702746365105, 0.2647058823529412, 'X[0] <= 0.064\\nsquared_error = 0.25\\nsamples = 2\\nvalue = 138.5'),\n",
       " Text(0.41033925686591277, 0.20588235294117646, 'squared_error = 0.0\\nsamples = 1\\nvalue = 138.0'),\n",
       " Text(0.4168012924071082, 0.20588235294117646, 'squared_error = 0.0\\nsamples = 1\\nvalue = 139.0'),\n",
       " Text(0.4168012924071082, 0.3235294117647059, 'squared_error = 0.0\\nsamples = 1\\nvalue = 185.0'),\n",
       " Text(0.4297253634894992, 0.38235294117647056, 'X[8] <= 0.007\\nsquared_error = 190.5\\nsamples = 4\\nvalue = 93.0'),\n",
       " Text(0.42326332794830374, 0.3235294117647059, 'X[1] <= 0.003\\nsquared_error = 56.25\\nsamples = 2\\nvalue = 80.5'),\n",
       " Text(0.420032310177706, 0.2647058823529412, 'squared_error = 0.0\\nsamples = 1\\nvalue = 73.0'),\n",
       " Text(0.42649434571890144, 0.2647058823529412, 'squared_error = 0.0\\nsamples = 1\\nvalue = 88.0'),\n",
       " Text(0.43618739903069464, 0.3235294117647059, 'X[4] <= 0.04\\nsquared_error = 12.25\\nsamples = 2\\nvalue = 105.5'),\n",
       " Text(0.43295638126009695, 0.2647058823529412, 'squared_error = 0.0\\nsamples = 1\\nvalue = 109.0'),\n",
       " Text(0.4394184168012924, 0.2647058823529412, 'squared_error = 0.0\\nsamples = 1\\nvalue = 102.0'),\n",
       " Text(0.41922455573505657, 0.5, 'squared_error = 0.0\\nsamples = 1\\nvalue = 311.0'),\n",
       " Text(0.4958602584814216, 0.6764705882352942, 'X[4] <= 0.075\\nsquared_error = 2981.622\\nsamples = 33\\nvalue = 162.788'),\n",
       " Text(0.452140549273021, 0.6176470588235294, 'X[8] <= 0.024\\nsquared_error = 2165.826\\nsamples = 24\\nvalue = 182.083'),\n",
       " Text(0.4345718901453958, 0.5588235294117647, 'X[3] <= 0.012\\nsquared_error = 388.222\\nsamples = 3\\nvalue = 265.333'),\n",
       " Text(0.43134087237479807, 0.5, 'X[0] <= 0.014\\nsquared_error = 49.0\\nsamples = 2\\nvalue = 252.0'),\n",
       " Text(0.4281098546042003, 0.4411764705882353, 'squared_error = 0.0\\nsamples = 1\\nvalue = 259.0'),\n",
       " Text(0.4345718901453958, 0.4411764705882353, 'squared_error = 0.0\\nsamples = 1\\nvalue = 245.0'),\n",
       " Text(0.4378029079159935, 0.5, 'squared_error = 0.0\\nsamples = 1\\nvalue = 292.0'),\n",
       " Text(0.4697092084006462, 0.5588235294117647, 'X[6] <= -0.038\\nsquared_error = 1288.249\\nsamples = 21\\nvalue = 170.19'),\n",
       " Text(0.44749596122778673, 0.5, 'X[2] <= -0.016\\nsquared_error = 255.222\\nsamples = 6\\nvalue = 138.667'),\n",
       " Text(0.4410339256865913, 0.4411764705882353, 'X[6] <= -0.051\\nsquared_error = 30.25\\nsamples = 2\\nvalue = 157.5'),\n",
       " Text(0.4378029079159935, 0.38235294117647056, 'squared_error = 0.0\\nsamples = 1\\nvalue = 163.0'),\n",
       " Text(0.44426494345718903, 0.38235294117647056, 'squared_error = 0.0\\nsamples = 1\\nvalue = 152.0'),\n",
       " Text(0.45395799676898224, 0.4411764705882353, 'X[5] <= -0.024\\nsquared_error = 101.688\\nsamples = 4\\nvalue = 129.25'),\n",
       " Text(0.4507269789983845, 0.38235294117647056, 'squared_error = 0.0\\nsamples = 1\\nvalue = 144.0'),\n",
       " Text(0.45718901453957994, 0.38235294117647056, 'X[4] <= 0.031\\nsquared_error = 38.889\\nsamples = 3\\nvalue = 124.333'),\n",
       " Text(0.45395799676898224, 0.3235294117647059, 'X[3] <= -0.04\\nsquared_error = 6.25\\nsamples = 2\\nvalue = 128.5'),\n",
       " Text(0.4507269789983845, 0.2647058823529412, 'squared_error = 0.0\\nsamples = 1\\nvalue = 126.0'),\n",
       " Text(0.45718901453957994, 0.2647058823529412, 'squared_error = 0.0\\nsamples = 1\\nvalue = 131.0'),\n",
       " Text(0.4604200323101777, 0.3235294117647059, 'squared_error = 0.0\\nsamples = 1\\nvalue = 116.0'),\n",
       " Text(0.49192245557350567, 0.5, 'X[3] <= 0.045\\nsquared_error = 1144.96\\nsamples = 15\\nvalue = 182.8'),\n",
       " Text(0.481421647819063, 0.4411764705882353, 'X[3] <= 0.01\\nsquared_error = 1080.84\\nsamples = 10\\nvalue = 170.6'),\n",
       " Text(0.4701130856219709, 0.38235294117647056, 'X[5] <= -0.061\\nsquared_error = 264.472\\nsamples = 6\\nvalue = 193.167'),\n",
       " Text(0.4668820678513732, 0.3235294117647059, 'squared_error = 0.0\\nsamples = 1\\nvalue = 161.0'),\n",
       " Text(0.47334410339256866, 0.3235294117647059, 'X[2] <= -0.003\\nsquared_error = 69.04\\nsamples = 5\\nvalue = 199.6'),\n",
       " Text(0.4701130856219709, 0.2647058823529412, 'X[5] <= -0.019\\nsquared_error = 19.688\\nsamples = 4\\nvalue = 203.25'),\n",
       " Text(0.46365105008077545, 0.20588235294117646, 'X[9] <= 0.026\\nsquared_error = 1.0\\nsamples = 2\\nvalue = 199.0'),\n",
       " Text(0.4604200323101777, 0.14705882352941177, 'squared_error = 0.0\\nsamples = 1\\nvalue = 198.0'),\n",
       " Text(0.4668820678513732, 0.14705882352941177, 'squared_error = 0.0\\nsamples = 1\\nvalue = 200.0'),\n",
       " Text(0.4765751211631664, 0.20588235294117646, 'X[9] <= 0.028\\nsquared_error = 2.25\\nsamples = 2\\nvalue = 207.5'),\n",
       " Text(0.47334410339256866, 0.14705882352941177, 'squared_error = 0.0\\nsamples = 1\\nvalue = 209.0'),\n",
       " Text(0.4798061389337641, 0.14705882352941177, 'squared_error = 0.0\\nsamples = 1\\nvalue = 206.0'),\n",
       " Text(0.4765751211631664, 0.2647058823529412, 'squared_error = 0.0\\nsamples = 1\\nvalue = 185.0'),\n",
       " Text(0.4927302100161551, 0.38235294117647056, 'X[4] <= 0.064\\nsquared_error = 395.688\\nsamples = 4\\nvalue = 136.75'),\n",
       " Text(0.4894991922455573, 0.3235294117647059, 'X[0] <= 0.038\\nsquared_error = 36.222\\nsamples = 3\\nvalue = 125.667'),\n",
       " Text(0.4862681744749596, 0.2647058823529412, 'X[3] <= 0.029\\nsquared_error = 2.25\\nsamples = 2\\nvalue = 121.5'),\n",
       " Text(0.48303715670436187, 0.20588235294117646, 'squared_error = 0.0\\nsamples = 1\\nvalue = 123.0'),\n",
       " Text(0.4894991922455573, 0.20588235294117646, 'squared_error = 0.0\\nsamples = 1\\nvalue = 120.0'),\n",
       " Text(0.4927302100161551, 0.2647058823529412, 'squared_error = 0.0\\nsamples = 1\\nvalue = 134.0'),\n",
       " Text(0.49596122778675283, 0.3235294117647059, 'squared_error = 0.0\\nsamples = 1\\nvalue = 170.0'),\n",
       " Text(0.5024232633279483, 0.4411764705882353, 'X[6] <= -0.025\\nsquared_error = 380.16\\nsamples = 5\\nvalue = 207.2'),\n",
       " Text(0.4991922455573506, 0.38235294117647056, 'squared_error = 0.0\\nsamples = 1\\nvalue = 241.0'),\n",
       " Text(0.505654281098546, 0.38235294117647056, 'X[3] <= 0.082\\nsquared_error = 118.188\\nsamples = 4\\nvalue = 198.75'),\n",
       " Text(0.5024232633279483, 0.3235294117647059, 'X[8] <= 0.074\\nsquared_error = 9.556\\nsamples = 3\\nvalue = 192.667'),\n",
       " Text(0.4991922455573506, 0.2647058823529412, 'X[4] <= 0.025\\nsquared_error = 0.25\\nsamples = 2\\nvalue = 190.5'),\n",
       " Text(0.49596122778675283, 0.20588235294117646, 'squared_error = 0.0\\nsamples = 1\\nvalue = 191.0'),\n",
       " Text(0.5024232633279483, 0.20588235294117646, 'squared_error = 0.0\\nsamples = 1\\nvalue = 190.0'),\n",
       " Text(0.505654281098546, 0.2647058823529412, 'squared_error = 0.0\\nsamples = 1\\nvalue = 197.0'),\n",
       " Text(0.5088852988691438, 0.3235294117647059, 'squared_error = 0.0\\nsamples = 1\\nvalue = 217.0'),\n",
       " Text(0.5395799676898223, 0.6176470588235294, 'X[4] <= 0.118\\nsquared_error = 1516.667\\nsamples = 9\\nvalue = 111.333'),\n",
       " Text(0.5363489499192245, 0.5588235294117647, 'X[3] <= 0.001\\nsquared_error = 698.188\\nsamples = 8\\nvalue = 100.75'),\n",
       " Text(0.5282714054927302, 0.5, 'X[2] <= -0.004\\nsquared_error = 453.889\\nsamples = 6\\nvalue = 111.667'),\n",
       " Text(0.5218093699515347, 0.4411764705882353, 'X[0] <= 0.034\\nsquared_error = 160.667\\nsamples = 3\\nvalue = 94.0'),\n",
       " Text(0.518578352180937, 0.38235294117647056, 'X[5] <= 0.027\\nsquared_error = 49.0\\nsamples = 2\\nvalue = 102.0'),\n",
       " Text(0.5153473344103393, 0.3235294117647059, 'squared_error = 0.0\\nsamples = 1\\nvalue = 109.0'),\n",
       " Text(0.5218093699515347, 0.3235294117647059, 'squared_error = 0.0\\nsamples = 1\\nvalue = 95.0'),\n",
       " Text(0.5250403877221325, 0.38235294117647056, 'squared_error = 0.0\\nsamples = 1\\nvalue = 78.0'),\n",
       " Text(0.5347334410339257, 0.4411764705882353, 'X[8] <= 0.025\\nsquared_error = 122.889\\nsamples = 3\\nvalue = 129.333'),\n",
       " Text(0.531502423263328, 0.38235294117647056, 'squared_error = 0.0\\nsamples = 1\\nvalue = 115.0'),\n",
       " Text(0.5379644588045234, 0.38235294117647056, 'X[2] <= 0.004\\nsquared_error = 30.25\\nsamples = 2\\nvalue = 136.5'),\n",
       " Text(0.5347334410339257, 0.3235294117647059, 'squared_error = 0.0\\nsamples = 1\\nvalue = 142.0'),\n",
       " Text(0.5411954765751211, 0.3235294117647059, 'squared_error = 0.0\\nsamples = 1\\nvalue = 131.0'),\n",
       " Text(0.5444264943457189, 0.5, 'X[4] <= 0.086\\nsquared_error = 1.0\\nsamples = 2\\nvalue = 68.0'),\n",
       " Text(0.5411954765751211, 0.4411764705882353, 'squared_error = 0.0\\nsamples = 1\\nvalue = 67.0'),\n",
       " Text(0.5476575121163166, 0.4411764705882353, 'squared_error = 0.0\\nsamples = 1\\nvalue = 69.0'),\n",
       " Text(0.5428109854604201, 0.5588235294117647, 'squared_error = 0.0\\nsamples = 1\\nvalue = 196.0'),\n",
       " Text(0.4283622778675283, 0.7352941176470589, 'squared_error = 0.0\\nsamples = 1\\nvalue = 277.0'),\n",
       " Text(0.5087843295638126, 0.7941176470588235, 'X[9] <= 0.065\\nsquared_error = 696.222\\nsamples = 3\\nvalue = 256.333'),\n",
       " Text(0.5055533117932148, 0.7352941176470589, 'X[4] <= 0.062\\nsquared_error = 90.25\\nsamples = 2\\nvalue = 238.5'),\n",
       " Text(0.5023222940226171, 0.6764705882352942, 'squared_error = 0.0\\nsamples = 1\\nvalue = 248.0'),\n",
       " Text(0.5087843295638126, 0.6764705882352942, 'squared_error = 0.0\\nsamples = 1\\nvalue = 229.0'),\n",
       " Text(0.5120153473344103, 0.7352941176470589, 'squared_error = 0.0\\nsamples = 1\\nvalue = 292.0'),\n",
       " Text(0.8346375201938611, 0.9117647058823529, 'X[2] <= 0.073\\nsquared_error = 5090.117\\nsamples = 109\\nvalue = 206.954'),\n",
       " Text(0.7128937802907916, 0.8529411764705882, 'X[3] <= 0.017\\nsquared_error = 4257.26\\nsamples = 87\\nvalue = 190.069'),\n",
       " Text(0.6352988691437803, 0.7941176470588235, 'X[2] <= 0.032\\nsquared_error = 3830.333\\nsamples = 46\\nvalue = 160.717'),\n",
       " Text(0.6054119547657512, 0.7352941176470589, 'X[1] <= 0.003\\nsquared_error = 3155.867\\nsamples = 18\\nvalue = 196.278'),\n",
       " Text(0.5823909531502424, 0.6764705882352942, 'X[4] <= 0.058\\nsquared_error = 2362.306\\nsamples = 12\\nvalue = 222.167'),\n",
       " Text(0.5791599353796446, 0.6176470588235294, 'X[8] <= -0.027\\nsquared_error = 1697.653\\nsamples = 11\\nvalue = 230.727'),\n",
       " Text(0.5638126009693053, 0.5588235294117647, 'X[0] <= -0.047\\nsquared_error = 115.25\\nsamples = 4\\nvalue = 186.5'),\n",
       " Text(0.5573505654281099, 0.5, 'X[2] <= 0.028\\nsquared_error = 25.0\\nsamples = 2\\nvalue = 177.0'),\n",
       " Text(0.5541195476575121, 0.4411764705882353, 'squared_error = 0.0\\nsamples = 1\\nvalue = 182.0'),\n",
       " Text(0.5605815831987075, 0.4411764705882353, 'squared_error = 0.0\\nsamples = 1\\nvalue = 172.0'),\n",
       " Text(0.5702746365105008, 0.5, 'X[9] <= -0.067\\nsquared_error = 25.0\\nsamples = 2\\nvalue = 196.0'),\n",
       " Text(0.567043618739903, 0.4411764705882353, 'squared_error = 0.0\\nsamples = 1\\nvalue = 201.0'),\n",
       " Text(0.5735056542810986, 0.4411764705882353, 'squared_error = 0.0\\nsamples = 1\\nvalue = 191.0'),\n",
       " Text(0.5945072697899838, 0.5588235294117647, 'X[6] <= 0.014\\nsquared_error = 845.429\\nsamples = 7\\nvalue = 256.0'),\n",
       " Text(0.5864297253634895, 0.5, 'X[3] <= -0.024\\nsquared_error = 506.16\\nsamples = 5\\nvalue = 242.8'),\n",
       " Text(0.5799676898222941, 0.4411764705882353, 'X[6] <= -0.007\\nsquared_error = 218.0\\nsamples = 3\\nvalue = 227.0'),\n",
       " Text(0.5767366720516963, 0.38235294117647056, 'X[5] <= -0.017\\nsquared_error = 56.25\\nsamples = 2\\nvalue = 217.5'),\n",
       " Text(0.5735056542810986, 0.3235294117647059, 'squared_error = 0.0\\nsamples = 1\\nvalue = 210.0'),\n",
       " Text(0.5799676898222941, 0.3235294117647059, 'squared_error = 0.0\\nsamples = 1\\nvalue = 225.0'),\n",
       " Text(0.5831987075928917, 0.38235294117647056, 'squared_error = 0.0\\nsamples = 1\\nvalue = 246.0'),\n",
       " Text(0.592891760904685, 0.4411764705882353, 'X[2] <= 0.02\\nsquared_error = 2.25\\nsamples = 2\\nvalue = 266.5'),\n",
       " Text(0.5896607431340872, 0.38235294117647056, 'squared_error = 0.0\\nsamples = 1\\nvalue = 268.0'),\n",
       " Text(0.5961227786752827, 0.38235294117647056, 'squared_error = 0.0\\nsamples = 1\\nvalue = 265.0'),\n",
       " Text(0.6025848142164781, 0.5, 'X[5] <= -0.009\\nsquared_error = 169.0\\nsamples = 2\\nvalue = 289.0'),\n",
       " Text(0.5993537964458805, 0.4411764705882353, 'squared_error = 0.0\\nsamples = 1\\nvalue = 276.0'),\n",
       " Text(0.6058158319870759, 0.4411764705882353, 'squared_error = 0.0\\nsamples = 1\\nvalue = 302.0'),\n",
       " Text(0.5856219709208401, 0.6176470588235294, 'squared_error = 0.0\\nsamples = 1\\nvalue = 128.0'),\n",
       " Text(0.6284329563812601, 0.6764705882352942, 'X[6] <= -0.031\\nsquared_error = 721.583\\nsamples = 6\\nvalue = 144.5'),\n",
       " Text(0.6252019386106623, 0.6176470588235294, 'X[9] <= 0.015\\nsquared_error = 229.36\\nsamples = 5\\nvalue = 134.2'),\n",
       " Text(0.6187399030694669, 0.5588235294117647, 'X[9] <= -0.003\\nsquared_error = 14.0\\nsamples = 3\\nvalue = 146.0'),\n",
       " Text(0.6155088852988692, 0.5, 'X[7] <= 0.034\\nsquared_error = 2.25\\nsamples = 2\\nvalue = 143.5'),\n",
       " Text(0.6122778675282714, 0.4411764705882353, 'squared_error = 0.0\\nsamples = 1\\nvalue = 145.0'),\n",
       " Text(0.6187399030694669, 0.4411764705882353, 'squared_error = 0.0\\nsamples = 1\\nvalue = 142.0'),\n",
       " Text(0.6219709208400647, 0.5, 'squared_error = 0.0\\nsamples = 1\\nvalue = 151.0'),\n",
       " Text(0.6316639741518578, 0.5588235294117647, 'X[4] <= 0.005\\nsquared_error = 30.25\\nsamples = 2\\nvalue = 116.5'),\n",
       " Text(0.6284329563812601, 0.5, 'squared_error = 0.0\\nsamples = 1\\nvalue = 111.0'),\n",
       " Text(0.6348949919224556, 0.5, 'squared_error = 0.0\\nsamples = 1\\nvalue = 122.0'),\n",
       " Text(0.6316639741518578, 0.6176470588235294, 'squared_error = 0.0\\nsamples = 1\\nvalue = 196.0'),\n",
       " Text(0.6651857835218093, 0.7352941176470589, 'X[6] <= -0.071\\nsquared_error = 2928.408\\nsamples = 28\\nvalue = 137.857'),\n",
       " Text(0.6478190630048465, 0.6764705882352942, 'X[2] <= 0.062\\nsquared_error = 42.25\\nsamples = 2\\nvalue = 265.5'),\n",
       " Text(0.6445880452342488, 0.6176470588235294, 'squared_error = 0.0\\nsamples = 1\\nvalue = 272.0'),\n",
       " Text(0.6510500807754442, 0.6176470588235294, 'squared_error = 0.0\\nsamples = 1\\nvalue = 259.0'),\n",
       " Text(0.6825525040387722, 0.6764705882352942, 'X[5] <= 0.055\\nsquared_error = 1800.729\\nsamples = 26\\nvalue = 128.038'),\n",
       " Text(0.6575121163166397, 0.6176470588235294, 'X[3] <= -0.03\\nsquared_error = 1238.127\\nsamples = 18\\nvalue = 114.611'),\n",
       " Text(0.6445880452342488, 0.5588235294117647, 'X[6] <= -0.051\\nsquared_error = 538.09\\nsamples = 10\\nvalue = 90.9'),\n",
       " Text(0.6413570274636511, 0.5, 'squared_error = 0.0\\nsamples = 1\\nvalue = 144.0'),\n",
       " Text(0.6478190630048465, 0.5, 'X[2] <= 0.069\\nsquared_error = 249.778\\nsamples = 9\\nvalue = 85.0'),\n",
       " Text(0.6445880452342488, 0.4411764705882353, 'X[8] <= -0.003\\nsquared_error = 154.438\\nsamples = 8\\nvalue = 88.75'),\n",
       " Text(0.6381260096930533, 0.38235294117647056, 'X[1] <= 0.003\\nsquared_error = 85.36\\nsamples = 5\\nvalue = 95.8'),\n",
       " Text(0.6348949919224556, 0.3235294117647059, 'X[3] <= -0.037\\nsquared_error = 43.688\\nsamples = 4\\nvalue = 92.25'),\n",
       " Text(0.6316639741518578, 0.2647058823529412, 'X[3] <= -0.045\\nsquared_error = 6.889\\nsamples = 3\\nvalue = 88.667'),\n",
       " Text(0.6284329563812601, 0.20588235294117646, 'X[6] <= 0.003\\nsquared_error = 0.25\\nsamples = 2\\nvalue = 90.5'),\n",
       " Text(0.6252019386106623, 0.14705882352941177, 'squared_error = 0.0\\nsamples = 1\\nvalue = 91.0'),\n",
       " Text(0.6316639741518578, 0.14705882352941177, 'squared_error = 0.0\\nsamples = 1\\nvalue = 90.0'),\n",
       " Text(0.6348949919224556, 0.20588235294117646, 'squared_error = 0.0\\nsamples = 1\\nvalue = 85.0'),\n",
       " Text(0.6381260096930533, 0.2647058823529412, 'squared_error = 0.0\\nsamples = 1\\nvalue = 103.0'),\n",
       " Text(0.6413570274636511, 0.3235294117647059, 'squared_error = 0.0\\nsamples = 1\\nvalue = 110.0'),\n",
       " Text(0.6510500807754442, 0.38235294117647056, 'X[5] <= 0.02\\nsquared_error = 48.667\\nsamples = 3\\nvalue = 77.0'),\n",
       " Text(0.6478190630048465, 0.3235294117647059, 'X[8] <= 0.007\\nsquared_error = 12.25\\nsamples = 2\\nvalue = 81.5'),\n",
       " Text(0.6445880452342488, 0.2647058823529412, 'squared_error = 0.0\\nsamples = 1\\nvalue = 78.0'),\n",
       " Text(0.6510500807754442, 0.2647058823529412, 'squared_error = 0.0\\nsamples = 1\\nvalue = 85.0'),\n",
       " Text(0.654281098546042, 0.3235294117647059, 'squared_error = 0.0\\nsamples = 1\\nvalue = 68.0'),\n",
       " Text(0.6510500807754442, 0.4411764705882353, 'squared_error = 0.0\\nsamples = 1\\nvalue = 55.0'),\n",
       " Text(0.6704361873990307, 0.5588235294117647, 'X[5] <= 0.015\\nsquared_error = 531.938\\nsamples = 8\\nvalue = 144.25'),\n",
       " Text(0.6639741518578353, 0.5, 'X[3] <= 0.008\\nsquared_error = 259.889\\nsamples = 6\\nvalue = 133.667'),\n",
       " Text(0.6607431340872375, 0.4411764705882353, 'X[6] <= -0.038\\nsquared_error = 23.44\\nsamples = 5\\nvalue = 140.6'),\n",
       " Text(0.6575121163166397, 0.38235294117647056, 'squared_error = 0.0\\nsamples = 1\\nvalue = 132.0'),\n",
       " Text(0.6639741518578353, 0.38235294117647056, 'X[2] <= 0.042\\nsquared_error = 6.188\\nsamples = 4\\nvalue = 142.75'),\n",
       " Text(0.6607431340872375, 0.3235294117647059, 'squared_error = 0.0\\nsamples = 1\\nvalue = 147.0'),\n",
       " Text(0.6672051696284329, 0.3235294117647059, 'X[8] <= -0.058\\nsquared_error = 0.222\\nsamples = 3\\nvalue = 141.333'),\n",
       " Text(0.6639741518578353, 0.2647058823529412, 'squared_error = 0.0\\nsamples = 1\\nvalue = 142.0'),\n",
       " Text(0.6704361873990307, 0.2647058823529412, 'squared_error = 0.0\\nsamples = 2\\nvalue = 141.0'),\n",
       " Text(0.6672051696284329, 0.4411764705882353, 'squared_error = 0.0\\nsamples = 1\\nvalue = 99.0'),\n",
       " Text(0.6768982229402262, 0.5, 'X[7] <= 0.053\\nsquared_error = 4.0\\nsamples = 2\\nvalue = 176.0'),\n",
       " Text(0.6736672051696284, 0.4411764705882353, 'squared_error = 0.0\\nsamples = 1\\nvalue = 178.0'),\n",
       " Text(0.6801292407108239, 0.4411764705882353, 'squared_error = 0.0\\nsamples = 1\\nvalue = 174.0'),\n",
       " Text(0.7075928917609047, 0.6176470588235294, 'X[7] <= 0.086\\nsquared_error = 1748.188\\nsamples = 8\\nvalue = 158.25'),\n",
       " Text(0.6962843295638126, 0.5588235294117647, 'X[1] <= 0.003\\nsquared_error = 621.76\\nsamples = 5\\nvalue = 184.8'),\n",
       " Text(0.6898222940226171, 0.5, 'X[2] <= 0.053\\nsquared_error = 304.889\\nsamples = 3\\nvalue = 168.667'),\n",
       " Text(0.6865912762520194, 0.4411764705882353, 'X[4] <= 0.058\\nsquared_error = 49.0\\nsamples = 2\\nvalue = 157.0'),\n",
       " Text(0.6833602584814217, 0.38235294117647056, 'squared_error = 0.0\\nsamples = 1\\nvalue = 150.0'),\n",
       " Text(0.6898222940226171, 0.38235294117647056, 'squared_error = 0.0\\nsamples = 1\\nvalue = 164.0'),\n",
       " Text(0.6930533117932148, 0.4411764705882353, 'squared_error = 0.0\\nsamples = 1\\nvalue = 192.0'),\n",
       " Text(0.7027463651050081, 0.5, 'X[6] <= -0.018\\nsquared_error = 121.0\\nsamples = 2\\nvalue = 209.0'),\n",
       " Text(0.6995153473344103, 0.4411764705882353, 'squared_error = 0.0\\nsamples = 1\\nvalue = 198.0'),\n",
       " Text(0.7059773828756059, 0.4411764705882353, 'squared_error = 0.0\\nsamples = 1\\nvalue = 220.0'),\n",
       " Text(0.7189014539579968, 0.5588235294117647, 'X[0] <= 0.002\\nsquared_error = 492.667\\nsamples = 3\\nvalue = 114.0'),\n",
       " Text(0.715670436187399, 0.5, 'X[2] <= 0.055\\nsquared_error = 64.0\\nsamples = 2\\nvalue = 129.0'),\n",
       " Text(0.7124394184168013, 0.4411764705882353, 'squared_error = 0.0\\nsamples = 1\\nvalue = 137.0'),\n",
       " Text(0.7189014539579968, 0.4411764705882353, 'squared_error = 0.0\\nsamples = 1\\nvalue = 121.0'),\n",
       " Text(0.7221324717285945, 0.5, 'squared_error = 0.0\\nsamples = 1\\nvalue = 84.0'),\n",
       " Text(0.7904886914378029, 0.7941176470588235, 'X[8] <= 0.026\\nsquared_error = 2685.22\\nsamples = 41\\nvalue = 223.0'),\n",
       " Text(0.7447495961227787, 0.7352941176470589, 'X[9] <= -0.007\\nsquared_error = 3327.49\\nsamples = 14\\nvalue = 190.286'),\n",
       " Text(0.7350565428109854, 0.6764705882352942, 'X[2] <= 0.05\\nsquared_error = 1907.36\\nsamples = 5\\nvalue = 243.2'),\n",
       " Text(0.72859450726979, 0.6176470588235294, 'X[1] <= 0.003\\nsquared_error = 688.889\\nsamples = 3\\nvalue = 211.667'),\n",
       " Text(0.7253634894991923, 0.5588235294117647, 'squared_error = 0.0\\nsamples = 1\\nvalue = 175.0'),\n",
       " Text(0.7318255250403877, 0.5588235294117647, 'X[4] <= -0.013\\nsquared_error = 25.0\\nsamples = 2\\nvalue = 230.0'),\n",
       " Text(0.72859450726979, 0.5, 'squared_error = 0.0\\nsamples = 1\\nvalue = 225.0'),\n",
       " Text(0.7350565428109854, 0.5, 'squared_error = 0.0\\nsamples = 1\\nvalue = 235.0'),\n",
       " Text(0.7415185783521809, 0.6176470588235294, 'X[6] <= -0.012\\nsquared_error = 6.25\\nsamples = 2\\nvalue = 290.5'),\n",
       " Text(0.7382875605815832, 0.5588235294117647, 'squared_error = 0.0\\nsamples = 1\\nvalue = 288.0'),\n",
       " Text(0.7447495961227787, 0.5588235294117647, 'squared_error = 0.0\\nsamples = 1\\nvalue = 293.0'),\n",
       " Text(0.7544426494345718, 0.6764705882352942, 'X[6] <= -0.051\\nsquared_error = 1696.765\\nsamples = 9\\nvalue = 160.889'),\n",
       " Text(0.7512116316639742, 0.6176470588235294, 'squared_error = 0.0\\nsamples = 1\\nvalue = 244.0'),\n",
       " Text(0.7576736672051696, 0.6176470588235294, 'X[0] <= -0.0\\nsquared_error = 937.5\\nsamples = 8\\nvalue = 150.5'),\n",
       " Text(0.7512116316639742, 0.5588235294117647, 'X[2] <= 0.042\\nsquared_error = 4.0\\nsamples = 2\\nvalue = 111.0'),\n",
       " Text(0.7479806138933764, 0.5, 'squared_error = 0.0\\nsamples = 1\\nvalue = 113.0'),\n",
       " Text(0.7544426494345718, 0.5, 'squared_error = 0.0\\nsamples = 1\\nvalue = 109.0'),\n",
       " Text(0.7641357027463651, 0.5588235294117647, 'X[3] <= 0.08\\nsquared_error = 555.222\\nsamples = 6\\nvalue = 163.667'),\n",
       " Text(0.7609046849757674, 0.5, 'X[6] <= -0.031\\nsquared_error = 313.6\\nsamples = 5\\nvalue = 156.0'),\n",
       " Text(0.7544426494345718, 0.4411764705882353, 'X[6] <= -0.034\\nsquared_error = 6.25\\nsamples = 2\\nvalue = 175.5'),\n",
       " Text(0.7512116316639742, 0.38235294117647056, 'squared_error = 0.0\\nsamples = 1\\nvalue = 173.0'),\n",
       " Text(0.7576736672051696, 0.38235294117647056, 'squared_error = 0.0\\nsamples = 1\\nvalue = 178.0'),\n",
       " Text(0.7673667205169629, 0.4411764705882353, 'X[0] <= 0.024\\nsquared_error = 96.0\\nsamples = 3\\nvalue = 143.0'),\n",
       " Text(0.7641357027463651, 0.38235294117647056, 'squared_error = 0.0\\nsamples = 1\\nvalue = 131.0'),\n",
       " Text(0.7705977382875606, 0.38235294117647056, 'X[6] <= 0.012\\nsquared_error = 36.0\\nsamples = 2\\nvalue = 149.0'),\n",
       " Text(0.7673667205169629, 0.3235294117647059, 'squared_error = 0.0\\nsamples = 1\\nvalue = 155.0'),\n",
       " Text(0.7738287560581584, 0.3235294117647059, 'squared_error = 0.0\\nsamples = 1\\nvalue = 143.0'),\n",
       " Text(0.7673667205169629, 0.5, 'squared_error = 0.0\\nsamples = 1\\nvalue = 202.0'),\n",
       " Text(0.8362277867528272, 0.7352941176470589, 'X[3] <= 0.055\\nsquared_error = 1509.517\\nsamples = 27\\nvalue = 239.963'),\n",
       " Text(0.8138126009693053, 0.6764705882352942, 'X[0] <= 0.051\\nsquared_error = 1219.393\\nsamples = 14\\nvalue = 221.5'),\n",
       " Text(0.7988691437802908, 0.6176470588235294, 'X[5] <= -0.019\\nsquared_error = 632.975\\nsamples = 11\\nvalue = 233.455'),\n",
       " Text(0.7835218093699515, 0.5588235294117647, 'X[3] <= 0.049\\nsquared_error = 411.04\\nsamples = 5\\nvalue = 251.6'),\n",
       " Text(0.777059773828756, 0.5, 'X[0] <= -0.007\\nsquared_error = 133.556\\nsamples = 3\\nvalue = 237.333'),\n",
       " Text(0.7738287560581584, 0.4411764705882353, 'squared_error = 0.0\\nsamples = 1\\nvalue = 221.0'),\n",
       " Text(0.7802907915993538, 0.4411764705882353, 'X[1] <= 0.003\\nsquared_error = 0.25\\nsamples = 2\\nvalue = 245.5'),\n",
       " Text(0.777059773828756, 0.38235294117647056, 'squared_error = 0.0\\nsamples = 1\\nvalue = 246.0'),\n",
       " Text(0.7835218093699515, 0.38235294117647056, 'squared_error = 0.0\\nsamples = 1\\nvalue = 245.0'),\n",
       " Text(0.789983844911147, 0.5, 'X[2] <= 0.042\\nsquared_error = 64.0\\nsamples = 2\\nvalue = 273.0'),\n",
       " Text(0.7867528271405493, 0.4411764705882353, 'squared_error = 0.0\\nsamples = 1\\nvalue = 265.0'),\n",
       " Text(0.7932148626817448, 0.4411764705882353, 'squared_error = 0.0\\nsamples = 1\\nvalue = 281.0'),\n",
       " Text(0.81421647819063, 0.5588235294117647, 'X[4] <= 0.051\\nsquared_error = 314.889\\nsamples = 6\\nvalue = 218.333'),\n",
       " Text(0.8061389337641357, 0.5, 'X[7] <= 0.022\\nsquared_error = 48.688\\nsamples = 4\\nvalue = 206.75'),\n",
       " Text(0.7996768982229402, 0.4411764705882353, 'X[7] <= -0.015\\nsquared_error = 4.0\\nsamples = 2\\nvalue = 200.0'),\n",
       " Text(0.7964458804523424, 0.38235294117647056, 'squared_error = 0.0\\nsamples = 1\\nvalue = 202.0'),\n",
       " Text(0.802907915993538, 0.38235294117647056, 'squared_error = 0.0\\nsamples = 1\\nvalue = 198.0'),\n",
       " Text(0.8126009693053312, 0.4411764705882353, 'X[0] <= 0.013\\nsquared_error = 2.25\\nsamples = 2\\nvalue = 213.5'),\n",
       " Text(0.8093699515347335, 0.38235294117647056, 'squared_error = 0.0\\nsamples = 1\\nvalue = 215.0'),\n",
       " Text(0.815831987075929, 0.38235294117647056, 'squared_error = 0.0\\nsamples = 1\\nvalue = 212.0'),\n",
       " Text(0.8222940226171244, 0.5, 'X[4] <= 0.054\\nsquared_error = 42.25\\nsamples = 2\\nvalue = 241.5'),\n",
       " Text(0.8190630048465266, 0.4411764705882353, 'squared_error = 0.0\\nsamples = 1\\nvalue = 248.0'),\n",
       " Text(0.8255250403877221, 0.4411764705882353, 'squared_error = 0.0\\nsamples = 1\\nvalue = 235.0'),\n",
       " Text(0.8287560581583199, 0.6176470588235294, 'X[3] <= 0.044\\nsquared_error = 924.222\\nsamples = 3\\nvalue = 177.667'),\n",
       " Text(0.8255250403877221, 0.5588235294117647, 'squared_error = 0.0\\nsamples = 1\\nvalue = 220.0'),\n",
       " Text(0.8319870759289176, 0.5588235294117647, 'X[8] <= 0.058\\nsquared_error = 42.25\\nsamples = 2\\nvalue = 156.5'),\n",
       " Text(0.8287560581583199, 0.5, 'squared_error = 0.0\\nsamples = 1\\nvalue = 163.0'),\n",
       " Text(0.8352180936995154, 0.5, 'squared_error = 0.0\\nsamples = 1\\nvalue = 150.0'),\n",
       " Text(0.8586429725363489, 0.6764705882352942, 'X[0] <= -0.004\\nsquared_error = 1059.515\\nsamples = 13\\nvalue = 259.846'),\n",
       " Text(0.8416801292407108, 0.6176470588235294, 'X[8] <= 0.053\\nsquared_error = 583.688\\nsamples = 4\\nvalue = 228.25'),\n",
       " Text(0.8384491114701131, 0.5588235294117647, 'squared_error = 0.0\\nsamples = 1\\nvalue = 195.0'),\n",
       " Text(0.8449111470113085, 0.5588235294117647, 'X[0] <= -0.044\\nsquared_error = 286.889\\nsamples = 3\\nvalue = 239.333'),\n",
       " Text(0.8416801292407108, 0.5, 'squared_error = 0.0\\nsamples = 1\\nvalue = 217.0'),\n",
       " Text(0.8481421647819063, 0.5, 'X[8] <= 0.067\\nsquared_error = 56.25\\nsamples = 2\\nvalue = 250.5'),\n",
       " Text(0.8449111470113085, 0.4411764705882353, 'squared_error = 0.0\\nsamples = 1\\nvalue = 258.0'),\n",
       " Text(0.851373182552504, 0.4411764705882353, 'squared_error = 0.0\\nsamples = 1\\nvalue = 243.0'),\n",
       " Text(0.875605815831987, 0.6176470588235294, 'X[2] <= 0.059\\nsquared_error = 630.099\\nsamples = 9\\nvalue = 273.889'),\n",
       " Text(0.8675282714054927, 0.5588235294117647, 'X[2] <= 0.046\\nsquared_error = 537.388\\nsamples = 7\\nvalue = 281.571'),\n",
       " Text(0.8610662358642972, 0.5, 'X[2] <= 0.034\\nsquared_error = 399.44\\nsamples = 5\\nvalue = 271.6'),\n",
       " Text(0.8578352180936996, 0.4411764705882353, 'X[5] <= 0.032\\nsquared_error = 103.25\\nsamples = 4\\nvalue = 280.5'),\n",
       " Text(0.851373182552504, 0.38235294117647056, 'X[3] <= 0.091\\nsquared_error = 2.25\\nsamples = 2\\nvalue = 271.5'),\n",
       " Text(0.8481421647819063, 0.3235294117647059, 'squared_error = 0.0\\nsamples = 1\\nvalue = 273.0'),\n",
       " Text(0.8546042003231018, 0.3235294117647059, 'squared_error = 0.0\\nsamples = 1\\nvalue = 270.0'),\n",
       " Text(0.864297253634895, 0.38235294117647056, 'X[5] <= 0.064\\nsquared_error = 42.25\\nsamples = 2\\nvalue = 289.5'),\n",
       " Text(0.8610662358642972, 0.3235294117647059, 'squared_error = 0.0\\nsamples = 1\\nvalue = 296.0'),\n",
       " Text(0.8675282714054927, 0.3235294117647059, 'squared_error = 0.0\\nsamples = 1\\nvalue = 283.0'),\n",
       " Text(0.864297253634895, 0.4411764705882353, 'squared_error = 0.0\\nsamples = 1\\nvalue = 236.0'),\n",
       " Text(0.8739903069466882, 0.5, 'X[7] <= 0.034\\nsquared_error = 12.25\\nsamples = 2\\nvalue = 306.5'),\n",
       " Text(0.8707592891760905, 0.4411764705882353, 'squared_error = 0.0\\nsamples = 1\\nvalue = 303.0'),\n",
       " Text(0.877221324717286, 0.4411764705882353, 'squared_error = 0.0\\nsamples = 1\\nvalue = 310.0'),\n",
       " Text(0.8836833602584814, 0.5588235294117647, 'X[3] <= 0.08\\nsquared_error = 25.0\\nsamples = 2\\nvalue = 247.0'),\n",
       " Text(0.8804523424878837, 0.5, 'squared_error = 0.0\\nsamples = 1\\nvalue = 242.0'),\n",
       " Text(0.8869143780290791, 0.5, 'squared_error = 0.0\\nsamples = 1\\nvalue = 252.0'),\n",
       " Text(0.9563812600969306, 0.8529411764705882, 'X[5] <= 0.022\\nsquared_error = 2797.562\\nsamples = 22\\nvalue = 273.727'),\n",
       " Text(0.9353796445880452, 0.7941176470588235, 'X[6] <= -0.019\\nsquared_error = 959.049\\nsamples = 15\\nvalue = 296.867'),\n",
       " Text(0.9159935379644588, 0.7352941176470589, 'X[8] <= 0.032\\nsquared_error = 818.0\\nsamples = 11\\nvalue = 308.0'),\n",
       " Text(0.8998384491114702, 0.6764705882352942, 'X[2] <= 0.108\\nsquared_error = 72.56\\nsamples = 5\\nvalue = 335.2'),\n",
       " Text(0.8933764135702746, 0.6176470588235294, 'X[0] <= 0.04\\nsquared_error = 30.25\\nsamples = 2\\nvalue = 326.5'),\n",
       " Text(0.8901453957996769, 0.5588235294117647, 'squared_error = 0.0\\nsamples = 1\\nvalue = 321.0'),\n",
       " Text(0.8966074313408724, 0.5588235294117647, 'squared_error = 0.0\\nsamples = 1\\nvalue = 332.0'),\n",
       " Text(0.9063004846526656, 0.6176470588235294, 'X[3] <= -0.009\\nsquared_error = 16.667\\nsamples = 3\\nvalue = 341.0'),\n",
       " Text(0.9030694668820679, 0.5588235294117647, 'squared_error = 0.0\\nsamples = 1\\nvalue = 346.0'),\n",
       " Text(0.9095315024232633, 0.5588235294117647, 'X[2] <= 0.118\\nsquared_error = 6.25\\nsamples = 2\\nvalue = 338.5'),\n",
       " Text(0.9063004846526656, 0.5, 'squared_error = 0.0\\nsamples = 1\\nvalue = 336.0'),\n",
       " Text(0.9127625201938611, 0.5, 'squared_error = 0.0\\nsamples = 1\\nvalue = 341.0'),\n",
       " Text(0.9321486268174475, 0.6764705882352942, 'X[5] <= 0.008\\nsquared_error = 308.889\\nsamples = 6\\nvalue = 285.333'),\n",
       " Text(0.925686591276252, 0.6176470588235294, 'X[9] <= 0.073\\nsquared_error = 42.75\\nsamples = 4\\nvalue = 273.5'),\n",
       " Text(0.9224555735056543, 0.5588235294117647, 'X[6] <= -0.056\\nsquared_error = 8.0\\nsamples = 3\\nvalue = 277.0'),\n",
       " Text(0.9192245557350566, 0.5, 'squared_error = 0.0\\nsamples = 1\\nvalue = 281.0'),\n",
       " Text(0.925686591276252, 0.5, 'squared_error = 0.0\\nsamples = 2\\nvalue = 275.0'),\n",
       " Text(0.9289176090468497, 0.5588235294117647, 'squared_error = 0.0\\nsamples = 1\\nvalue = 263.0'),\n",
       " Text(0.938610662358643, 0.6176470588235294, 'X[2] <= 0.108\\nsquared_error = 1.0\\nsamples = 2\\nvalue = 309.0'),\n",
       " Text(0.9353796445880452, 0.5588235294117647, 'squared_error = 0.0\\nsamples = 1\\nvalue = 310.0'),\n",
       " Text(0.9418416801292407, 0.5588235294117647, 'squared_error = 0.0\\nsamples = 1\\nvalue = 308.0'),\n",
       " Text(0.9547657512116317, 0.7352941176470589, 'X[9] <= 0.04\\nsquared_error = 68.688\\nsamples = 4\\nvalue = 266.25'),\n",
       " Text(0.9483037156704361, 0.6764705882352942, 'X[5] <= -0.007\\nsquared_error = 1.0\\nsamples = 2\\nvalue = 258.0'),\n",
       " Text(0.9450726978998385, 0.6176470588235294, 'squared_error = 0.0\\nsamples = 1\\nvalue = 259.0'),\n",
       " Text(0.9515347334410339, 0.6176470588235294, 'squared_error = 0.0\\nsamples = 1\\nvalue = 257.0'),\n",
       " Text(0.9612277867528272, 0.6764705882352942, 'X[5] <= -0.009\\nsquared_error = 0.25\\nsamples = 2\\nvalue = 274.5'),\n",
       " Text(0.9579967689822294, 0.6176470588235294, 'squared_error = 0.0\\nsamples = 1\\nvalue = 275.0'),\n",
       " Text(0.9644588045234249, 0.6176470588235294, 'squared_error = 0.0\\nsamples = 1\\nvalue = 274.0'),\n",
       " Text(0.9773828756058158, 0.7941176470588235, 'X[3] <= -0.022\\nsquared_error = 3131.265\\nsamples = 7\\nvalue = 224.143'),\n",
       " Text(0.9709208400646203, 0.7352941176470589, 'X[3] <= -0.031\\nsquared_error = 182.25\\nsamples = 2\\nvalue = 292.5'),\n",
       " Text(0.9676898222940227, 0.6764705882352942, 'squared_error = 0.0\\nsamples = 1\\nvalue = 306.0'),\n",
       " Text(0.9741518578352181, 0.6764705882352942, 'squared_error = 0.0\\nsamples = 1\\nvalue = 279.0'),\n",
       " Text(0.9838449111470113, 0.7352941176470589, 'X[3] <= -0.018\\nsquared_error = 1694.16\\nsamples = 5\\nvalue = 196.8'),\n",
       " Text(0.9806138933764136, 0.6764705882352942, 'squared_error = 0.0\\nsamples = 1\\nvalue = 128.0'),\n",
       " Text(0.9870759289176091, 0.6764705882352942, 'X[2] <= 0.096\\nsquared_error = 638.5\\nsamples = 4\\nvalue = 214.0'),\n",
       " Text(0.9806138933764136, 0.6176470588235294, 'X[5] <= 0.053\\nsquared_error = 100.0\\nsamples = 2\\nvalue = 190.0'),\n",
       " Text(0.9773828756058158, 0.5588235294117647, 'squared_error = 0.0\\nsamples = 1\\nvalue = 200.0'),\n",
       " Text(0.9838449111470113, 0.5588235294117647, 'squared_error = 0.0\\nsamples = 1\\nvalue = 180.0'),\n",
       " Text(0.9935379644588045, 0.6176470588235294, 'X[2] <= 0.118\\nsquared_error = 25.0\\nsamples = 2\\nvalue = 238.0'),\n",
       " Text(0.9903069466882067, 0.5588235294117647, 'squared_error = 0.0\\nsamples = 1\\nvalue = 243.0'),\n",
       " Text(0.9967689822294022, 0.5588235294117647, 'squared_error = 0.0\\nsamples = 1\\nvalue = 233.0')]"
      ]
     },
     "execution_count": 113,
     "metadata": {},
     "output_type": "execute_result"
    },
    {
     "data": {
      "image/png": "[encoded data removed]",
      "text/plain": [
       "<Figure size 432x288 with 1 Axes>"
      ]
     },
     "metadata": {
      "needs_background": "light"
     },
     "output_type": "display_data"
    }
   ],
   "source": [
    "tree.plot_tree(classifier)"
   ]
  },
  {
   "cell_type": "code",
   "execution_count": 115,
   "id": "ab6563d4",
   "metadata": {},
   "outputs": [
    {
     "ename": "ValueError",
     "evalue": "y_true and y_pred have different number of output (10!=1)",
     "output_type": "error",
     "traceback": [
      "\u001b[1;31m---------------------------------------------------------------------------\u001b[0m",
      "\u001b[1;31mValueError\u001b[0m                                Traceback (most recent call last)",
      "Input \u001b[1;32mIn [115]\u001b[0m, in \u001b[0;36m<cell line: 1>\u001b[1;34m()\u001b[0m\n\u001b[1;32m----> 1\u001b[0m \u001b[38;5;28mprint\u001b[39m(\u001b[38;5;124m'\u001b[39m\u001b[38;5;124mMean Absolute Error:\u001b[39m\u001b[38;5;124m'\u001b[39m, \u001b[43mmetrics\u001b[49m\u001b[38;5;241;43m.\u001b[39;49m\u001b[43mmean_absolute_error\u001b[49m\u001b[43m(\u001b[49m\u001b[43mdata_test\u001b[49m\u001b[43m,\u001b[49m\u001b[43m \u001b[49m\u001b[43mPrediction\u001b[49m\u001b[43m)\u001b[49m)\n\u001b[0;32m      2\u001b[0m \u001b[38;5;28mprint\u001b[39m(\u001b[38;5;124m'\u001b[39m\u001b[38;5;124mMean Squared Error:\u001b[39m\u001b[38;5;124m'\u001b[39m, metrics\u001b[38;5;241m.\u001b[39mmean_squared_error(data_test, Prediction))\n\u001b[0;32m      3\u001b[0m \u001b[38;5;28mprint\u001b[39m(\u001b[38;5;124m'\u001b[39m\u001b[38;5;124mRoot Mean Squared Error:\u001b[39m\u001b[38;5;124m'\u001b[39m, np\u001b[38;5;241m.\u001b[39msqrt(metrics\u001b[38;5;241m.\u001b[39mmean_squared_error(data_test, Prediction)))\n",
      "File \u001b[1;32mC:\\Sw_installed\\lib\\site-packages\\sklearn\\metrics\\_regression.py:191\u001b[0m, in \u001b[0;36mmean_absolute_error\u001b[1;34m(y_true, y_pred, sample_weight, multioutput)\u001b[0m\n\u001b[0;32m    135\u001b[0m \u001b[38;5;28;01mdef\u001b[39;00m \u001b[38;5;21mmean_absolute_error\u001b[39m(\n\u001b[0;32m    136\u001b[0m     y_true, y_pred, \u001b[38;5;241m*\u001b[39m, sample_weight\u001b[38;5;241m=\u001b[39m\u001b[38;5;28;01mNone\u001b[39;00m, multioutput\u001b[38;5;241m=\u001b[39m\u001b[38;5;124m\"\u001b[39m\u001b[38;5;124muniform_average\u001b[39m\u001b[38;5;124m\"\u001b[39m\n\u001b[0;32m    137\u001b[0m ):\n\u001b[0;32m    138\u001b[0m     \u001b[38;5;124;03m\"\"\"Mean absolute error regression loss.\u001b[39;00m\n\u001b[0;32m    139\u001b[0m \n\u001b[0;32m    140\u001b[0m \u001b[38;5;124;03m    Read more in the :ref:`User Guide <mean_absolute_error>`.\u001b[39;00m\n\u001b[1;32m   (...)\u001b[0m\n\u001b[0;32m    189\u001b[0m \u001b[38;5;124;03m    0.85...\u001b[39;00m\n\u001b[0;32m    190\u001b[0m \u001b[38;5;124;03m    \"\"\"\u001b[39;00m\n\u001b[1;32m--> 191\u001b[0m     y_type, y_true, y_pred, multioutput \u001b[38;5;241m=\u001b[39m \u001b[43m_check_reg_targets\u001b[49m\u001b[43m(\u001b[49m\n\u001b[0;32m    192\u001b[0m \u001b[43m        \u001b[49m\u001b[43my_true\u001b[49m\u001b[43m,\u001b[49m\u001b[43m \u001b[49m\u001b[43my_pred\u001b[49m\u001b[43m,\u001b[49m\u001b[43m \u001b[49m\u001b[43mmultioutput\u001b[49m\n\u001b[0;32m    193\u001b[0m \u001b[43m    \u001b[49m\u001b[43m)\u001b[49m\n\u001b[0;32m    194\u001b[0m     check_consistent_length(y_true, y_pred, sample_weight)\n\u001b[0;32m    195\u001b[0m     output_errors \u001b[38;5;241m=\u001b[39m np\u001b[38;5;241m.\u001b[39maverage(np\u001b[38;5;241m.\u001b[39mabs(y_pred \u001b[38;5;241m-\u001b[39m y_true), weights\u001b[38;5;241m=\u001b[39msample_weight, axis\u001b[38;5;241m=\u001b[39m\u001b[38;5;241m0\u001b[39m)\n",
      "File \u001b[1;32mC:\\Sw_installed\\lib\\site-packages\\sklearn\\metrics\\_regression.py:105\u001b[0m, in \u001b[0;36m_check_reg_targets\u001b[1;34m(y_true, y_pred, multioutput, dtype)\u001b[0m\n\u001b[0;32m    102\u001b[0m     y_pred \u001b[38;5;241m=\u001b[39m y_pred\u001b[38;5;241m.\u001b[39mreshape((\u001b[38;5;241m-\u001b[39m\u001b[38;5;241m1\u001b[39m, \u001b[38;5;241m1\u001b[39m))\n\u001b[0;32m    104\u001b[0m \u001b[38;5;28;01mif\u001b[39;00m y_true\u001b[38;5;241m.\u001b[39mshape[\u001b[38;5;241m1\u001b[39m] \u001b[38;5;241m!=\u001b[39m y_pred\u001b[38;5;241m.\u001b[39mshape[\u001b[38;5;241m1\u001b[39m]:\n\u001b[1;32m--> 105\u001b[0m     \u001b[38;5;28;01mraise\u001b[39;00m \u001b[38;5;167;01mValueError\u001b[39;00m(\n\u001b[0;32m    106\u001b[0m         \u001b[38;5;124m\"\u001b[39m\u001b[38;5;124my_true and y_pred have different number of output (\u001b[39m\u001b[38;5;132;01m{0}\u001b[39;00m\u001b[38;5;124m!=\u001b[39m\u001b[38;5;132;01m{1}\u001b[39;00m\u001b[38;5;124m)\u001b[39m\u001b[38;5;124m\"\u001b[39m\u001b[38;5;241m.\u001b[39mformat(\n\u001b[0;32m    107\u001b[0m             y_true\u001b[38;5;241m.\u001b[39mshape[\u001b[38;5;241m1\u001b[39m], y_pred\u001b[38;5;241m.\u001b[39mshape[\u001b[38;5;241m1\u001b[39m]\n\u001b[0;32m    108\u001b[0m         )\n\u001b[0;32m    109\u001b[0m     )\n\u001b[0;32m    111\u001b[0m n_outputs \u001b[38;5;241m=\u001b[39m y_true\u001b[38;5;241m.\u001b[39mshape[\u001b[38;5;241m1\u001b[39m]\n\u001b[0;32m    112\u001b[0m allowed_multioutput_str \u001b[38;5;241m=\u001b[39m (\u001b[38;5;124m\"\u001b[39m\u001b[38;5;124mraw_values\u001b[39m\u001b[38;5;124m\"\u001b[39m, \u001b[38;5;124m\"\u001b[39m\u001b[38;5;124muniform_average\u001b[39m\u001b[38;5;124m\"\u001b[39m, \u001b[38;5;124m\"\u001b[39m\u001b[38;5;124mvariance_weighted\u001b[39m\u001b[38;5;124m\"\u001b[39m)\n",
      "\u001b[1;31mValueError\u001b[0m: y_true and y_pred have different number of output (10!=1)"
     ]
    }
   ],
   "source": [
    "print('Mean Absolute Error:', metrics.mean_absolute_error(data_test, Prediction))\n",
    "print('Mean Squared Error:', metrics.mean_squared_error(data_test, Prediction))\n",
    "print('Root Mean Squared Error:', np.sqrt(metrics.mean_squared_error(data_test, Prediction)))"
   ]
  },
  {
   "cell_type": "code",
   "execution_count": null,
   "id": "e90254cf",
   "metadata": {},
   "outputs": [],
   "source": []
  }
 ],
 "metadata": {
  "kernelspec": {
   "display_name": "Python 3 (ipykernel)",
   "language": "python",
   "name": "python3"
  },
  "language_info": {
   "codemirror_mode": {
    "name": "ipython",
    "version": 3
   },
   "file_extension": ".py",
   "mimetype": "text/x-python",
   "name": "python",
   "nbconvert_exporter": "python",
   "pygments_lexer": "ipython3",
   "version": "3.9.12"
  }
 },
 "nbformat": 4,
 "nbformat_minor": 5
}
